{
 "cells": [
  {
   "cell_type": "code",
   "execution_count": 1,
   "metadata": {},
   "outputs": [
    {
     "name": "stdout",
     "output_type": "stream",
     "text": [
      "The Zen of Python, by Tim Peters\n",
      "\n",
      "Beautiful is better than ugly.\n",
      "Explicit is better than implicit.\n",
      "Simple is better than complex.\n",
      "Complex is better than complicated.\n",
      "Flat is better than nested.\n",
      "Sparse is better than dense.\n",
      "Readability counts.\n",
      "Special cases aren't special enough to break the rules.\n",
      "Although practicality beats purity.\n",
      "Errors should never pass silently.\n",
      "Unless explicitly silenced.\n",
      "In the face of ambiguity, refuse the temptation to guess.\n",
      "There should be one-- and preferably only one --obvious way to do it.\n",
      "Although that way may not be obvious at first unless you're Dutch.\n",
      "Now is better than never.\n",
      "Although never is often better than *right* now.\n",
      "If the implementation is hard to explain, it's a bad idea.\n",
      "If the implementation is easy to explain, it may be a good idea.\n",
      "Namespaces are one honking great idea -- let's do more of those!\n"
     ]
    }
   ],
   "source": [
    "import this"
   ]
  },
  {
   "cell_type": "code",
   "execution_count": 2,
   "metadata": {},
   "outputs": [],
   "source": [
    "import pandas as pd\n",
    "import seaborn as sns\n",
    "import matplotlib.pyplot as plt\n",
    "import numpy as np\n",
    "from sklearn.preprocessing import StandardScaler\n",
    "from sklearn.decomposition import PCA"
   ]
  },
  {
   "cell_type": "markdown",
   "metadata": {},
   "source": [
    "# importer les fichiers"
   ]
  },
  {
   "cell_type": "code",
   "execution_count": 3,
   "metadata": {},
   "outputs": [],
   "source": [
    "## visualisation des données sous forme de dataframe\n",
    "origines= pd.read_csv(\"data/origine.csv.csv\")\n",
    "analyses_bioch = pd.read_csv(\"data/ags.csv.csv\")"
   ]
  },
  {
   "cell_type": "code",
   "execution_count": 4,
   "metadata": {},
   "outputs": [
    {
     "data": {
      "text/html": [
       "<div>\n",
       "<style scoped>\n",
       "    .dataframe tbody tr th:only-of-type {\n",
       "        vertical-align: middle;\n",
       "    }\n",
       "\n",
       "    .dataframe tbody tr th {\n",
       "        vertical-align: top;\n",
       "    }\n",
       "\n",
       "    .dataframe thead th {\n",
       "        text-align: right;\n",
       "    }\n",
       "</style>\n",
       "<table border=\"1\" class=\"dataframe\">\n",
       "  <thead>\n",
       "    <tr style=\"text-align: right;\">\n",
       "      <th></th>\n",
       "      <th>nom</th>\n",
       "      <th>origine</th>\n",
       "    </tr>\n",
       "  </thead>\n",
       "  <tbody>\n",
       "    <tr>\n",
       "      <th>0</th>\n",
       "      <td>AP01</td>\n",
       "      <td>AP</td>\n",
       "    </tr>\n",
       "    <tr>\n",
       "      <th>1</th>\n",
       "      <td>AP02</td>\n",
       "      <td>AP</td>\n",
       "    </tr>\n",
       "    <tr>\n",
       "      <th>2</th>\n",
       "      <td>AP03</td>\n",
       "      <td>AP</td>\n",
       "    </tr>\n",
       "    <tr>\n",
       "      <th>3</th>\n",
       "      <td>AP04</td>\n",
       "      <td>AP</td>\n",
       "    </tr>\n",
       "    <tr>\n",
       "      <th>4</th>\n",
       "      <td>AP05</td>\n",
       "      <td>AP</td>\n",
       "    </tr>\n",
       "  </tbody>\n",
       "</table>\n",
       "</div>"
      ],
      "text/plain": [
       "     nom origine\n",
       "0  AP01       AP\n",
       "1  AP02       AP\n",
       "2  AP03       AP\n",
       "3  AP04       AP\n",
       "4  AP05       AP"
      ]
     },
     "execution_count": 4,
     "metadata": {},
     "output_type": "execute_result"
    }
   ],
   "source": [
    "origines.head()"
   ]
  },
  {
   "cell_type": "code",
   "execution_count": 5,
   "metadata": {},
   "outputs": [
    {
     "data": {
      "text/html": [
       "<div>\n",
       "<style scoped>\n",
       "    .dataframe tbody tr th:only-of-type {\n",
       "        vertical-align: middle;\n",
       "    }\n",
       "\n",
       "    .dataframe tbody tr th {\n",
       "        vertical-align: top;\n",
       "    }\n",
       "\n",
       "    .dataframe thead th {\n",
       "        text-align: right;\n",
       "    }\n",
       "</style>\n",
       "<table border=\"1\" class=\"dataframe\">\n",
       "  <thead>\n",
       "    <tr style=\"text-align: right;\">\n",
       "      <th></th>\n",
       "      <th></th>\n",
       "      <th>C16:0</th>\n",
       "      <th>C16:1w9</th>\n",
       "      <th>C16:1w7</th>\n",
       "      <th>C17:0</th>\n",
       "      <th>C17:1w8</th>\n",
       "      <th>C18:0</th>\n",
       "      <th>C18:1w9</th>\n",
       "      <th>C18:1w7</th>\n",
       "      <th>C18:2w6</th>\n",
       "      <th>C18:3w3</th>\n",
       "      <th>C20:0</th>\n",
       "      <th>C20:1w9</th>\n",
       "      <th>C22:0</th>\n",
       "      <th>C24:0</th>\n",
       "      <th>Squalene</th>\n",
       "    </tr>\n",
       "  </thead>\n",
       "  <tbody>\n",
       "    <tr>\n",
       "      <th>0</th>\n",
       "      <td>AP01</td>\n",
       "      <td>13.22</td>\n",
       "      <td>0.10</td>\n",
       "      <td>1.01</td>\n",
       "      <td>0.06</td>\n",
       "      <td>0.11</td>\n",
       "      <td>2.03</td>\n",
       "      <td>71.06</td>\n",
       "      <td>2.61</td>\n",
       "      <td>8.37</td>\n",
       "      <td>0.69</td>\n",
       "      <td>0.34</td>\n",
       "      <td>0.24</td>\n",
       "      <td>0.11</td>\n",
       "      <td>0.05</td>\n",
       "      <td>0.65</td>\n",
       "    </tr>\n",
       "    <tr>\n",
       "      <th>1</th>\n",
       "      <td>AP02</td>\n",
       "      <td>14.32</td>\n",
       "      <td>0.12</td>\n",
       "      <td>1.06</td>\n",
       "      <td>0.09</td>\n",
       "      <td>0.16</td>\n",
       "      <td>2.34</td>\n",
       "      <td>67.34</td>\n",
       "      <td>2.51</td>\n",
       "      <td>10.74</td>\n",
       "      <td>0.55</td>\n",
       "      <td>0.38</td>\n",
       "      <td>0.22</td>\n",
       "      <td>0.11</td>\n",
       "      <td>0.05</td>\n",
       "      <td>0.59</td>\n",
       "    </tr>\n",
       "    <tr>\n",
       "      <th>2</th>\n",
       "      <td>AP03</td>\n",
       "      <td>14.00</td>\n",
       "      <td>0.12</td>\n",
       "      <td>1.06</td>\n",
       "      <td>0.10</td>\n",
       "      <td>0.17</td>\n",
       "      <td>2.24</td>\n",
       "      <td>68.13</td>\n",
       "      <td>2.56</td>\n",
       "      <td>10.33</td>\n",
       "      <td>0.56</td>\n",
       "      <td>0.36</td>\n",
       "      <td>0.21</td>\n",
       "      <td>0.11</td>\n",
       "      <td>0.05</td>\n",
       "      <td>0.62</td>\n",
       "    </tr>\n",
       "    <tr>\n",
       "      <th>3</th>\n",
       "      <td>AP04</td>\n",
       "      <td>13.84</td>\n",
       "      <td>0.11</td>\n",
       "      <td>0.90</td>\n",
       "      <td>0.08</td>\n",
       "      <td>0.14</td>\n",
       "      <td>2.38</td>\n",
       "      <td>67.67</td>\n",
       "      <td>2.29</td>\n",
       "      <td>11.28</td>\n",
       "      <td>0.57</td>\n",
       "      <td>0.37</td>\n",
       "      <td>0.20</td>\n",
       "      <td>0.11</td>\n",
       "      <td>0.06</td>\n",
       "      <td>0.58</td>\n",
       "    </tr>\n",
       "    <tr>\n",
       "      <th>4</th>\n",
       "      <td>AP05</td>\n",
       "      <td>13.69</td>\n",
       "      <td>0.12</td>\n",
       "      <td>1.03</td>\n",
       "      <td>0.12</td>\n",
       "      <td>0.21</td>\n",
       "      <td>2.40</td>\n",
       "      <td>68.92</td>\n",
       "      <td>2.51</td>\n",
       "      <td>9.69</td>\n",
       "      <td>0.55</td>\n",
       "      <td>0.38</td>\n",
       "      <td>0.21</td>\n",
       "      <td>0.12</td>\n",
       "      <td>0.05</td>\n",
       "      <td>0.60</td>\n",
       "    </tr>\n",
       "  </tbody>\n",
       "</table>\n",
       "</div>"
      ],
      "text/plain": [
       "          C16:0  C16:1w9  C16:1w7  C17:0  C17:1w8  C18:0  C18:1w9  C18:1w7  \\\n",
       "0  AP01   13.22     0.10     1.01   0.06     0.11   2.03    71.06     2.61   \n",
       "1  AP02   14.32     0.12     1.06   0.09     0.16   2.34    67.34     2.51   \n",
       "2  AP03   14.00     0.12     1.06   0.10     0.17   2.24    68.13     2.56   \n",
       "3  AP04   13.84     0.11     0.90   0.08     0.14   2.38    67.67     2.29   \n",
       "4  AP05   13.69     0.12     1.03   0.12     0.21   2.40    68.92     2.51   \n",
       "\n",
       "   C18:2w6  C18:3w3  C20:0  C20:1w9  C22:0  C24:0  Squalene   \n",
       "0     8.37     0.69   0.34     0.24   0.11   0.05       0.65  \n",
       "1    10.74     0.55   0.38     0.22   0.11   0.05       0.59  \n",
       "2    10.33     0.56   0.36     0.21   0.11   0.05       0.62  \n",
       "3    11.28     0.57   0.37     0.20   0.11   0.06       0.58  \n",
       "4     9.69     0.55   0.38     0.21   0.12   0.05       0.60  "
      ]
     },
     "execution_count": 5,
     "metadata": {},
     "output_type": "execute_result"
    }
   ],
   "source": [
    "analyses_bioch.head()"
   ]
  },
  {
   "cell_type": "markdown",
   "metadata": {},
   "source": [
    "### 1 Réaliser une boite à moustaches sur les données de l'analyses biologiques "
   ]
  },
  {
   "cell_type": "code",
   "execution_count": 6,
   "metadata": {},
   "outputs": [
    {
     "data": {
      "text/plain": [
       "Text(0.5, 1.0, \"boite à moustaches de l'analysees biochimiques\")"
      ]
     },
     "execution_count": 6,
     "metadata": {},
     "output_type": "execute_result"
    },
    {
     "data": {
      "image/png": "[encoded data removed]",
      "text/plain": [
       "<Figure size 1152x648 with 1 Axes>"
      ]
     },
     "metadata": {
      "needs_background": "light"
     },
     "output_type": "display_data"
    }
   ],
   "source": [
    "plt.figure(figsize=(16,9))\n",
    "sns.boxplot(data = analyses_bioch)\n",
    "plt.title(\"boite à moustaches de l'analysees biochimiques\")"
   ]
  },
  {
   "cell_type": "markdown",
   "metadata": {},
   "source": [
    "#### Conclusion :\n",
    "Que peut-on dire de la dispersion des donnees ? Qu’en deduisez-vous pour le choix des options\n",
    "de centrage et normalisation d’une analyse en composantes principales ?\n",
    "- On remarque qu'il existe une différence entre les grandeurs de chaque variables. (dispersion des variables)\n",
    "- Pour la suite on va réaliser un centrage et une normalisation "
   ]
  },
  {
   "cell_type": "code",
   "execution_count": 7,
   "metadata": {},
   "outputs": [
    {
     "data": {
      "text/plain": [
       "array([[ 0.51532792, -1.1206955 ,  0.5096673 , ..., -0.4051994 ,\n",
       "        -0.15021234, -0.3503962 ],\n",
       "       [ 1.01991167, -0.05146051,  0.68058005, ..., -0.4051994 ,\n",
       "        -0.15021234, -0.77267819],\n",
       "       [ 0.87312367, -0.05146051,  0.68058005, ..., -0.4051994 ,\n",
       "        -0.15021234, -0.5615372 ],\n",
       "       ...,\n",
       "       [ 0.90982067, -0.58607801,  0.8514928 , ...,  1.33669226,\n",
       "         0.85299153,  0.70530879],\n",
       "       [ 1.07954429, -1.1206955 ,  1.09077065, ...,  1.33669226,\n",
       "         1.8561954 ,  0.63492845],\n",
       "       [ 0.7125743 , -0.05146051,  0.47548475, ...,  1.33669226,\n",
       "         1.8561954 ,  0.42378746]])"
      ]
     },
     "execution_count": 7,
     "metadata": {},
     "output_type": "execute_result"
    }
   ],
   "source": [
    "## utilision standardscaler de scikit learn pour centrer et reduit \n",
    "pca_data = analyses_bioch.drop('  ',axis=1)\n",
    "scaler = StandardScaler()\n",
    "scaler.fit(pca_data) ## centrage et reduction des donnés \n",
    "scaler.transform(pca_data)"
   ]
  },
  {
   "cell_type": "code",
   "execution_count": 8,
   "metadata": {},
   "outputs": [
    {
     "data": {
      "text/html": [
       "<div>\n",
       "<style scoped>\n",
       "    .dataframe tbody tr th:only-of-type {\n",
       "        vertical-align: middle;\n",
       "    }\n",
       "\n",
       "    .dataframe tbody tr th {\n",
       "        vertical-align: top;\n",
       "    }\n",
       "\n",
       "    .dataframe thead th {\n",
       "        text-align: right;\n",
       "    }\n",
       "</style>\n",
       "<table border=\"1\" class=\"dataframe\">\n",
       "  <thead>\n",
       "    <tr style=\"text-align: right;\">\n",
       "      <th></th>\n",
       "      <th>C16:0</th>\n",
       "      <th>C16:1w9</th>\n",
       "      <th>C16:1w7</th>\n",
       "      <th>C17:0</th>\n",
       "      <th>C17:1w8</th>\n",
       "      <th>C18:0</th>\n",
       "      <th>C18:1w9</th>\n",
       "      <th>C18:1w7</th>\n",
       "      <th>C18:2w6</th>\n",
       "      <th>C18:3w3</th>\n",
       "      <th>C20:0</th>\n",
       "      <th>C20:1w9</th>\n",
       "      <th>C22:0</th>\n",
       "      <th>C24:0</th>\n",
       "      <th>Squalene</th>\n",
       "    </tr>\n",
       "  </thead>\n",
       "  <tbody>\n",
       "    <tr>\n",
       "      <th>0</th>\n",
       "      <td>0.515328</td>\n",
       "      <td>-1.120696</td>\n",
       "      <td>0.509667</td>\n",
       "      <td>-0.565392</td>\n",
       "      <td>-0.663105</td>\n",
       "      <td>-1.265076</td>\n",
       "      <td>-0.187163</td>\n",
       "      <td>0.787054</td>\n",
       "      <td>-0.085529</td>\n",
       "      <td>1.116621</td>\n",
       "      <td>-1.274918</td>\n",
       "      <td>-0.507311</td>\n",
       "      <td>-0.405199</td>\n",
       "      <td>-0.150212</td>\n",
       "      <td>-0.350396</td>\n",
       "    </tr>\n",
       "    <tr>\n",
       "      <th>1</th>\n",
       "      <td>1.019912</td>\n",
       "      <td>-0.051461</td>\n",
       "      <td>0.680580</td>\n",
       "      <td>-0.091982</td>\n",
       "      <td>-0.120670</td>\n",
       "      <td>-0.040557</td>\n",
       "      <td>-0.911088</td>\n",
       "      <td>0.544264</td>\n",
       "      <td>0.842843</td>\n",
       "      <td>-0.530316</td>\n",
       "      <td>-0.169891</td>\n",
       "      <td>-0.962310</td>\n",
       "      <td>-0.405199</td>\n",
       "      <td>-0.150212</td>\n",
       "      <td>-0.772678</td>\n",
       "    </tr>\n",
       "    <tr>\n",
       "      <th>2</th>\n",
       "      <td>0.873124</td>\n",
       "      <td>-0.051461</td>\n",
       "      <td>0.680580</td>\n",
       "      <td>0.065822</td>\n",
       "      <td>-0.012183</td>\n",
       "      <td>-0.435563</td>\n",
       "      <td>-0.757351</td>\n",
       "      <td>0.665659</td>\n",
       "      <td>0.682238</td>\n",
       "      <td>-0.412678</td>\n",
       "      <td>-0.722404</td>\n",
       "      <td>-1.189809</td>\n",
       "      <td>-0.405199</td>\n",
       "      <td>-0.150212</td>\n",
       "      <td>-0.561537</td>\n",
       "    </tr>\n",
       "    <tr>\n",
       "      <th>3</th>\n",
       "      <td>0.799730</td>\n",
       "      <td>-0.586078</td>\n",
       "      <td>0.133659</td>\n",
       "      <td>-0.249785</td>\n",
       "      <td>-0.337644</td>\n",
       "      <td>0.117446</td>\n",
       "      <td>-0.846869</td>\n",
       "      <td>0.010127</td>\n",
       "      <td>1.054370</td>\n",
       "      <td>-0.295040</td>\n",
       "      <td>-0.446147</td>\n",
       "      <td>-1.417309</td>\n",
       "      <td>-0.405199</td>\n",
       "      <td>0.852992</td>\n",
       "      <td>-0.843059</td>\n",
       "    </tr>\n",
       "    <tr>\n",
       "      <th>4</th>\n",
       "      <td>0.730923</td>\n",
       "      <td>-0.051461</td>\n",
       "      <td>0.578032</td>\n",
       "      <td>0.381428</td>\n",
       "      <td>0.421765</td>\n",
       "      <td>0.196447</td>\n",
       "      <td>-0.603615</td>\n",
       "      <td>0.544264</td>\n",
       "      <td>0.431539</td>\n",
       "      <td>-0.530316</td>\n",
       "      <td>-0.169891</td>\n",
       "      <td>-1.189809</td>\n",
       "      <td>0.465746</td>\n",
       "      <td>-0.150212</td>\n",
       "      <td>-0.702298</td>\n",
       "    </tr>\n",
       "  </tbody>\n",
       "</table>\n",
       "</div>"
      ],
      "text/plain": [
       "      C16:0   C16:1w9   C16:1w7     C17:0   C17:1w8     C18:0   C18:1w9  \\\n",
       "0  0.515328 -1.120696  0.509667 -0.565392 -0.663105 -1.265076 -0.187163   \n",
       "1  1.019912 -0.051461  0.680580 -0.091982 -0.120670 -0.040557 -0.911088   \n",
       "2  0.873124 -0.051461  0.680580  0.065822 -0.012183 -0.435563 -0.757351   \n",
       "3  0.799730 -0.586078  0.133659 -0.249785 -0.337644  0.117446 -0.846869   \n",
       "4  0.730923 -0.051461  0.578032  0.381428  0.421765  0.196447 -0.603615   \n",
       "\n",
       "    C18:1w7   C18:2w6   C18:3w3     C20:0   C20:1w9     C22:0     C24:0  \\\n",
       "0  0.787054 -0.085529  1.116621 -1.274918 -0.507311 -0.405199 -0.150212   \n",
       "1  0.544264  0.842843 -0.530316 -0.169891 -0.962310 -0.405199 -0.150212   \n",
       "2  0.665659  0.682238 -0.412678 -0.722404 -1.189809 -0.405199 -0.150212   \n",
       "3  0.010127  1.054370 -0.295040 -0.446147 -1.417309 -0.405199  0.852992   \n",
       "4  0.544264  0.431539 -0.530316 -0.169891 -1.189809  0.465746 -0.150212   \n",
       "\n",
       "   Squalene   \n",
       "0  -0.350396  \n",
       "1  -0.772678  \n",
       "2  -0.561537  \n",
       "3  -0.843059  \n",
       "4  -0.702298  "
      ]
     },
     "execution_count": 8,
     "metadata": {},
     "output_type": "execute_result"
    }
   ],
   "source": [
    "## visualisons la boite à moustaches à nouveaux\n",
    "analyses_bioch_standard = analyses_bioch.drop('  ',axis=1)\n",
    "analyses_bioch_standard [analyses_bioch_standard.columns] =  scaler.transform(pca_data)\n",
    "analyses_bioch_standard.head()"
   ]
  },
  {
   "cell_type": "code",
   "execution_count": 9,
   "metadata": {},
   "outputs": [
    {
     "data": {
      "text/plain": [
       "Text(0.5, 1.0, \"boite à moustaches de l'analysees biochimiques après normalisation \")"
      ]
     },
     "execution_count": 9,
     "metadata": {},
     "output_type": "execute_result"
    },
    {
     "data": {
      "image/png": "[encoded data removed]",
      "text/plain": [
       "<Figure size 1152x648 with 1 Axes>"
      ]
     },
     "metadata": {
      "needs_background": "light"
     },
     "output_type": "display_data"
    }
   ],
   "source": [
    "plt.figure(figsize=(16,9))\n",
    "sns.boxplot(data = analyses_bioch_standard)\n",
    "plt.title(\"boite à moustaches de l'analysees biochimiques après normalisation \")"
   ]
  },
  {
   "cell_type": "markdown",
   "metadata": {},
   "source": [
    "### 2 Réalisation de l'ACP\n"
   ]
  },
  {
   "cell_type": "code",
   "execution_count": 10,
   "metadata": {},
   "outputs": [
    {
     "data": {
      "text/plain": [
       "array([3.99623854e-01, 1.68868523e-01, 1.58203534e-01, 8.21682882e-02,\n",
       "       7.10509012e-02, 4.02783537e-02, 2.97235368e-02, 1.81991562e-02,\n",
       "       1.33003688e-02, 9.44111945e-03, 5.18160024e-03, 1.77332250e-03,\n",
       "       1.54646033e-03, 6.40079352e-04, 9.02341201e-07])"
      ]
     },
     "execution_count": 10,
     "metadata": {},
     "output_type": "execute_result"
    }
   ],
   "source": [
    "pca = PCA( )\n",
    "X = analyses_bioch_standard.values\n",
    "pca.fit(X)\n",
    "explained_variance = pca.explained_variance_ratio_ ## variance expliqué par l'ACP\n",
    "explained_variance"
   ]
  },
  {
   "cell_type": "code",
   "execution_count": 11,
   "metadata": {},
   "outputs": [
    {
     "data": {
      "image/png": "[encoded data removed]",
      "text/plain": [
       "<Figure size 1152x648 with 1 Axes>"
      ]
     },
     "metadata": {
      "needs_background": "light"
     },
     "output_type": "display_data"
    }
   ],
   "source": [
    "### visualisation de la variance expliquée par l'ACP\n",
    "plt.figure(figsize=(16,9))\n",
    "plt.bar(range(1, len(explained_variance) + 1), explained_variance, align='center', alpha=0.7)\n",
    "plt.title('Histogramme de la Variance Expliquée par l\\'ACP')\n",
    "plt.xlabel('Composante Principale')\n",
    "plt.ylabel('Variance Expliquée')\n",
    "plt.grid(True)\n",
    "plt.show()"
   ]
  },
  {
   "cell_type": "code",
   "execution_count": 12,
   "metadata": {},
   "outputs": [
    {
     "data": {
      "image/png": "[encoded data removed]",
      "text/plain": [
       "<Figure size 1152x648 with 1 Axes>"
      ]
     },
     "metadata": {
      "needs_background": "light"
     },
     "output_type": "display_data"
    }
   ],
   "source": [
    "### visualisation de la variance expliquée par l'ACP\n",
    "plt.figure(figsize=(16,9))\n",
    "plt.plot(range(1, len(explained_variance) + 1), explained_variance, marker='o', linestyle='-', color='b')\n",
    "plt.title('courbe de la Variance Expliquée par l\\'ACP')\n",
    "plt.xlabel('Composante Principale')\n",
    "plt.ylabel('Variance Expliquée')\n",
    "plt.grid(True)\n",
    "plt.show()"
   ]
  },
  {
   "cell_type": "markdown",
   "metadata": {},
   "source": []
  }
 ],
 "metadata": {
  "kernelspec": {
   "display_name": "Python 3",
   "language": "python",
   "name": "python3"
  },
  "language_info": {
   "codemirror_mode": {
    "name": "ipython",
    "version": 3
   },
   "file_extension": ".py",
   "mimetype": "text/x-python",
   "name": "python",
   "nbconvert_exporter": "python",
   "pygments_lexer": "ipython3",
   "version": "3.9.12"
  },
  "orig_nbformat": 4
 },
 "nbformat": 4,
 "nbformat_minor": 2
}
