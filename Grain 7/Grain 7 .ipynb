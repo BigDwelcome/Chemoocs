{
 "cells": [
  {
   "cell_type": "code",
   "execution_count": 1,
   "metadata": {},
   "outputs": [
    {
     "name": "stdout",
     "output_type": "stream",
     "text": [
      "The Zen of Python, by Tim Peters\n",
      "\n",
      "Beautiful is better than ugly.\n",
      "Explicit is better than implicit.\n",
      "Simple is better than complex.\n",
      "Complex is better than complicated.\n",
      "Flat is better than nested.\n",
      "Sparse is better than dense.\n",
      "Readability counts.\n",
      "Special cases aren't special enough to break the rules.\n",
      "Although practicality beats purity.\n",
      "Errors should never pass silently.\n",
      "Unless explicitly silenced.\n",
      "In the face of ambiguity, refuse the temptation to guess.\n",
      "There should be one-- and preferably only one --obvious way to do it.\n",
      "Although that way may not be obvious at first unless you're Dutch.\n",
      "Now is better than never.\n",
      "Although never is often better than *right* now.\n",
      "If the implementation is hard to explain, it's a bad idea.\n",
      "If the implementation is easy to explain, it may be a good idea.\n",
      "Namespaces are one honking great idea -- let's do more of those!\n"
     ]
    }
   ],
   "source": [
    "import this"
   ]
  },
  {
   "cell_type": "code",
   "execution_count": 2,
   "metadata": {},
   "outputs": [],
   "source": [
    "import pandas as pd\n",
    "import numpy as np\n",
    "import matplotlib.pyplot as plt\n",
    "import seaborn as sns\n",
    "import numpy as np\n",
    "from sklearn.preprocessing import StandardScaler\n",
    "from sklearn.decomposition import PCA\n",
    "from matplotlib.colors import ListedColormap, Normalize\n",
    "from matplotlib.cm import get_cmap\n",
    "from scipy.signal import savgol_filter\n",
    "from sklearn.cluster import AgglomerativeClustering\n",
    "from scipy.cluster.hierarchy import fcluster\n",
    "from scipy.cluster.hierarchy import dendrogram, linkage\n",
    "from sklearn.cluster import KMeans\n",
    "from sklearn.linear_model import LinearRegression\n",
    "from sklearn.metrics import mean_squared_error, r2_score\n",
    "import statsmodels.api as sm"
   ]
  },
  {
   "cell_type": "code",
   "execution_count": null,
   "metadata": {},
   "outputs": [],
   "source": []
  },
  {
   "cell_type": "code",
   "execution_count": null,
   "metadata": {},
   "outputs": [],
   "source": []
  },
  {
   "cell_type": "code",
   "execution_count": null,
   "metadata": {},
   "outputs": [],
   "source": []
  },
  {
   "cell_type": "markdown",
   "metadata": {},
   "source": [
    "# Fonctions utilisées dans ce projet "
   ]
  },
  {
   "cell_type": "code",
   "execution_count": 3,
   "metadata": {},
   "outputs": [],
   "source": [
    "## Appliquons la snv à notre array intensities et visualisons \n",
    "def snv_spectrum(spectrum):\n",
    "    mean = np.mean(spectrum)  # Calcul de la moyenne du spectre\n",
    "    std_dev = np.std(spectrum)  # Calcul de l'écart type du spectre\n",
    "    snv_spectrum = (spectrum - mean) / std_dev  # Transformation SNV\n",
    "    return snv_spectrum\n",
    "\n",
    "def plot_acp_individuals(score, plan_indices, class_labels, explained_variance, individual_names=None):\n",
    "    \"\"\"\n",
    "    Affiche la carte factorielle des individus d'une ACP.\n",
    "\n",
    "    Args:\n",
    "        score (array): Les scores (coordonnées des individus) de l'ACP.\n",
    "        plan_indices (tuple): Les indices des composantes principales à afficher (par exemple, (0, 1) pour le plan 2D).\n",
    "        class_labels (array): Les classes à utiliser pour colorier les individus.\n",
    "        explained_variance (array): La variance expliquée par chaque composante principale de l'ACP.\n",
    "        individual_names (array, facultatif): Les noms des individus (ou labels). Par défaut, None.\n",
    "    \"\"\"\n",
    "\n",
    "    # Extraire les indices des composantes principales à afficher\n",
    "    component1_index, component2_index = plan_indices\n",
    "\n",
    "    # Plotter la carte factorielle des individus\n",
    "    plt.figure(figsize=(16, 9))\n",
    "    for label in set(class_labels):\n",
    "        mask = (class_labels == label)\n",
    "        plt.scatter(score[mask, component1_index], score[mask, component2_index], label=label)\n",
    "\n",
    "    # Ajouter des labels aux points (en vérifiant si le nom est différent de None)\n",
    "    if individual_names is not None:\n",
    "        for i, name in enumerate(individual_names):\n",
    "            if name is not None:\n",
    "                plt.annotate(name, (score[i, component1_index], score[i, component2_index]))\n",
    "\n",
    "    # Afficher la variance expliquée par chaque composante dans le titre du graphique\n",
    "    plt.title('Carte Factorielle des Individus\\n' + '\\n'.join([f'Composante {i+1}: {explained_variance[i]:.2%}' for i in plan_indices]))\n",
    "    plt.xlabel(f'Composante Principale {component1_index + 1}')\n",
    "    plt.ylabel(f'Composante Principale {component2_index + 1}')\n",
    "    plt.legend()\n",
    "    plt.grid(True, axis='both')\n",
    "    plt.show()\n",
    "\n",
    "# Exemple d'utilisation de la fonction avec individual_names facultatif\n",
    "# Vous pouvez fournir ou omettre individual_names en fonction de vos besoins.\n",
    "# plot_acp_individuals(score, (0, 1), class_labels, explained_variance)\n",
    "# plot_acp_individuals(score, (0, 1), class_labels, explained_variance, individual_names)\n",
    "\n",
    "\n",
    "\n",
    "def plot_dendrogram(model, **kwargs):\n",
    "    \"\"\"\n",
    "    Plot a dendrogram based on a hierarchical clustering model.\n",
    "\n",
    "    Args:\n",
    "        model (AgglomerativeClustering): The hierarchical clustering model.\n",
    "        **kwargs: Additional keyword arguments for customizing the dendrogram plot.\n",
    "    \"\"\"\n",
    "    # Create an array to store the counts of samples under each node\n",
    "    counts = np.zeros(model.children_.shape[0])\n",
    "    n_samples = len(model.labels_)\n",
    "\n",
    "    # Calculate counts for each node in the hierarchical tree\n",
    "    for i, merge in enumerate(model.children_):\n",
    "        current_count = 0\n",
    "        for child_idx in merge:\n",
    "            if child_idx < n_samples:\n",
    "                current_count += 1  # Leaf node\n",
    "            else:\n",
    "                current_count += counts[child_idx - n_samples]\n",
    "        counts[i] = current_count\n",
    "\n",
    "    # Create a linkage matrix containing children, distances, and counts\n",
    "    linkage_matrix = np.column_stack(\n",
    "        [model.children_, model.distances_, counts]\n",
    "    ).astype(float)\n",
    "\n",
    "    # Plot the dendrogram using the linkage matrix and custom kwargs\n",
    "    dendrogram(linkage_matrix, **kwargs)\n"
   ]
  },
  {
   "cell_type": "markdown",
   "metadata": {},
   "source": [
    "# Partie 1 : Exercice de reproduction \n",
    "\n",
    "## 1 Description du projet \n",
    "\n",
    "A partir du jeu de donnees d’analyses des terephtalates utilise dans le cours, vous allez realiser une r egression simple et une regression multiple.\n",
    "\n",
    "## 2 Dans x tereph.tab selectionnez la quarantieme longueur d’onde du tableau, qu’on notera NIR40, et calculez le coefficient de corr ́elation et les coefficients du mod`ele de r ́egression lineaire de la variable densite en fonction de NIR40."
   ]
  },
  {
   "cell_type": "code",
   "execution_count": 4,
   "metadata": {},
   "outputs": [],
   "source": [
    "# importer les données \n",
    "x_tereph = pd.read_csv('data/x_tereph.csv')\n",
    "y_tereph = pd.read_csv('data/y_tereph.csv')"
   ]
  },
  {
   "cell_type": "code",
   "execution_count": 5,
   "metadata": {},
   "outputs": [
    {
     "data": {
      "text/html": [
       "<div>\n",
       "<style scoped>\n",
       "    .dataframe tbody tr th:only-of-type {\n",
       "        vertical-align: middle;\n",
       "    }\n",
       "\n",
       "    .dataframe tbody tr th {\n",
       "        vertical-align: top;\n",
       "    }\n",
       "\n",
       "    .dataframe thead th {\n",
       "        text-align: right;\n",
       "    }\n",
       "</style>\n",
       "<table border=\"1\" class=\"dataframe\">\n",
       "  <thead>\n",
       "    <tr style=\"text-align: right;\">\n",
       "      <th></th>\n",
       "      <th>\\</th>\n",
       "      <th>NIR.1</th>\n",
       "      <th>NIR.2</th>\n",
       "      <th>NIR.3</th>\n",
       "      <th>NIR.4</th>\n",
       "      <th>NIR.5</th>\n",
       "      <th>NIR.6</th>\n",
       "      <th>NIR.7</th>\n",
       "      <th>NIR.8</th>\n",
       "      <th>NIR.9</th>\n",
       "      <th>...</th>\n",
       "      <th>NIR.259</th>\n",
       "      <th>NIR.260</th>\n",
       "      <th>NIR.261</th>\n",
       "      <th>NIR.262</th>\n",
       "      <th>NIR.263</th>\n",
       "      <th>NIR.264</th>\n",
       "      <th>NIR.265</th>\n",
       "      <th>NIR.266</th>\n",
       "      <th>NIR.267</th>\n",
       "      <th>NIR.268</th>\n",
       "    </tr>\n",
       "  </thead>\n",
       "  <tbody>\n",
       "    <tr>\n",
       "      <th>0</th>\n",
       "      <td>1</td>\n",
       "      <td>3.0663</td>\n",
       "      <td>3.0861</td>\n",
       "      <td>3.1079</td>\n",
       "      <td>3.0972</td>\n",
       "      <td>2.9979</td>\n",
       "      <td>2.8273</td>\n",
       "      <td>2.6233</td>\n",
       "      <td>2.4039</td>\n",
       "      <td>2.1931</td>\n",
       "      <td>...</td>\n",
       "      <td>0.31308</td>\n",
       "      <td>0.30753</td>\n",
       "      <td>0.30313</td>\n",
       "      <td>0.29980</td>\n",
       "      <td>0.29748</td>\n",
       "      <td>0.29592</td>\n",
       "      <td>0.29489</td>\n",
       "      <td>0.29440</td>\n",
       "      <td>0.29432</td>\n",
       "      <td>0.29443</td>\n",
       "    </tr>\n",
       "    <tr>\n",
       "      <th>1</th>\n",
       "      <td>2</td>\n",
       "      <td>3.0675</td>\n",
       "      <td>3.0857</td>\n",
       "      <td>3.0958</td>\n",
       "      <td>3.0692</td>\n",
       "      <td>2.9818</td>\n",
       "      <td>2.8408</td>\n",
       "      <td>2.6760</td>\n",
       "      <td>2.5059</td>\n",
       "      <td>2.3506</td>\n",
       "      <td>...</td>\n",
       "      <td>0.31686</td>\n",
       "      <td>0.31195</td>\n",
       "      <td>0.30806</td>\n",
       "      <td>0.30499</td>\n",
       "      <td>0.30283</td>\n",
       "      <td>0.30149</td>\n",
       "      <td>0.30066</td>\n",
       "      <td>0.30031</td>\n",
       "      <td>0.30030</td>\n",
       "      <td>0.30041</td>\n",
       "    </tr>\n",
       "    <tr>\n",
       "      <th>2</th>\n",
       "      <td>3</td>\n",
       "      <td>3.0750</td>\n",
       "      <td>3.0966</td>\n",
       "      <td>3.0916</td>\n",
       "      <td>3.0288</td>\n",
       "      <td>2.8849</td>\n",
       "      <td>2.6885</td>\n",
       "      <td>2.4764</td>\n",
       "      <td>2.2694</td>\n",
       "      <td>2.0824</td>\n",
       "      <td>...</td>\n",
       "      <td>0.34026</td>\n",
       "      <td>0.33545</td>\n",
       "      <td>0.33164</td>\n",
       "      <td>0.32891</td>\n",
       "      <td>0.32703</td>\n",
       "      <td>0.32573</td>\n",
       "      <td>0.32493</td>\n",
       "      <td>0.32464</td>\n",
       "      <td>0.32460</td>\n",
       "      <td>0.32474</td>\n",
       "    </tr>\n",
       "    <tr>\n",
       "      <th>3</th>\n",
       "      <td>4</td>\n",
       "      <td>3.0828</td>\n",
       "      <td>3.0973</td>\n",
       "      <td>3.1010</td>\n",
       "      <td>3.0735</td>\n",
       "      <td>2.9913</td>\n",
       "      <td>2.8709</td>\n",
       "      <td>2.7392</td>\n",
       "      <td>2.6102</td>\n",
       "      <td>2.5000</td>\n",
       "      <td>...</td>\n",
       "      <td>0.32389</td>\n",
       "      <td>0.31947</td>\n",
       "      <td>0.31605</td>\n",
       "      <td>0.31332</td>\n",
       "      <td>0.31139</td>\n",
       "      <td>0.31023</td>\n",
       "      <td>0.30955</td>\n",
       "      <td>0.30928</td>\n",
       "      <td>0.30932</td>\n",
       "      <td>0.30947</td>\n",
       "    </tr>\n",
       "    <tr>\n",
       "      <th>4</th>\n",
       "      <td>5</td>\n",
       "      <td>3.1029</td>\n",
       "      <td>3.1034</td>\n",
       "      <td>3.0848</td>\n",
       "      <td>3.0228</td>\n",
       "      <td>2.8927</td>\n",
       "      <td>2.7159</td>\n",
       "      <td>2.5384</td>\n",
       "      <td>2.3764</td>\n",
       "      <td>2.2397</td>\n",
       "      <td>...</td>\n",
       "      <td>0.32394</td>\n",
       "      <td>0.31977</td>\n",
       "      <td>0.31649</td>\n",
       "      <td>0.31397</td>\n",
       "      <td>0.31218</td>\n",
       "      <td>0.31108</td>\n",
       "      <td>0.31046</td>\n",
       "      <td>0.31021</td>\n",
       "      <td>0.31026</td>\n",
       "      <td>0.31049</td>\n",
       "    </tr>\n",
       "  </tbody>\n",
       "</table>\n",
       "<p>5 rows × 269 columns</p>\n",
       "</div>"
      ],
      "text/plain": [
       "   \\   NIR.1   NIR.2   NIR.3   NIR.4   NIR.5   NIR.6   NIR.7   NIR.8   NIR.9  \\\n",
       "0  1  3.0663  3.0861  3.1079  3.0972  2.9979  2.8273  2.6233  2.4039  2.1931   \n",
       "1  2  3.0675  3.0857  3.0958  3.0692  2.9818  2.8408  2.6760  2.5059  2.3506   \n",
       "2  3  3.0750  3.0966  3.0916  3.0288  2.8849  2.6885  2.4764  2.2694  2.0824   \n",
       "3  4  3.0828  3.0973  3.1010  3.0735  2.9913  2.8709  2.7392  2.6102  2.5000   \n",
       "4  5  3.1029  3.1034  3.0848  3.0228  2.8927  2.7159  2.5384  2.3764  2.2397   \n",
       "\n",
       "   ...  NIR.259  NIR.260  NIR.261  NIR.262  NIR.263  NIR.264  NIR.265  \\\n",
       "0  ...  0.31308  0.30753  0.30313  0.29980  0.29748  0.29592  0.29489   \n",
       "1  ...  0.31686  0.31195  0.30806  0.30499  0.30283  0.30149  0.30066   \n",
       "2  ...  0.34026  0.33545  0.33164  0.32891  0.32703  0.32573  0.32493   \n",
       "3  ...  0.32389  0.31947  0.31605  0.31332  0.31139  0.31023  0.30955   \n",
       "4  ...  0.32394  0.31977  0.31649  0.31397  0.31218  0.31108  0.31046   \n",
       "\n",
       "   NIR.266  NIR.267  NIR.268  \n",
       "0  0.29440  0.29432  0.29443  \n",
       "1  0.30031  0.30030  0.30041  \n",
       "2  0.32464  0.32460  0.32474  \n",
       "3  0.30928  0.30932  0.30947  \n",
       "4  0.31021  0.31026  0.31049  \n",
       "\n",
       "[5 rows x 269 columns]"
      ]
     },
     "execution_count": 5,
     "metadata": {},
     "output_type": "execute_result"
    }
   ],
   "source": [
    "x_tereph.head()"
   ]
  },
  {
   "cell_type": "code",
   "execution_count": 6,
   "metadata": {},
   "outputs": [
    {
     "data": {
      "text/html": [
       "<div>\n",
       "<style scoped>\n",
       "    .dataframe tbody tr th:only-of-type {\n",
       "        vertical-align: middle;\n",
       "    }\n",
       "\n",
       "    .dataframe tbody tr th {\n",
       "        vertical-align: top;\n",
       "    }\n",
       "\n",
       "    .dataframe thead th {\n",
       "        text-align: right;\n",
       "    }\n",
       "</style>\n",
       "<table border=\"1\" class=\"dataframe\">\n",
       "  <thead>\n",
       "    <tr style=\"text-align: right;\">\n",
       "      <th></th>\n",
       "      <th>\\</th>\n",
       "      <th>density</th>\n",
       "    </tr>\n",
       "  </thead>\n",
       "  <tbody>\n",
       "    <tr>\n",
       "      <th>0</th>\n",
       "      <td>1</td>\n",
       "      <td>100.00</td>\n",
       "    </tr>\n",
       "    <tr>\n",
       "      <th>1</th>\n",
       "      <td>2</td>\n",
       "      <td>80.22</td>\n",
       "    </tr>\n",
       "    <tr>\n",
       "      <th>2</th>\n",
       "      <td>3</td>\n",
       "      <td>79.49</td>\n",
       "    </tr>\n",
       "    <tr>\n",
       "      <th>3</th>\n",
       "      <td>4</td>\n",
       "      <td>60.80</td>\n",
       "    </tr>\n",
       "    <tr>\n",
       "      <th>4</th>\n",
       "      <td>5</td>\n",
       "      <td>59.97</td>\n",
       "    </tr>\n",
       "  </tbody>\n",
       "</table>\n",
       "</div>"
      ],
      "text/plain": [
       "   \\  density\n",
       "0  1   100.00\n",
       "1  2    80.22\n",
       "2  3    79.49\n",
       "3  4    60.80\n",
       "4  5    59.97"
      ]
     },
     "execution_count": 6,
     "metadata": {},
     "output_type": "execute_result"
    }
   ],
   "source": [
    "y_tereph.head()"
   ]
  },
  {
   "cell_type": "code",
   "execution_count": 7,
   "metadata": {},
   "outputs": [],
   "source": [
    "nir_40 = x_tereph['NIR.40'].values\n",
    "density = y_tereph['density'].values"
   ]
  },
  {
   "cell_type": "code",
   "execution_count": 8,
   "metadata": {},
   "outputs": [
    {
     "data": {
      "text/plain": [
       "array([1.4571, 1.5239, 1.546 , 1.5877, 1.5931, 1.5724, 1.6892, 1.6537,\n",
       "       1.6884, 1.645 , 1.7041, 1.6996, 1.7063, 1.7041, 1.7121, 1.7549,\n",
       "       1.7654, 1.754 , 1.744 , 1.7343, 1.7518])"
      ]
     },
     "execution_count": 8,
     "metadata": {},
     "output_type": "execute_result"
    }
   ],
   "source": [
    "nir_40"
   ]
  },
  {
   "cell_type": "code",
   "execution_count": 9,
   "metadata": {},
   "outputs": [
    {
     "data": {
      "text/plain": [
       "array([100.  ,  80.22,  79.49,  60.8 ,  59.97,  60.48,  40.1 ,  40.  ,\n",
       "        41.22,  41.16,  20.53,  20.35,  20.33,  20.61,  20.76,   0.  ,\n",
       "         0.  ,   0.  ,   0.  ,   0.  ,   0.  ])"
      ]
     },
     "execution_count": 9,
     "metadata": {},
     "output_type": "execute_result"
    }
   ],
   "source": [
    "density"
   ]
  },
  {
   "cell_type": "code",
   "execution_count": 10,
   "metadata": {},
   "outputs": [
    {
     "name": "stdout",
     "output_type": "stream",
     "text": [
      " La corrélation entre NIR40 et la densité est  -0.9801761960280667\n"
     ]
    }
   ],
   "source": [
    "## Calculons la corrélation entre les deux variables \n",
    "cor = np.corrcoef(nir_40 , density)\n",
    "print( \" La corrélation entre NIR40 et la densité est \", cor[0,1])"
   ]
  },
  {
   "cell_type": "markdown",
   "metadata": {},
   "source": [
    " La corrélation entre NIR40 et la densité est  -0.98.\n",
    " Il y a une forte corrélation entre les deux variables nous allons alors réaliser un modèle de regression linéaire"
   ]
  },
  {
   "cell_type": "code",
   "execution_count": 11,
   "metadata": {},
   "outputs": [
    {
     "name": "stdout",
     "output_type": "stream",
     "text": [
      "Pente :  [-344.13963868]\n",
      "Ordonnée à l'origine :  606.9746644059275\n",
      "Racine carrée de l'erreur quadratique moyenne :  5.908236299965004\n",
      "Sccore R2 :  0.960745375260051\n"
     ]
    }
   ],
   "source": [
    "# Réalisation de la regression lineaire en utilisant scikit learn\n",
    "regression_model = LinearRegression()\n",
    "# centrer les données \n",
    "\n",
    "# Entrainement du modèle \n",
    "nir_40 = nir_40.reshape(-1,1)\n",
    "regression_model.fit(nir_40,y=density)\n",
    "# prediction \n",
    "density_predicted = regression_model.predict(X=nir_40)\n",
    "\n",
    "# Evaluation du modèle \n",
    "rmse = np.sqrt(mean_squared_error(y_true=density, y_pred= density_predicted))\n",
    "r2 = r2_score(y_true = density , y_pred= density_predicted)\n",
    "\n",
    "# Affichage des valeurs\n",
    "print(\"Pente : \" ,regression_model.coef_)\n",
    "print(\"Ordonnée à l'origine : \", regression_model.intercept_)\n",
    "print(\"Racine carrée de l'erreur quadratique moyenne : \", rmse)\n",
    "print('Sccore R2 : ', r2)\n"
   ]
  },
  {
   "cell_type": "code",
   "execution_count": 12,
   "metadata": {},
   "outputs": [
    {
     "data": {
      "image/png": "[encoded data removed]",
      "text/plain": [
       "<Figure size 1152x648 with 1 Axes>"
      ]
     },
     "metadata": {
      "needs_background": "light"
     },
     "output_type": "display_data"
    }
   ],
   "source": [
    "# Tracée des valeurs\n",
    "# Points de données\n",
    "plt.figure(figsize=(16,9))\n",
    "plt.scatter(nir_40, density, s=10)\n",
    "plt.xlabel('NIR40')\n",
    "plt.ylabel('Density')\n",
    "plt.title(\"Regression lineaire de la variable Density = f(NIR 40)\")\n",
    "# Valeurs prédites\n",
    "plt.plot(nir_40, density_predicted, color='r')\n",
    "plt.show()"
   ]
  },
  {
   "cell_type": "markdown",
   "metadata": {},
   "source": [
    "### Résultat de la regression lineaire simple \n",
    "Pente :  [-344.13963868]\n",
    "Ordonnée à l'origine :  [606.97466441]\n",
    "Racine carrée de l'erreur quadratique moyenne :  34.907256176224166\n",
    "Sccore R2 :  0.960745375260051 --> 96% de la variance est expliqué par ce modèle\n",
    "\n"
   ]
  },
  {
   "cell_type": "markdown",
   "metadata": {},
   "source": [
    "## 3 Selectionner les variables nir.40 et nir.219 et realiser la régression de la variable densit ́e en fonction de ces deux variables. Donnez le coefficient de corr ́elation multiple au carre R2.\n"
   ]
  },
  {
   "cell_type": "code",
   "execution_count": 13,
   "metadata": {},
   "outputs": [],
   "source": [
    "nir_219 = x_tereph[\"NIR.219\"].values\n",
    "nir_40 = x_tereph['NIR.40'].values"
   ]
  },
  {
   "cell_type": "code",
   "execution_count": null,
   "metadata": {},
   "outputs": [],
   "source": []
  },
  {
   "cell_type": "code",
   "execution_count": 14,
   "metadata": {},
   "outputs": [
    {
     "name": "stdout",
     "output_type": "stream",
     "text": [
      "Pente :  [-29.50283785   0.34107411]\n",
      "Ordonnée à l'origine :  33.620000000000026\n",
      "Racine carrée de l'erreur quadratique moyenne :  34.86581467867422\n",
      "Sccore R2 :  0.9607919779041193\n"
     ]
    }
   ],
   "source": [
    "# Réalisation de la regression lineaire en utilisant scikit learn\n",
    "regression_model = LinearRegression()\n",
    "# centrer les données \n",
    "nir = np.column_stack((nir_40,nir_219))\n",
    "standardscale = StandardScaler()\n",
    "nir = standardscale.fit_transform(nir)\n",
    "\n",
    "# Entrainement du modèle \n",
    "\n",
    "regression_model.fit(nir,y=density)\n",
    "# prediction \n",
    "density_predicted = regression_model.predict(X=nir)\n",
    "\n",
    "# Evaluation du modèle \n",
    "rmse = mean_squared_error(y_true=density, y_pred= density_predicted)\n",
    "r2 = r2_score(y_true = density , y_pred= density_predicted)\n",
    "\n",
    "# Affichage des valeurs\n",
    "print(\"Pente : \" ,regression_model.coef_)\n",
    "print(\"Ordonnée à l'origine : \", regression_model.intercept_)\n",
    "print(\"Racine carrée de l'erreur quadratique moyenne : \", rmse)\n",
    "print('Sccore R2 : ', r2)\n"
   ]
  },
  {
   "cell_type": "markdown",
   "metadata": {},
   "source": [
    "#### conclusion \n",
    " Pente :  [-347.36167309    7.36986092]\n",
    "Ordonnée à l'origine :  607.2158952354965\n",
    "Racine carrée de l'erreur quadratique moyenne :  34.86581467867437\n",
    "Sccore R2 :  0.9607919779041192 --> 96% de variance expliqué on peut donc dire que la variable NIR 219 n'a pas apporté d'information supplémentaire "
   ]
  },
  {
   "cell_type": "markdown",
   "metadata": {},
   "source": [
    "# PARTIE 2 :  Exercice de comprehension du grain 07"
   ]
  },
  {
   "cell_type": "markdown",
   "metadata": {},
   "source": [
    "## 1 Description du projet \n",
    "\n",
    "Les donnees utilisées ici concernent 187 huiles d’olives dont l’origine géographique est connue. L’objectif de cet exercice est de prédire l’acide linolénique C18-3ω3 en fonction des spectres PIR. Nous utiliserons les fichiers pir.tab et ags.tab."
   ]
  },
  {
   "cell_type": "markdown",
   "metadata": {},
   "source": [
    "## 2 Charger les fichiers pir.tab et ags.tab."
   ]
  },
  {
   "cell_type": "code",
   "execution_count": 15,
   "metadata": {},
   "outputs": [],
   "source": [
    "### chargement des données\n",
    "pir = pd.read_csv(\"data/pir.csv\")\n",
    "ags = pd.read_csv(\"data/ags.csv\")\n",
    "labels = pd.read_csv(\"data/labels2.csv\")"
   ]
  },
  {
   "cell_type": "code",
   "execution_count": 16,
   "metadata": {},
   "outputs": [
    {
     "data": {
      "text/html": [
       "<div>\n",
       "<style scoped>\n",
       "    .dataframe tbody tr th:only-of-type {\n",
       "        vertical-align: middle;\n",
       "    }\n",
       "\n",
       "    .dataframe tbody tr th {\n",
       "        vertical-align: top;\n",
       "    }\n",
       "\n",
       "    .dataframe thead th {\n",
       "        text-align: right;\n",
       "    }\n",
       "</style>\n",
       "<table border=\"1\" class=\"dataframe\">\n",
       "  <thead>\n",
       "    <tr style=\"text-align: right;\">\n",
       "      <th></th>\n",
       "      <th>Unnamed: 0</th>\n",
       "      <th>C16:0</th>\n",
       "      <th>C16:1w9</th>\n",
       "      <th>C16:1w7</th>\n",
       "      <th>C17:0</th>\n",
       "      <th>C17:1w8</th>\n",
       "      <th>C18:0</th>\n",
       "      <th>C18:1w9</th>\n",
       "      <th>C18:1w7</th>\n",
       "      <th>C18:2w6</th>\n",
       "      <th>C18:3w3</th>\n",
       "      <th>C20:0</th>\n",
       "      <th>C20:1w9</th>\n",
       "      <th>C22:0</th>\n",
       "      <th>C24:0</th>\n",
       "      <th>Squalene</th>\n",
       "    </tr>\n",
       "  </thead>\n",
       "  <tbody>\n",
       "    <tr>\n",
       "      <th>0</th>\n",
       "      <td>AP01</td>\n",
       "      <td>13.22</td>\n",
       "      <td>0.10</td>\n",
       "      <td>1.01</td>\n",
       "      <td>0.06</td>\n",
       "      <td>0.11</td>\n",
       "      <td>2.03</td>\n",
       "      <td>71.06</td>\n",
       "      <td>2.61</td>\n",
       "      <td>8.37</td>\n",
       "      <td>0.69</td>\n",
       "      <td>0.34</td>\n",
       "      <td>0.24</td>\n",
       "      <td>0.11</td>\n",
       "      <td>0.05</td>\n",
       "      <td>0.65</td>\n",
       "    </tr>\n",
       "    <tr>\n",
       "      <th>1</th>\n",
       "      <td>AP02</td>\n",
       "      <td>14.32</td>\n",
       "      <td>0.12</td>\n",
       "      <td>1.06</td>\n",
       "      <td>0.09</td>\n",
       "      <td>0.16</td>\n",
       "      <td>2.34</td>\n",
       "      <td>67.34</td>\n",
       "      <td>2.51</td>\n",
       "      <td>10.74</td>\n",
       "      <td>0.55</td>\n",
       "      <td>0.38</td>\n",
       "      <td>0.22</td>\n",
       "      <td>0.11</td>\n",
       "      <td>0.05</td>\n",
       "      <td>0.59</td>\n",
       "    </tr>\n",
       "    <tr>\n",
       "      <th>2</th>\n",
       "      <td>AP03</td>\n",
       "      <td>14.00</td>\n",
       "      <td>0.12</td>\n",
       "      <td>1.06</td>\n",
       "      <td>0.10</td>\n",
       "      <td>0.17</td>\n",
       "      <td>2.24</td>\n",
       "      <td>68.13</td>\n",
       "      <td>2.56</td>\n",
       "      <td>10.33</td>\n",
       "      <td>0.56</td>\n",
       "      <td>0.36</td>\n",
       "      <td>0.21</td>\n",
       "      <td>0.11</td>\n",
       "      <td>0.05</td>\n",
       "      <td>0.62</td>\n",
       "    </tr>\n",
       "    <tr>\n",
       "      <th>3</th>\n",
       "      <td>AP04</td>\n",
       "      <td>13.84</td>\n",
       "      <td>0.11</td>\n",
       "      <td>0.90</td>\n",
       "      <td>0.08</td>\n",
       "      <td>0.14</td>\n",
       "      <td>2.38</td>\n",
       "      <td>67.67</td>\n",
       "      <td>2.29</td>\n",
       "      <td>11.28</td>\n",
       "      <td>0.57</td>\n",
       "      <td>0.37</td>\n",
       "      <td>0.20</td>\n",
       "      <td>0.11</td>\n",
       "      <td>0.06</td>\n",
       "      <td>0.58</td>\n",
       "    </tr>\n",
       "    <tr>\n",
       "      <th>4</th>\n",
       "      <td>AP05</td>\n",
       "      <td>13.69</td>\n",
       "      <td>0.12</td>\n",
       "      <td>1.03</td>\n",
       "      <td>0.12</td>\n",
       "      <td>0.21</td>\n",
       "      <td>2.40</td>\n",
       "      <td>68.92</td>\n",
       "      <td>2.51</td>\n",
       "      <td>9.69</td>\n",
       "      <td>0.55</td>\n",
       "      <td>0.38</td>\n",
       "      <td>0.21</td>\n",
       "      <td>0.12</td>\n",
       "      <td>0.05</td>\n",
       "      <td>0.60</td>\n",
       "    </tr>\n",
       "  </tbody>\n",
       "</table>\n",
       "</div>"
      ],
      "text/plain": [
       "  Unnamed: 0  C16:0  C16:1w9  C16:1w7  C17:0  C17:1w8  C18:0  C18:1w9  \\\n",
       "0      AP01   13.22     0.10     1.01   0.06     0.11   2.03    71.06   \n",
       "1      AP02   14.32     0.12     1.06   0.09     0.16   2.34    67.34   \n",
       "2      AP03   14.00     0.12     1.06   0.10     0.17   2.24    68.13   \n",
       "3      AP04   13.84     0.11     0.90   0.08     0.14   2.38    67.67   \n",
       "4      AP05   13.69     0.12     1.03   0.12     0.21   2.40    68.92   \n",
       "\n",
       "   C18:1w7  C18:2w6  C18:3w3  C20:0  C20:1w9  C22:0  C24:0  Squalene  \n",
       "0     2.61     8.37     0.69   0.34     0.24   0.11   0.05      0.65  \n",
       "1     2.51    10.74     0.55   0.38     0.22   0.11   0.05      0.59  \n",
       "2     2.56    10.33     0.56   0.36     0.21   0.11   0.05      0.62  \n",
       "3     2.29    11.28     0.57   0.37     0.20   0.11   0.06      0.58  \n",
       "4     2.51     9.69     0.55   0.38     0.21   0.12   0.05      0.60  "
      ]
     },
     "execution_count": 16,
     "metadata": {},
     "output_type": "execute_result"
    }
   ],
   "source": [
    "ags.head()"
   ]
  },
  {
   "cell_type": "code",
   "execution_count": 17,
   "metadata": {},
   "outputs": [
    {
     "data": {
      "text/html": [
       "<div>\n",
       "<style scoped>\n",
       "    .dataframe tbody tr th:only-of-type {\n",
       "        vertical-align: middle;\n",
       "    }\n",
       "\n",
       "    .dataframe tbody tr th {\n",
       "        vertical-align: top;\n",
       "    }\n",
       "\n",
       "    .dataframe thead th {\n",
       "        text-align: right;\n",
       "    }\n",
       "</style>\n",
       "<table border=\"1\" class=\"dataframe\">\n",
       "  <thead>\n",
       "    <tr style=\"text-align: right;\">\n",
       "      <th></th>\n",
       "      <th></th>\n",
       "      <th>1000</th>\n",
       "      <th>1002</th>\n",
       "      <th>1004</th>\n",
       "      <th>1006</th>\n",
       "      <th>1008</th>\n",
       "      <th>1010</th>\n",
       "      <th>1012</th>\n",
       "      <th>1014</th>\n",
       "      <th>1016</th>\n",
       "      <th>...</th>\n",
       "      <th>2204</th>\n",
       "      <th>2206</th>\n",
       "      <th>2208</th>\n",
       "      <th>2210</th>\n",
       "      <th>2212</th>\n",
       "      <th>2214</th>\n",
       "      <th>2216</th>\n",
       "      <th>2218</th>\n",
       "      <th>2220</th>\n",
       "      <th>2222</th>\n",
       "    </tr>\n",
       "  </thead>\n",
       "  <tbody>\n",
       "    <tr>\n",
       "      <th>0</th>\n",
       "      <td>AP01</td>\n",
       "      <td>-0.048440</td>\n",
       "      <td>-0.048092</td>\n",
       "      <td>-0.047316</td>\n",
       "      <td>-0.046144</td>\n",
       "      <td>-0.045150</td>\n",
       "      <td>-0.043572</td>\n",
       "      <td>-0.042092</td>\n",
       "      <td>-0.040565</td>\n",
       "      <td>-0.040039</td>\n",
       "      <td>...</td>\n",
       "      <td>0.20674</td>\n",
       "      <td>0.20972</td>\n",
       "      <td>0.21389</td>\n",
       "      <td>0.21894</td>\n",
       "      <td>0.22447</td>\n",
       "      <td>0.23109</td>\n",
       "      <td>0.23900</td>\n",
       "      <td>0.24760</td>\n",
       "      <td>0.25572</td>\n",
       "      <td>0.26319</td>\n",
       "    </tr>\n",
       "    <tr>\n",
       "      <th>1</th>\n",
       "      <td>AP02</td>\n",
       "      <td>-0.039741</td>\n",
       "      <td>-0.039632</td>\n",
       "      <td>-0.039018</td>\n",
       "      <td>-0.037626</td>\n",
       "      <td>-0.036367</td>\n",
       "      <td>-0.035787</td>\n",
       "      <td>-0.034085</td>\n",
       "      <td>-0.032902</td>\n",
       "      <td>-0.031115</td>\n",
       "      <td>...</td>\n",
       "      <td>0.20709</td>\n",
       "      <td>0.20969</td>\n",
       "      <td>0.21348</td>\n",
       "      <td>0.21798</td>\n",
       "      <td>0.22370</td>\n",
       "      <td>0.23022</td>\n",
       "      <td>0.23842</td>\n",
       "      <td>0.24706</td>\n",
       "      <td>0.25568</td>\n",
       "      <td>0.26325</td>\n",
       "    </tr>\n",
       "    <tr>\n",
       "      <th>2</th>\n",
       "      <td>AP03</td>\n",
       "      <td>-0.044596</td>\n",
       "      <td>-0.044075</td>\n",
       "      <td>-0.043265</td>\n",
       "      <td>-0.042641</td>\n",
       "      <td>-0.041595</td>\n",
       "      <td>-0.039918</td>\n",
       "      <td>-0.038797</td>\n",
       "      <td>-0.036772</td>\n",
       "      <td>-0.035691</td>\n",
       "      <td>...</td>\n",
       "      <td>0.21084</td>\n",
       "      <td>0.21384</td>\n",
       "      <td>0.21781</td>\n",
       "      <td>0.22274</td>\n",
       "      <td>0.22816</td>\n",
       "      <td>0.23511</td>\n",
       "      <td>0.24303</td>\n",
       "      <td>0.25140</td>\n",
       "      <td>0.25961</td>\n",
       "      <td>0.26728</td>\n",
       "    </tr>\n",
       "    <tr>\n",
       "      <th>3</th>\n",
       "      <td>AP04</td>\n",
       "      <td>-0.046453</td>\n",
       "      <td>-0.046504</td>\n",
       "      <td>-0.045753</td>\n",
       "      <td>-0.044264</td>\n",
       "      <td>-0.043697</td>\n",
       "      <td>-0.042527</td>\n",
       "      <td>-0.041353</td>\n",
       "      <td>-0.039224</td>\n",
       "      <td>-0.038729</td>\n",
       "      <td>...</td>\n",
       "      <td>0.20320</td>\n",
       "      <td>0.20600</td>\n",
       "      <td>0.20954</td>\n",
       "      <td>0.21416</td>\n",
       "      <td>0.21955</td>\n",
       "      <td>0.22650</td>\n",
       "      <td>0.23430</td>\n",
       "      <td>0.24307</td>\n",
       "      <td>0.25165</td>\n",
       "      <td>0.25970</td>\n",
       "    </tr>\n",
       "    <tr>\n",
       "      <th>4</th>\n",
       "      <td>AP05</td>\n",
       "      <td>-0.047020</td>\n",
       "      <td>-0.046133</td>\n",
       "      <td>-0.044943</td>\n",
       "      <td>-0.044525</td>\n",
       "      <td>-0.043642</td>\n",
       "      <td>-0.041699</td>\n",
       "      <td>-0.040246</td>\n",
       "      <td>-0.039083</td>\n",
       "      <td>-0.037985</td>\n",
       "      <td>...</td>\n",
       "      <td>0.21023</td>\n",
       "      <td>0.21331</td>\n",
       "      <td>0.21699</td>\n",
       "      <td>0.22182</td>\n",
       "      <td>0.22742</td>\n",
       "      <td>0.23409</td>\n",
       "      <td>0.24198</td>\n",
       "      <td>0.25043</td>\n",
       "      <td>0.25854</td>\n",
       "      <td>0.26626</td>\n",
       "    </tr>\n",
       "  </tbody>\n",
       "</table>\n",
       "<p>5 rows × 613 columns</p>\n",
       "</div>"
      ],
      "text/plain": [
       "              1000      1002      1004      1006      1008      1010  \\\n",
       "0  AP01  -0.048440 -0.048092 -0.047316 -0.046144 -0.045150 -0.043572   \n",
       "1  AP02  -0.039741 -0.039632 -0.039018 -0.037626 -0.036367 -0.035787   \n",
       "2  AP03  -0.044596 -0.044075 -0.043265 -0.042641 -0.041595 -0.039918   \n",
       "3  AP04  -0.046453 -0.046504 -0.045753 -0.044264 -0.043697 -0.042527   \n",
       "4  AP05  -0.047020 -0.046133 -0.044943 -0.044525 -0.043642 -0.041699   \n",
       "\n",
       "       1012      1014      1016  ...     2204     2206     2208     2210  \\\n",
       "0 -0.042092 -0.040565 -0.040039  ...  0.20674  0.20972  0.21389  0.21894   \n",
       "1 -0.034085 -0.032902 -0.031115  ...  0.20709  0.20969  0.21348  0.21798   \n",
       "2 -0.038797 -0.036772 -0.035691  ...  0.21084  0.21384  0.21781  0.22274   \n",
       "3 -0.041353 -0.039224 -0.038729  ...  0.20320  0.20600  0.20954  0.21416   \n",
       "4 -0.040246 -0.039083 -0.037985  ...  0.21023  0.21331  0.21699  0.22182   \n",
       "\n",
       "      2212     2214     2216     2218     2220    2222   \n",
       "0  0.22447  0.23109  0.23900  0.24760  0.25572  0.26319  \n",
       "1  0.22370  0.23022  0.23842  0.24706  0.25568  0.26325  \n",
       "2  0.22816  0.23511  0.24303  0.25140  0.25961  0.26728  \n",
       "3  0.21955  0.22650  0.23430  0.24307  0.25165  0.25970  \n",
       "4  0.22742  0.23409  0.24198  0.25043  0.25854  0.26626  \n",
       "\n",
       "[5 rows x 613 columns]"
      ]
     },
     "execution_count": 17,
     "metadata": {},
     "output_type": "execute_result"
    }
   ],
   "source": [
    "pir.head()"
   ]
  },
  {
   "cell_type": "code",
   "execution_count": 18,
   "metadata": {},
   "outputs": [
    {
     "data": {
      "text/html": [
       "<div>\n",
       "<style scoped>\n",
       "    .dataframe tbody tr th:only-of-type {\n",
       "        vertical-align: middle;\n",
       "    }\n",
       "\n",
       "    .dataframe tbody tr th {\n",
       "        vertical-align: top;\n",
       "    }\n",
       "\n",
       "    .dataframe thead th {\n",
       "        text-align: right;\n",
       "    }\n",
       "</style>\n",
       "<table border=\"1\" class=\"dataframe\">\n",
       "  <thead>\n",
       "    <tr style=\"text-align: right;\">\n",
       "      <th></th>\n",
       "      <th></th>\n",
       "      <th>code1</th>\n",
       "      <th>code2</th>\n",
       "    </tr>\n",
       "  </thead>\n",
       "  <tbody>\n",
       "    <tr>\n",
       "      <th>0</th>\n",
       "      <td>AP01</td>\n",
       "      <td>1</td>\n",
       "      <td>AP</td>\n",
       "    </tr>\n",
       "    <tr>\n",
       "      <th>1</th>\n",
       "      <td>AP02</td>\n",
       "      <td>1</td>\n",
       "      <td>AP</td>\n",
       "    </tr>\n",
       "    <tr>\n",
       "      <th>2</th>\n",
       "      <td>AP03</td>\n",
       "      <td>1</td>\n",
       "      <td>AP</td>\n",
       "    </tr>\n",
       "    <tr>\n",
       "      <th>3</th>\n",
       "      <td>AP04</td>\n",
       "      <td>1</td>\n",
       "      <td>AP</td>\n",
       "    </tr>\n",
       "    <tr>\n",
       "      <th>4</th>\n",
       "      <td>AP05</td>\n",
       "      <td>1</td>\n",
       "      <td>AP</td>\n",
       "    </tr>\n",
       "  </tbody>\n",
       "</table>\n",
       "</div>"
      ],
      "text/plain": [
       "          code1 code2\n",
       "0  AP01       1    AP\n",
       "1  AP02       1    AP\n",
       "2  AP03       1    AP\n",
       "3  AP04       1    AP\n",
       "4  AP05       1    AP"
      ]
     },
     "execution_count": 18,
     "metadata": {},
     "output_type": "execute_result"
    }
   ],
   "source": [
    "labels.head()"
   ]
  },
  {
   "cell_type": "code",
   "execution_count": 19,
   "metadata": {},
   "outputs": [],
   "source": [
    "# recuperer les classes origines :\n",
    "classe = labels[\"code2\"].values"
   ]
  },
  {
   "cell_type": "code",
   "execution_count": 20,
   "metadata": {},
   "outputs": [],
   "source": [
    "# recuperer la valeur à predire ou à expliquer\n",
    "c18_3w3 = ags['C18:3w3'].values"
   ]
  },
  {
   "cell_type": "code",
   "execution_count": 21,
   "metadata": {},
   "outputs": [],
   "source": [
    "# recuperez  les valeurs spectrales comme intensities wavelength  \n",
    "wavelength = pir.drop('  ',axis=1)\n",
    "wavelength =  np.array(wavelength.columns, dtype=float)\n",
    "intensities = pir.drop('  ',axis=1)\n",
    "intensities = intensities.values"
   ]
  },
  {
   "cell_type": "markdown",
   "metadata": {},
   "source": [
    "## 3 Selectionner 10 longueurs d’ondes"
   ]
  },
  {
   "cell_type": "markdown",
   "metadata": {},
   "source": [
    "Les 10 longueurs d'ondes à utiliser sont données en indices dans l'exercice : 1000, 1124, 1248, 1372, 1496, 1620, 1744, 1868, 1992 et 2116nm"
   ]
  },
  {
   "cell_type": "code",
   "execution_count": 22,
   "metadata": {},
   "outputs": [
    {
     "data": {
      "text/plain": [
       "(187, 10)"
      ]
     },
     "execution_count": 22,
     "metadata": {},
     "output_type": "execute_result"
    }
   ],
   "source": [
    "# recuperons les indices suivantes\n",
    "indices = np.where(np.in1d(wavelength, [1000, 1124, 1248, 1372, 1496, 1620, 1744, 1868, 1992 ,2116]))\n",
    "\n",
    "intensities_filtered = intensities[:,indices[0]]\n",
    "intensities_filtered.shape\n"
   ]
  },
  {
   "cell_type": "markdown",
   "metadata": {},
   "source": [
    "## 4 Quel est le nombre d’observations ? de variables explicatives ?\n",
    "nombre d’observations : 187\n",
    "Variable explicatives : 10\n",
    "(187, 1, 10)"
   ]
  },
  {
   "cell_type": "markdown",
   "metadata": {},
   "source": [
    "## 5 Realisez la régression multiple de la variable linoleique en fonction des 10 longueurs d’ondes sélectionnées. Donnez le coefficient de corrélation multiple."
   ]
  },
  {
   "cell_type": "code",
   "execution_count": 23,
   "metadata": {},
   "outputs": [
    {
     "name": "stdout",
     "output_type": "stream",
     "text": [
      "Pente :  [-0.00686456 -0.10227075 -0.02874403  0.0824108   0.37881812 -0.29186662\n",
      " -0.12806555  0.02258288  0.02934634  0.01614267]\n",
      "Ordonnée à l'origine :  0.595080213903742\n",
      "Racine carrée de l'erreur quadratique moyenne :  0.06211001985619149\n",
      "Sccore R2 :  0.46614712306623374\n",
      "Coefficient de correlation :  0.6827496781883048\n"
     ]
    }
   ],
   "source": [
    "# Réalisation de la regression lineaire en utilisant scikit learn\n",
    "regression_model = LinearRegression()\n",
    "# centrer les données \n",
    "standardscale = StandardScaler()\n",
    "intensities_filtered = standardscale.fit_transform(intensities_filtered)\n",
    "\n",
    "# Entrainement du modèle \n",
    "\n",
    "regression_model.fit(intensities_filtered,y=c18_3w3)\n",
    "# prediction \n",
    "c18_3w3_predicted = regression_model.predict(X=intensities_filtered)\n",
    "\n",
    "# Evaluation du modèle \n",
    "rmse =np.sqrt(mean_squared_error(y_true=c18_3w3, y_pred= c18_3w3_predicted))\n",
    "r2 = r2_score(y_true=c18_3w3, y_pred= c18_3w3_predicted)\n",
    "r = np.sqrt(r2)\n",
    "# Affichage des valeurs\n",
    "print(\"Pente : \" ,regression_model.coef_)\n",
    "print(\"Ordonnée à l'origine : \", regression_model.intercept_)\n",
    "print(\"Racine carrée de l'erreur quadratique moyenne : \", rmse)\n",
    "print('Sccore R2 : ', r2)\n",
    "print('Coefficient de correlation : ', r)"
   ]
  },
  {
   "cell_type": "markdown",
   "metadata": {},
   "source": [
    "### Resultat\n",
    "Pente :  [[  -1.66740451  -27.78796939   -8.48065889   26.2202775   126.95634869\n",
    "  -101.71606155  -46.6704157     8.03716696   10.86459233    6.26973814]]\n",
    "Ordonnée à l'origine :  [17.10534109]\n",
    "Racine carrée de l'erreur quadratique moyenne :  0.06211001985619129\n",
    "Sccore R2 :  0.4661471230662373 --> modèle pas interessant (est ce que les longueurs d'ondes choisis sont les bonnes ? on saura pas vu que cela fut indiqués)\n",
    "Coefficient de correlation :  0.6827496781883073\n",
    "\n"
   ]
  },
  {
   "cell_type": "markdown",
   "metadata": {},
   "source": [
    "## 6 Realisez un premier graphique representant les residus sur les y contre les valeurs prédites, et un second graphique representant le qq-plot des résidus.\n"
   ]
  },
  {
   "cell_type": "code",
   "execution_count": 24,
   "metadata": {},
   "outputs": [
    {
     "data": {
      "image/png": "[encoded data removed]",
      "text/plain": [
       "<Figure size 1152x648 with 1 Axes>"
      ]
     },
     "metadata": {
      "needs_background": "light"
     },
     "output_type": "display_data"
    }
   ],
   "source": [
    "# Calcul des résidus\n",
    "residuals = c18_3w3 - c18_3w3_predicted\n",
    "\n",
    "# Créez un graphique de dispersion des résidus par rapport aux valeurs prédites\n",
    "plt.figure(figsize=(16, 9))\n",
    "plt.scatter(c18_3w3_predicted, residuals, alpha=0.5)\n",
    "plt.xlabel('Valeurs Prédites')\n",
    "plt.ylabel('Résidus')\n",
    "plt.title('Graphique des Résidus')\n",
    "plt.grid(True)\n",
    "\n",
    "# Affichez le graphique\n",
    "plt.show()"
   ]
  },
  {
   "cell_type": "code",
   "execution_count": 25,
   "metadata": {},
   "outputs": [
    {
     "data": {
      "image/png": "[encoded data removed]",
      "text/plain": [
       "<Figure size 432x288 with 1 Axes>"
      ]
     },
     "metadata": {
      "needs_background": "light"
     },
     "output_type": "display_data"
    }
   ],
   "source": [
    "# Créez un QQ-plot pour comparer les résidus à une distribution normale\n",
    "sm.qqplot(residuals, line='45', fit=True ) # line (45 ou q à bookiner encore )\n",
    "\n",
    "# Personnalisez le graphique\n",
    "plt.title('QQ-Plot des Résidus')\n",
    "\n",
    "# Affichez le graphique\n",
    "plt.show()"
   ]
  },
  {
   "cell_type": "markdown",
   "metadata": {},
   "source": [
    "### Conclusion \n",
    "\n",
    "- Graphique des Résidus : les résidus augmentent plus la valeur prédites augmente alors elle n'est pas aléatoire (donc le modèle n'est pas bon ) de plus ils sont pas aléatoirement répartis autour de 0.\n",
    "- QQ-plot des résidus : Le qqplot permet d'évaluer la normalité des residus on observe que les résidus s'écartent peu à peu de la normalité "
   ]
  },
  {
   "cell_type": "markdown",
   "metadata": {},
   "source": [
    "## 7 Rajouter les labels de l’origine geographique sur le graphique des residus - valeurs predites le premier graphique de la figure precedente). Que pensez-vous de ce modele ?"
   ]
  },
  {
   "cell_type": "code",
   "execution_count": 26,
   "metadata": {},
   "outputs": [
    {
     "data": {
      "image/png": "[encoded data removed]",
      "text/plain": [
       "<Figure size 1152x648 with 1 Axes>"
      ]
     },
     "metadata": {
      "needs_background": "light"
     },
     "output_type": "display_data"
    }
   ],
   "source": [
    "# Supposons que vous avez un tableau de classes appelé 'classes'\n",
    "unique_classes = np.unique(classe)\n",
    "\n",
    "# Créez un dictionnaire de couleurs en générant automatiquement des couleurs uniques\n",
    "class_colors = {cls: plt.cm.jet(i / float(len(unique_classes))) for i, cls in enumerate(unique_classes)}\n",
    "\n",
    "plt.figure(figsize=(16, 9))\n",
    "for cls in unique_classes:\n",
    "    mask = (classe == cls)\n",
    "    plt.scatter(c18_3w3_predicted[mask], residuals[mask], label=cls, color=class_colors[cls], alpha=0.5)\n",
    "\n",
    "plt.xlabel('Valeurs Prédites')\n",
    "plt.ylabel('Résidus')\n",
    "plt.title(\"Graphique des Résidus en fonction de l'Origine geographique\")\n",
    "plt.grid(True)\n",
    "plt.legend()\n",
    "\n",
    "# Affichez le graphique\n",
    "plt.show()"
   ]
  },
  {
   "cell_type": "markdown",
   "metadata": {},
   "source": [
    "### Observation \n",
    "La repartion des résidus en fonction de l'origine montre bien que les huiles de NM nimes se demarques des autres. Ainsi le modèle semble dependre des origines de l'huile\n"
   ]
  },
  {
   "cell_type": "markdown",
   "metadata": {},
   "source": [
    "# FIN "
   ]
  }
 ],
 "metadata": {
  "kernelspec": {
   "display_name": "Python 3",
   "language": "python",
   "name": "python3"
  },
  "language_info": {
   "codemirror_mode": {
    "name": "ipython",
    "version": 3
   },
   "file_extension": ".py",
   "mimetype": "text/x-python",
   "name": "python",
   "nbconvert_exporter": "python",
   "pygments_lexer": "ipython3",
   "version": "3.9.12"
  },
  "orig_nbformat": 4
 },
 "nbformat": 4,
 "nbformat_minor": 2
}
