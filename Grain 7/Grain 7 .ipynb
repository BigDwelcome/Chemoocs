{
 "cells": [
  {
   "cell_type": "code",
   "execution_count": 80,
   "metadata": {},
   "outputs": [],
   "source": [
    "import this"
   ]
  },
  {
   "cell_type": "code",
   "execution_count": 81,
   "metadata": {},
   "outputs": [],
   "source": [
    "import pandas as pd\n",
    "import numpy as np\n",
    "import matplotlib.pyplot as plt\n",
    "import seaborn as sns\n",
    "import numpy as np\n",
    "from sklearn.preprocessing import StandardScaler\n",
    "from sklearn.decomposition import PCA\n",
    "from matplotlib.colors import ListedColormap, Normalize\n",
    "from matplotlib.cm import get_cmap\n",
    "from scipy.signal import savgol_filter\n",
    "from sklearn.cluster import AgglomerativeClustering\n",
    "from scipy.cluster.hierarchy import fcluster\n",
    "from scipy.cluster.hierarchy import dendrogram, linkage\n",
    "from sklearn.cluster import KMeans\n",
    "from sklearn.linear_model import LinearRegression\n",
    "from sklearn.metrics import mean_squared_error, r2_score"
   ]
  },
  {
   "cell_type": "markdown",
   "metadata": {},
   "source": [
    "# Fonctions utilisées dans ce projet "
   ]
  },
  {
   "cell_type": "code",
   "execution_count": 82,
   "metadata": {},
   "outputs": [],
   "source": [
    "## Appliquons la snv à notre array intensities et visualisons \n",
    "def snv_spectrum(spectrum):\n",
    "    mean = np.mean(spectrum)  # Calcul de la moyenne du spectre\n",
    "    std_dev = np.std(spectrum)  # Calcul de l'écart type du spectre\n",
    "    snv_spectrum = (spectrum - mean) / std_dev  # Transformation SNV\n",
    "    return snv_spectrum\n",
    "\n",
    "def plot_acp_individuals(score, plan_indices, class_labels, explained_variance, individual_names=None):\n",
    "    \"\"\"\n",
    "    Affiche la carte factorielle des individus d'une ACP.\n",
    "\n",
    "    Args:\n",
    "        score (array): Les scores (coordonnées des individus) de l'ACP.\n",
    "        plan_indices (tuple): Les indices des composantes principales à afficher (par exemple, (0, 1) pour le plan 2D).\n",
    "        class_labels (array): Les classes à utiliser pour colorier les individus.\n",
    "        explained_variance (array): La variance expliquée par chaque composante principale de l'ACP.\n",
    "        individual_names (array, facultatif): Les noms des individus (ou labels). Par défaut, None.\n",
    "    \"\"\"\n",
    "\n",
    "    # Extraire les indices des composantes principales à afficher\n",
    "    component1_index, component2_index = plan_indices\n",
    "\n",
    "    # Plotter la carte factorielle des individus\n",
    "    plt.figure(figsize=(16, 9))\n",
    "    for label in set(class_labels):\n",
    "        mask = (class_labels == label)\n",
    "        plt.scatter(score[mask, component1_index], score[mask, component2_index], label=label)\n",
    "\n",
    "    # Ajouter des labels aux points (en vérifiant si le nom est différent de None)\n",
    "    if individual_names is not None:\n",
    "        for i, name in enumerate(individual_names):\n",
    "            if name is not None:\n",
    "                plt.annotate(name, (score[i, component1_index], score[i, component2_index]))\n",
    "\n",
    "    # Afficher la variance expliquée par chaque composante dans le titre du graphique\n",
    "    plt.title('Carte Factorielle des Individus\\n' + '\\n'.join([f'Composante {i+1}: {explained_variance[i]:.2%}' for i in plan_indices]))\n",
    "    plt.xlabel(f'Composante Principale {component1_index + 1}')\n",
    "    plt.ylabel(f'Composante Principale {component2_index + 1}')\n",
    "    plt.legend()\n",
    "    plt.grid(True, axis='both')\n",
    "    plt.show()\n",
    "\n",
    "# Exemple d'utilisation de la fonction avec individual_names facultatif\n",
    "# Vous pouvez fournir ou omettre individual_names en fonction de vos besoins.\n",
    "# plot_acp_individuals(score, (0, 1), class_labels, explained_variance)\n",
    "# plot_acp_individuals(score, (0, 1), class_labels, explained_variance, individual_names)\n",
    "\n",
    "\n",
    "\n",
    "def plot_dendrogram(model, **kwargs):\n",
    "    \"\"\"\n",
    "    Plot a dendrogram based on a hierarchical clustering model.\n",
    "\n",
    "    Args:\n",
    "        model (AgglomerativeClustering): The hierarchical clustering model.\n",
    "        **kwargs: Additional keyword arguments for customizing the dendrogram plot.\n",
    "    \"\"\"\n",
    "    # Create an array to store the counts of samples under each node\n",
    "    counts = np.zeros(model.children_.shape[0])\n",
    "    n_samples = len(model.labels_)\n",
    "\n",
    "    # Calculate counts for each node in the hierarchical tree\n",
    "    for i, merge in enumerate(model.children_):\n",
    "        current_count = 0\n",
    "        for child_idx in merge:\n",
    "            if child_idx < n_samples:\n",
    "                current_count += 1  # Leaf node\n",
    "            else:\n",
    "                current_count += counts[child_idx - n_samples]\n",
    "        counts[i] = current_count\n",
    "\n",
    "    # Create a linkage matrix containing children, distances, and counts\n",
    "    linkage_matrix = np.column_stack(\n",
    "        [model.children_, model.distances_, counts]\n",
    "    ).astype(float)\n",
    "\n",
    "    # Plot the dendrogram using the linkage matrix and custom kwargs\n",
    "    dendrogram(linkage_matrix, **kwargs)\n"
   ]
  },
  {
   "cell_type": "markdown",
   "metadata": {},
   "source": [
    "# Partie 1 : Exercice de reproduction \n",
    "\n",
    "## 1 Description du projet \n",
    "\n",
    "A partir du jeu de donnees d’analyses des terephtalates utilise dans le cours, vous allez realiser une r egression simple et une regression multiple.\n",
    "\n",
    "## 2 Dans x tereph.tab selectionnez la quarantieme longueur d’onde du tableau, qu’on notera NIR40, et calculez le coefficient de corr ́elation et les coefficients du mod`ele de r ́egression lineaire de la variable densite en fonction de NIR40."
   ]
  },
  {
   "cell_type": "code",
   "execution_count": 83,
   "metadata": {},
   "outputs": [],
   "source": [
    "# importer les données \n",
    "x_tereph = pd.read_csv('data/x_tereph.csv')\n",
    "y_tereph = pd.read_csv('data/y_tereph.csv')"
   ]
  },
  {
   "cell_type": "code",
   "execution_count": 84,
   "metadata": {},
   "outputs": [
    {
     "data": {
      "text/html": [
       "<div>\n",
       "<style scoped>\n",
       "    .dataframe tbody tr th:only-of-type {\n",
       "        vertical-align: middle;\n",
       "    }\n",
       "\n",
       "    .dataframe tbody tr th {\n",
       "        vertical-align: top;\n",
       "    }\n",
       "\n",
       "    .dataframe thead th {\n",
       "        text-align: right;\n",
       "    }\n",
       "</style>\n",
       "<table border=\"1\" class=\"dataframe\">\n",
       "  <thead>\n",
       "    <tr style=\"text-align: right;\">\n",
       "      <th></th>\n",
       "      <th>\\</th>\n",
       "      <th>NIR.1</th>\n",
       "      <th>NIR.2</th>\n",
       "      <th>NIR.3</th>\n",
       "      <th>NIR.4</th>\n",
       "      <th>NIR.5</th>\n",
       "      <th>NIR.6</th>\n",
       "      <th>NIR.7</th>\n",
       "      <th>NIR.8</th>\n",
       "      <th>NIR.9</th>\n",
       "      <th>...</th>\n",
       "      <th>NIR.259</th>\n",
       "      <th>NIR.260</th>\n",
       "      <th>NIR.261</th>\n",
       "      <th>NIR.262</th>\n",
       "      <th>NIR.263</th>\n",
       "      <th>NIR.264</th>\n",
       "      <th>NIR.265</th>\n",
       "      <th>NIR.266</th>\n",
       "      <th>NIR.267</th>\n",
       "      <th>NIR.268</th>\n",
       "    </tr>\n",
       "  </thead>\n",
       "  <tbody>\n",
       "    <tr>\n",
       "      <th>0</th>\n",
       "      <td>1</td>\n",
       "      <td>3.0663</td>\n",
       "      <td>3.0861</td>\n",
       "      <td>3.1079</td>\n",
       "      <td>3.0972</td>\n",
       "      <td>2.9979</td>\n",
       "      <td>2.8273</td>\n",
       "      <td>2.6233</td>\n",
       "      <td>2.4039</td>\n",
       "      <td>2.1931</td>\n",
       "      <td>...</td>\n",
       "      <td>0.31308</td>\n",
       "      <td>0.30753</td>\n",
       "      <td>0.30313</td>\n",
       "      <td>0.29980</td>\n",
       "      <td>0.29748</td>\n",
       "      <td>0.29592</td>\n",
       "      <td>0.29489</td>\n",
       "      <td>0.29440</td>\n",
       "      <td>0.29432</td>\n",
       "      <td>0.29443</td>\n",
       "    </tr>\n",
       "    <tr>\n",
       "      <th>1</th>\n",
       "      <td>2</td>\n",
       "      <td>3.0675</td>\n",
       "      <td>3.0857</td>\n",
       "      <td>3.0958</td>\n",
       "      <td>3.0692</td>\n",
       "      <td>2.9818</td>\n",
       "      <td>2.8408</td>\n",
       "      <td>2.6760</td>\n",
       "      <td>2.5059</td>\n",
       "      <td>2.3506</td>\n",
       "      <td>...</td>\n",
       "      <td>0.31686</td>\n",
       "      <td>0.31195</td>\n",
       "      <td>0.30806</td>\n",
       "      <td>0.30499</td>\n",
       "      <td>0.30283</td>\n",
       "      <td>0.30149</td>\n",
       "      <td>0.30066</td>\n",
       "      <td>0.30031</td>\n",
       "      <td>0.30030</td>\n",
       "      <td>0.30041</td>\n",
       "    </tr>\n",
       "    <tr>\n",
       "      <th>2</th>\n",
       "      <td>3</td>\n",
       "      <td>3.0750</td>\n",
       "      <td>3.0966</td>\n",
       "      <td>3.0916</td>\n",
       "      <td>3.0288</td>\n",
       "      <td>2.8849</td>\n",
       "      <td>2.6885</td>\n",
       "      <td>2.4764</td>\n",
       "      <td>2.2694</td>\n",
       "      <td>2.0824</td>\n",
       "      <td>...</td>\n",
       "      <td>0.34026</td>\n",
       "      <td>0.33545</td>\n",
       "      <td>0.33164</td>\n",
       "      <td>0.32891</td>\n",
       "      <td>0.32703</td>\n",
       "      <td>0.32573</td>\n",
       "      <td>0.32493</td>\n",
       "      <td>0.32464</td>\n",
       "      <td>0.32460</td>\n",
       "      <td>0.32474</td>\n",
       "    </tr>\n",
       "    <tr>\n",
       "      <th>3</th>\n",
       "      <td>4</td>\n",
       "      <td>3.0828</td>\n",
       "      <td>3.0973</td>\n",
       "      <td>3.1010</td>\n",
       "      <td>3.0735</td>\n",
       "      <td>2.9913</td>\n",
       "      <td>2.8709</td>\n",
       "      <td>2.7392</td>\n",
       "      <td>2.6102</td>\n",
       "      <td>2.5000</td>\n",
       "      <td>...</td>\n",
       "      <td>0.32389</td>\n",
       "      <td>0.31947</td>\n",
       "      <td>0.31605</td>\n",
       "      <td>0.31332</td>\n",
       "      <td>0.31139</td>\n",
       "      <td>0.31023</td>\n",
       "      <td>0.30955</td>\n",
       "      <td>0.30928</td>\n",
       "      <td>0.30932</td>\n",
       "      <td>0.30947</td>\n",
       "    </tr>\n",
       "    <tr>\n",
       "      <th>4</th>\n",
       "      <td>5</td>\n",
       "      <td>3.1029</td>\n",
       "      <td>3.1034</td>\n",
       "      <td>3.0848</td>\n",
       "      <td>3.0228</td>\n",
       "      <td>2.8927</td>\n",
       "      <td>2.7159</td>\n",
       "      <td>2.5384</td>\n",
       "      <td>2.3764</td>\n",
       "      <td>2.2397</td>\n",
       "      <td>...</td>\n",
       "      <td>0.32394</td>\n",
       "      <td>0.31977</td>\n",
       "      <td>0.31649</td>\n",
       "      <td>0.31397</td>\n",
       "      <td>0.31218</td>\n",
       "      <td>0.31108</td>\n",
       "      <td>0.31046</td>\n",
       "      <td>0.31021</td>\n",
       "      <td>0.31026</td>\n",
       "      <td>0.31049</td>\n",
       "    </tr>\n",
       "  </tbody>\n",
       "</table>\n",
       "<p>5 rows × 269 columns</p>\n",
       "</div>"
      ],
      "text/plain": [
       "   \\   NIR.1   NIR.2   NIR.3   NIR.4   NIR.5   NIR.6   NIR.7   NIR.8   NIR.9  \\\n",
       "0  1  3.0663  3.0861  3.1079  3.0972  2.9979  2.8273  2.6233  2.4039  2.1931   \n",
       "1  2  3.0675  3.0857  3.0958  3.0692  2.9818  2.8408  2.6760  2.5059  2.3506   \n",
       "2  3  3.0750  3.0966  3.0916  3.0288  2.8849  2.6885  2.4764  2.2694  2.0824   \n",
       "3  4  3.0828  3.0973  3.1010  3.0735  2.9913  2.8709  2.7392  2.6102  2.5000   \n",
       "4  5  3.1029  3.1034  3.0848  3.0228  2.8927  2.7159  2.5384  2.3764  2.2397   \n",
       "\n",
       "   ...  NIR.259  NIR.260  NIR.261  NIR.262  NIR.263  NIR.264  NIR.265  \\\n",
       "0  ...  0.31308  0.30753  0.30313  0.29980  0.29748  0.29592  0.29489   \n",
       "1  ...  0.31686  0.31195  0.30806  0.30499  0.30283  0.30149  0.30066   \n",
       "2  ...  0.34026  0.33545  0.33164  0.32891  0.32703  0.32573  0.32493   \n",
       "3  ...  0.32389  0.31947  0.31605  0.31332  0.31139  0.31023  0.30955   \n",
       "4  ...  0.32394  0.31977  0.31649  0.31397  0.31218  0.31108  0.31046   \n",
       "\n",
       "   NIR.266  NIR.267  NIR.268  \n",
       "0  0.29440  0.29432  0.29443  \n",
       "1  0.30031  0.30030  0.30041  \n",
       "2  0.32464  0.32460  0.32474  \n",
       "3  0.30928  0.30932  0.30947  \n",
       "4  0.31021  0.31026  0.31049  \n",
       "\n",
       "[5 rows x 269 columns]"
      ]
     },
     "execution_count": 84,
     "metadata": {},
     "output_type": "execute_result"
    }
   ],
   "source": [
    "x_tereph.head()"
   ]
  },
  {
   "cell_type": "code",
   "execution_count": 85,
   "metadata": {},
   "outputs": [
    {
     "data": {
      "text/html": [
       "<div>\n",
       "<style scoped>\n",
       "    .dataframe tbody tr th:only-of-type {\n",
       "        vertical-align: middle;\n",
       "    }\n",
       "\n",
       "    .dataframe tbody tr th {\n",
       "        vertical-align: top;\n",
       "    }\n",
       "\n",
       "    .dataframe thead th {\n",
       "        text-align: right;\n",
       "    }\n",
       "</style>\n",
       "<table border=\"1\" class=\"dataframe\">\n",
       "  <thead>\n",
       "    <tr style=\"text-align: right;\">\n",
       "      <th></th>\n",
       "      <th>\\</th>\n",
       "      <th>density</th>\n",
       "    </tr>\n",
       "  </thead>\n",
       "  <tbody>\n",
       "    <tr>\n",
       "      <th>0</th>\n",
       "      <td>1</td>\n",
       "      <td>100.00</td>\n",
       "    </tr>\n",
       "    <tr>\n",
       "      <th>1</th>\n",
       "      <td>2</td>\n",
       "      <td>80.22</td>\n",
       "    </tr>\n",
       "    <tr>\n",
       "      <th>2</th>\n",
       "      <td>3</td>\n",
       "      <td>79.49</td>\n",
       "    </tr>\n",
       "    <tr>\n",
       "      <th>3</th>\n",
       "      <td>4</td>\n",
       "      <td>60.80</td>\n",
       "    </tr>\n",
       "    <tr>\n",
       "      <th>4</th>\n",
       "      <td>5</td>\n",
       "      <td>59.97</td>\n",
       "    </tr>\n",
       "  </tbody>\n",
       "</table>\n",
       "</div>"
      ],
      "text/plain": [
       "   \\  density\n",
       "0  1   100.00\n",
       "1  2    80.22\n",
       "2  3    79.49\n",
       "3  4    60.80\n",
       "4  5    59.97"
      ]
     },
     "execution_count": 85,
     "metadata": {},
     "output_type": "execute_result"
    }
   ],
   "source": [
    "y_tereph.head()"
   ]
  },
  {
   "cell_type": "code",
   "execution_count": 86,
   "metadata": {},
   "outputs": [],
   "source": [
    "nir_40 = x_tereph['NIR.40'].values\n",
    "density = y_tereph['density'].values"
   ]
  },
  {
   "cell_type": "code",
   "execution_count": 87,
   "metadata": {},
   "outputs": [
    {
     "data": {
      "text/plain": [
       "array([1.4571, 1.5239, 1.546 , 1.5877, 1.5931, 1.5724, 1.6892, 1.6537,\n",
       "       1.6884, 1.645 , 1.7041, 1.6996, 1.7063, 1.7041, 1.7121, 1.7549,\n",
       "       1.7654, 1.754 , 1.744 , 1.7343, 1.7518])"
      ]
     },
     "execution_count": 87,
     "metadata": {},
     "output_type": "execute_result"
    }
   ],
   "source": [
    "nir_40"
   ]
  },
  {
   "cell_type": "code",
   "execution_count": 88,
   "metadata": {},
   "outputs": [
    {
     "data": {
      "text/plain": [
       "array([100.  ,  80.22,  79.49,  60.8 ,  59.97,  60.48,  40.1 ,  40.  ,\n",
       "        41.22,  41.16,  20.53,  20.35,  20.33,  20.61,  20.76,   0.  ,\n",
       "         0.  ,   0.  ,   0.  ,   0.  ,   0.  ])"
      ]
     },
     "execution_count": 88,
     "metadata": {},
     "output_type": "execute_result"
    }
   ],
   "source": [
    "density"
   ]
  },
  {
   "cell_type": "code",
   "execution_count": 89,
   "metadata": {},
   "outputs": [
    {
     "name": "stdout",
     "output_type": "stream",
     "text": [
      " La corrélation entre NIR40 et la densité est  -0.9801761960280667\n"
     ]
    }
   ],
   "source": [
    "## Calculons la corrélation entre les deux variables \n",
    "cor = np.corrcoef(nir_40 , density)\n",
    "print( \" La corrélation entre NIR40 et la densité est \", cor[0,1])"
   ]
  },
  {
   "cell_type": "markdown",
   "metadata": {},
   "source": [
    " La corrélation entre NIR40 et la densité est  -0.98.\n",
    " Il y a une forte corrélation entre les deux variables nous allons alors réaliser un modèle de regression linéaire"
   ]
  },
  {
   "cell_type": "code",
   "execution_count": 90,
   "metadata": {},
   "outputs": [
    {
     "name": "stdout",
     "output_type": "stream",
     "text": [
      "Pente :  [-344.13963868]\n",
      "Ordonnée à l'origine :  606.9746644059275\n",
      "Racine carrée de l'erreur quadratique moyenne :  34.907256176224166\n",
      "Sccore R2 :  0.960745375260051\n"
     ]
    }
   ],
   "source": [
    "# Réalisation de la regression lineaire en utilisant scikit learn\n",
    "regression_model = LinearRegression()\n",
    "# Entrainement du modèle \n",
    "nir_40 = nir_40.reshape(-1,1)\n",
    "regression_model.fit(nir_40,y=density)\n",
    "# prediction \n",
    "density_predicted = regression_model.predict(X=nir_40)\n",
    "\n",
    "# Evaluation du modèle \n",
    "rmse = mean_squared_error(y_true=density, y_pred= density_predicted)\n",
    "r2 = r2_score(y_true = density , y_pred= density_predicted)\n",
    "\n",
    "# Affichage des valeurs\n",
    "print(\"Pente : \" ,regression_model.coef_)\n",
    "print(\"Ordonnée à l'origine : \", regression_model.intercept_)\n",
    "print(\"Racine carrée de l'erreur quadratique moyenne : \", rmse)\n",
    "print('Sccore R2 : ', r2)\n"
   ]
  },
  {
   "cell_type": "code",
   "execution_count": 91,
   "metadata": {},
   "outputs": [
    {
     "data": {
      "image/png": "[encoded data removed]",
      "text/plain": [
       "<Figure size 1152x648 with 1 Axes>"
      ]
     },
     "metadata": {
      "needs_background": "light"
     },
     "output_type": "display_data"
    }
   ],
   "source": [
    "# Tracée des valeurs\n",
    "# Points de données\n",
    "plt.figure(figsize=(16,9))\n",
    "plt.scatter(nir_40, density, s=10)\n",
    "plt.xlabel('NIR40')\n",
    "plt.ylabel('Density')\n",
    "plt.title(\"Regression lineaire de la variable Density = f(NIR 40)\")\n",
    "# Valeurs prédites\n",
    "plt.plot(nir_40, density_predicted, color='r')\n",
    "plt.show()"
   ]
  },
  {
   "cell_type": "markdown",
   "metadata": {},
   "source": [
    "### Résultat de la regression lineaire simple \n",
    "Pente :  [-344.13963868]\n",
    "Ordonnée à l'origine :  [606.97466441]\n",
    "Racine carrée de l'erreur quadratique moyenne :  34.907256176224166\n",
    "Sccore R2 :  0.960745375260051 --> 96% de la variance est expliqué par ce modèle\n",
    "\n"
   ]
  },
  {
   "cell_type": "markdown",
   "metadata": {},
   "source": [
    "## 3 Selectionner les variables nir.40 et nir.219 et realiser la régression de la variable densit ́e en fonction de ces deux variables. Donnez le coefficient de corr ́elation multiple au carre R2.\n"
   ]
  },
  {
   "cell_type": "code",
   "execution_count": 92,
   "metadata": {},
   "outputs": [],
   "source": [
    "nir_219 = x_tereph[\"NIR.219\"].values\n",
    "nir_40 = x_tereph['NIR.40'].values"
   ]
  },
  {
   "cell_type": "code",
   "execution_count": 93,
   "metadata": {},
   "outputs": [
    {
     "name": "stdout",
     "output_type": "stream",
     "text": [
      "Pente :  [-347.36167309    7.36986092]\n",
      "Ordonnée à l'origine :  607.2158952354965\n",
      "Racine carrée de l'erreur quadratique moyenne :  34.86581467867437\n",
      "Sccore R2 :  0.9607919779041192\n"
     ]
    }
   ],
   "source": [
    "# Réalisation de la regression lineaire en utilisant scikit learn\n",
    "regression_model = LinearRegression()\n",
    "# Entrainement du modèle \n",
    "nir = np.column_stack((nir_40,nir_219))\n",
    "regression_model.fit(nir,y=density)\n",
    "# prediction \n",
    "density_predicted = regression_model.predict(X=nir)\n",
    "\n",
    "# Evaluation du modèle \n",
    "rmse = mean_squared_error(y_true=density, y_pred= density_predicted)\n",
    "r2 = r2_score(y_true = density , y_pred= density_predicted)\n",
    "\n",
    "# Affichage des valeurs\n",
    "print(\"Pente : \" ,regression_model.coef_)\n",
    "print(\"Ordonnée à l'origine : \", regression_model.intercept_)\n",
    "print(\"Racine carrée de l'erreur quadratique moyenne : \", rmse)\n",
    "print('Sccore R2 : ', r2)\n"
   ]
  },
  {
   "cell_type": "markdown",
   "metadata": {},
   "source": [
    "#### conclusion \n",
    " Pente :  [-347.36167309    7.36986092]\n",
    "Ordonnée à l'origine :  607.2158952354965\n",
    "Racine carrée de l'erreur quadratique moyenne :  34.86581467867437\n",
    "Sccore R2 :  0.9607919779041192 --> 96% de variance expliqué on peut donc dire que la variable NIR 219 n'a pas apporté d'information supplémentaire "
   ]
  }
 ],
 "metadata": {
  "kernelspec": {
   "display_name": "Python 3",
   "language": "python",
   "name": "python3"
  },
  "language_info": {
   "codemirror_mode": {
    "name": "ipython",
    "version": 3
   },
   "file_extension": ".py",
   "mimetype": "text/x-python",
   "name": "python",
   "nbconvert_exporter": "python",
   "pygments_lexer": "ipython3",
   "version": "3.9.12"
  },
  "orig_nbformat": 4
 },
 "nbformat": 4,
 "nbformat_minor": 2
}
