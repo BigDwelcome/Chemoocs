{
 "cells": [
  {
   "cell_type": "code",
   "execution_count": 1,
   "metadata": {},
   "outputs": [
    {
     "name": "stdout",
     "output_type": "stream",
     "text": [
      "The Zen of Python, by Tim Peters\n",
      "\n",
      "Beautiful is better than ugly.\n",
      "Explicit is better than implicit.\n",
      "Simple is better than complex.\n",
      "Complex is better than complicated.\n",
      "Flat is better than nested.\n",
      "Sparse is better than dense.\n",
      "Readability counts.\n",
      "Special cases aren't special enough to break the rules.\n",
      "Although practicality beats purity.\n",
      "Errors should never pass silently.\n",
      "Unless explicitly silenced.\n",
      "In the face of ambiguity, refuse the temptation to guess.\n",
      "There should be one-- and preferably only one --obvious way to do it.\n",
      "Although that way may not be obvious at first unless you're Dutch.\n",
      "Now is better than never.\n",
      "Although never is often better than *right* now.\n",
      "If the implementation is hard to explain, it's a bad idea.\n",
      "If the implementation is easy to explain, it may be a good idea.\n",
      "Namespaces are one honking great idea -- let's do more of those!\n"
     ]
    }
   ],
   "source": [
    "import this"
   ]
  },
  {
   "cell_type": "code",
   "execution_count": 2,
   "metadata": {},
   "outputs": [],
   "source": [
    "import pandas as pd\n",
    "import numpy as np\n",
    "import matplotlib.pyplot as plt\n",
    "import seaborn as sns\n",
    "import numpy as np\n",
    "from sklearn.preprocessing import StandardScaler\n",
    "from sklearn.decomposition import PCA\n",
    "from matplotlib.colors import ListedColormap, Normalize\n",
    "from matplotlib.cm import get_cmap\n",
    "from scipy.signal import savgol_filter\n",
    "from sklearn.cluster import AgglomerativeClustering\n",
    "from scipy.cluster.hierarchy import fcluster\n",
    "from scipy.cluster.hierarchy import dendrogram, linkage\n",
    "from sklearn.cluster import KMeans\n",
    "from sklearn.linear_model import LinearRegression\n",
    "from sklearn.metrics import mean_squared_error, r2_score\n",
    "import statsmodels.api as sm\n",
    "from sklearn.model_selection import cross_val_score\n",
    "from sklearn.model_selection import cross_val_predict\n",
    "from sklearn.model_selection import TimeSeriesSplit"
   ]
  },
  {
   "cell_type": "markdown",
   "metadata": {},
   "source": [
    "# Biblothèques spécial téléchargé pour ce projet"
   ]
  },
  {
   "cell_type": "code",
   "execution_count": 3,
   "metadata": {},
   "outputs": [
    {
     "name": "stdout",
     "output_type": "stream",
     "text": [
      "Requirement already satisfied: me3cs in /Users/douati/opt/anaconda3/lib/python3.9/site-packages (0.1.6)\n",
      "Requirement already satisfied: scipy in /Users/douati/opt/anaconda3/lib/python3.9/site-packages (from me3cs) (1.7.3)\n",
      "Requirement already satisfied: pandas in /Users/douati/opt/anaconda3/lib/python3.9/site-packages (from me3cs) (1.4.2)\n",
      "Requirement already satisfied: numpy in /Users/douati/opt/anaconda3/lib/python3.9/site-packages (from me3cs) (1.21.5)\n",
      "Requirement already satisfied: python-dateutil>=2.8.1 in /Users/douati/opt/anaconda3/lib/python3.9/site-packages (from pandas->me3cs) (2.8.2)\n",
      "Requirement already satisfied: pytz>=2020.1 in /Users/douati/opt/anaconda3/lib/python3.9/site-packages (from pandas->me3cs) (2021.3)\n",
      "Requirement already satisfied: six>=1.5 in /Users/douati/opt/anaconda3/lib/python3.9/site-packages (from python-dateutil>=2.8.1->pandas->me3cs) (1.16.0)\n",
      "Note: you may need to restart the kernel to use updated packages.\n"
     ]
    }
   ],
   "source": [
    "pip install me3cs"
   ]
  },
  {
   "cell_type": "markdown",
   "metadata": {},
   "source": [
    "# Fonctions utilisées dans ce projet "
   ]
  },
  {
   "cell_type": "code",
   "execution_count": 4,
   "metadata": {},
   "outputs": [],
   "source": [
    "## Appliquons la snv à notre array intensities et visualisons \n",
    "def snv_spectrum(spectrum):\n",
    "    mean = np.mean(spectrum)  # Calcul de la moyenne du spectre\n",
    "    std_dev = np.std(spectrum)  # Calcul de l'écart type du spectre\n",
    "    snv_spectrum = (spectrum - mean) / std_dev  # Transformation SNV\n",
    "    return snv_spectrum\n",
    "\n",
    "def plot_acp_individuals(score, plan_indices, class_labels, explained_variance, individual_names=None):\n",
    "    \"\"\"\n",
    "    Affiche la carte factorielle des individus d'une ACP.\n",
    "\n",
    "    Args:\n",
    "        score (array): Les scores (coordonnées des individus) de l'ACP.\n",
    "        plan_indices (tuple): Les indices des composantes principales à afficher (par exemple, (0, 1) pour le plan 2D).\n",
    "        class_labels (array): Les classes à utiliser pour colorier les individus.\n",
    "        explained_variance (array): La variance expliquée par chaque composante principale de l'ACP.\n",
    "        individual_names (array, facultatif): Les noms des individus (ou labels). Par défaut, None.\n",
    "    \"\"\"\n",
    "\n",
    "    # Extraire les indices des composantes principales à afficher\n",
    "    component1_index, component2_index = plan_indices\n",
    "\n",
    "    # Plotter la carte factorielle des individus\n",
    "    plt.figure(figsize=(16, 9))\n",
    "    for label in set(class_labels):\n",
    "        mask = (class_labels == label)\n",
    "        plt.scatter(score[mask, component1_index], score[mask, component2_index], label=label)\n",
    "\n",
    "    # Ajouter des labels aux points (en vérifiant si le nom est différent de None)\n",
    "    if individual_names is not None:\n",
    "        for i, name in enumerate(individual_names):\n",
    "            if name is not None:\n",
    "                plt.annotate(name, (score[i, component1_index], score[i, component2_index]))\n",
    "\n",
    "    # Afficher la variance expliquée par chaque composante dans le titre du graphique\n",
    "    plt.title('Carte Factorielle des Individus\\n' + '\\n'.join([f'Composante {i+1}: {explained_variance[i]:.2%}' for i in plan_indices]))\n",
    "    plt.xlabel(f'Composante Principale {component1_index + 1}')\n",
    "    plt.ylabel(f'Composante Principale {component2_index + 1}')\n",
    "    plt.legend()\n",
    "    plt.grid(True, axis='both')\n",
    "    plt.show()\n",
    "\n",
    "# Exemple d'utilisation de la fonction avec individual_names facultatif\n",
    "# Vous pouvez fournir ou omettre individual_names en fonction de vos besoins.\n",
    "# plot_acp_individuals(score, (0, 1), class_labels, explained_variance)\n",
    "# plot_acp_individuals(score, (0, 1), class_labels, explained_variance, individual_names)\n",
    "\n",
    "\n",
    "\n",
    "def plot_dendrogram(model, **kwargs):\n",
    "    \"\"\"\n",
    "    Plot a dendrogram based on a hierarchical clustering model.\n",
    "\n",
    "    Args:\n",
    "        model (AgglomerativeClustering): The hierarchical clustering model.\n",
    "        **kwargs: Additional keyword arguments for customizing the dendrogram plot.\n",
    "    \"\"\"\n",
    "    # Create an array to store the counts of samples under each node\n",
    "    counts = np.zeros(model.children_.shape[0])\n",
    "    n_samples = len(model.labels_)\n",
    "\n",
    "    # Calculate counts for each node in the hierarchical tree\n",
    "    for i, merge in enumerate(model.children_):\n",
    "        current_count = 0\n",
    "        for child_idx in merge:\n",
    "            if child_idx < n_samples:\n",
    "                current_count += 1  # Leaf node\n",
    "            else:\n",
    "                current_count += counts[child_idx - n_samples]\n",
    "        counts[i] = current_count\n",
    "\n",
    "    # Create a linkage matrix containing children, distances, and counts\n",
    "    linkage_matrix = np.column_stack(\n",
    "        [model.children_, model.distances_, counts]\n",
    "    ).astype(float)\n",
    "\n",
    "    # Plot the dendrogram using the linkage matrix and custom kwargs\n",
    "    dendrogram(linkage_matrix, **kwargs)\n"
   ]
  },
  {
   "cell_type": "markdown",
   "metadata": {},
   "source": [
    "## validation croisée store venitien (venitian Blind)\n"
   ]
  },
  {
   "cell_type": "code",
   "execution_count": 5,
   "metadata": {},
   "outputs": [],
   "source": [
    "\n",
    "def mask_arr(arr: np.ndarray, idx: np.ndarray) -> np.ndarray:\n",
    "    \"\"\"\n",
    "    Create a new array by masking a subset of elements from the input array.\n",
    "\n",
    "    Parameters\n",
    "    ----------\n",
    "    arr : numpy.ndarray\n",
    "        The input array.\n",
    "    idx : numpy.ndarray\n",
    "        The indices of the elements to mask.\n",
    "\n",
    "    Returns\n",
    "    -------\n",
    "    numpy.ndarray\n",
    "        The new array with the masked elements removed.\n",
    "    \"\"\"\n",
    "    mask = np.ones(arr.shape[0], dtype=bool)\n",
    "    mask[idx] = False\n",
    "    return arr[mask]\n",
    "\n",
    "\n",
    "\n",
    "def venetian_blinds_cross_validation(data, n_splits):\n",
    "    \"\"\"\n",
    "    Effectue une validation croisée de type \"Venetian blinds\".\n",
    "\n",
    "    Args:\n",
    "        data (np.ndarray): Le tableau de données d'entrée.\n",
    "        n_splits (int): Le nombre de divisions pour la validation croisée.\n",
    "\n",
    "    Returns:\n",
    "        training_sets (list): Une liste d'ensembles d'apprentissage.\n",
    "        test_sets (list): Une liste d'ensembles de test.\n",
    "    \"\"\"\n",
    "    data = data.copy()\n",
    "    training_sets = [\n",
    "        mask_arr(data, np.arange(i, data.shape[0], n_splits))\n",
    "        for i in range(n_splits)\n",
    "    ]\n",
    "    test_sets = [data[i::n_splits] for i in range(n_splits)]\n",
    "    return training_sets, test_sets\n"
   ]
  },
  {
   "cell_type": "markdown",
   "metadata": {},
   "source": [
    "# Première partie du Grain 8\n",
    "\n",
    "## 1 Description du projet \n",
    "\n",
    "A partir des jeux de donnees pir.tab et ags.tab, il vous est demande d’etablir un modele PLS base sur les spectres proche infrarouge pour la quantification de la teneur des huiles en acide oleique C18-1ω9.\n",
    "\n",
    "## 2 chargement des données et création d'un jeu d'étalonnage (calibration) et un jeu de test \n",
    "Un jeu d’ etalonnage est obtenu en sélectionnant les 106 premieres lignes de pir.tab et ags.tab."
   ]
  },
  {
   "cell_type": "code",
   "execution_count": 6,
   "metadata": {},
   "outputs": [],
   "source": [
    "## chargement des données \n",
    "pir = pd.read_csv(\"data/pir.csv\")\n",
    "ags = pd.read_csv(\"data/ags.csv\")"
   ]
  },
  {
   "cell_type": "code",
   "execution_count": 7,
   "metadata": {},
   "outputs": [
    {
     "data": {
      "text/html": [
       "<div>\n",
       "<style scoped>\n",
       "    .dataframe tbody tr th:only-of-type {\n",
       "        vertical-align: middle;\n",
       "    }\n",
       "\n",
       "    .dataframe tbody tr th {\n",
       "        vertical-align: top;\n",
       "    }\n",
       "\n",
       "    .dataframe thead th {\n",
       "        text-align: right;\n",
       "    }\n",
       "</style>\n",
       "<table border=\"1\" class=\"dataframe\">\n",
       "  <thead>\n",
       "    <tr style=\"text-align: right;\">\n",
       "      <th></th>\n",
       "      <th></th>\n",
       "      <th>1000</th>\n",
       "      <th>1002</th>\n",
       "      <th>1004</th>\n",
       "      <th>1006</th>\n",
       "      <th>1008</th>\n",
       "      <th>1010</th>\n",
       "      <th>1012</th>\n",
       "      <th>1014</th>\n",
       "      <th>1016</th>\n",
       "      <th>...</th>\n",
       "      <th>2204</th>\n",
       "      <th>2206</th>\n",
       "      <th>2208</th>\n",
       "      <th>2210</th>\n",
       "      <th>2212</th>\n",
       "      <th>2214</th>\n",
       "      <th>2216</th>\n",
       "      <th>2218</th>\n",
       "      <th>2220</th>\n",
       "      <th>2222</th>\n",
       "    </tr>\n",
       "  </thead>\n",
       "  <tbody>\n",
       "    <tr>\n",
       "      <th>0</th>\n",
       "      <td>AP01</td>\n",
       "      <td>-0.048440</td>\n",
       "      <td>-0.048092</td>\n",
       "      <td>-0.047316</td>\n",
       "      <td>-0.046144</td>\n",
       "      <td>-0.045150</td>\n",
       "      <td>-0.043572</td>\n",
       "      <td>-0.042092</td>\n",
       "      <td>-0.040565</td>\n",
       "      <td>-0.040039</td>\n",
       "      <td>...</td>\n",
       "      <td>0.20674</td>\n",
       "      <td>0.20972</td>\n",
       "      <td>0.21389</td>\n",
       "      <td>0.21894</td>\n",
       "      <td>0.22447</td>\n",
       "      <td>0.23109</td>\n",
       "      <td>0.23900</td>\n",
       "      <td>0.24760</td>\n",
       "      <td>0.25572</td>\n",
       "      <td>0.26319</td>\n",
       "    </tr>\n",
       "    <tr>\n",
       "      <th>1</th>\n",
       "      <td>AP02</td>\n",
       "      <td>-0.039741</td>\n",
       "      <td>-0.039632</td>\n",
       "      <td>-0.039018</td>\n",
       "      <td>-0.037626</td>\n",
       "      <td>-0.036367</td>\n",
       "      <td>-0.035787</td>\n",
       "      <td>-0.034085</td>\n",
       "      <td>-0.032902</td>\n",
       "      <td>-0.031115</td>\n",
       "      <td>...</td>\n",
       "      <td>0.20709</td>\n",
       "      <td>0.20969</td>\n",
       "      <td>0.21348</td>\n",
       "      <td>0.21798</td>\n",
       "      <td>0.22370</td>\n",
       "      <td>0.23022</td>\n",
       "      <td>0.23842</td>\n",
       "      <td>0.24706</td>\n",
       "      <td>0.25568</td>\n",
       "      <td>0.26325</td>\n",
       "    </tr>\n",
       "    <tr>\n",
       "      <th>2</th>\n",
       "      <td>AP03</td>\n",
       "      <td>-0.044596</td>\n",
       "      <td>-0.044075</td>\n",
       "      <td>-0.043265</td>\n",
       "      <td>-0.042641</td>\n",
       "      <td>-0.041595</td>\n",
       "      <td>-0.039918</td>\n",
       "      <td>-0.038797</td>\n",
       "      <td>-0.036772</td>\n",
       "      <td>-0.035691</td>\n",
       "      <td>...</td>\n",
       "      <td>0.21084</td>\n",
       "      <td>0.21384</td>\n",
       "      <td>0.21781</td>\n",
       "      <td>0.22274</td>\n",
       "      <td>0.22816</td>\n",
       "      <td>0.23511</td>\n",
       "      <td>0.24303</td>\n",
       "      <td>0.25140</td>\n",
       "      <td>0.25961</td>\n",
       "      <td>0.26728</td>\n",
       "    </tr>\n",
       "    <tr>\n",
       "      <th>3</th>\n",
       "      <td>AP04</td>\n",
       "      <td>-0.046453</td>\n",
       "      <td>-0.046504</td>\n",
       "      <td>-0.045753</td>\n",
       "      <td>-0.044264</td>\n",
       "      <td>-0.043697</td>\n",
       "      <td>-0.042527</td>\n",
       "      <td>-0.041353</td>\n",
       "      <td>-0.039224</td>\n",
       "      <td>-0.038729</td>\n",
       "      <td>...</td>\n",
       "      <td>0.20320</td>\n",
       "      <td>0.20600</td>\n",
       "      <td>0.20954</td>\n",
       "      <td>0.21416</td>\n",
       "      <td>0.21955</td>\n",
       "      <td>0.22650</td>\n",
       "      <td>0.23430</td>\n",
       "      <td>0.24307</td>\n",
       "      <td>0.25165</td>\n",
       "      <td>0.25970</td>\n",
       "    </tr>\n",
       "    <tr>\n",
       "      <th>4</th>\n",
       "      <td>AP05</td>\n",
       "      <td>-0.047020</td>\n",
       "      <td>-0.046133</td>\n",
       "      <td>-0.044943</td>\n",
       "      <td>-0.044525</td>\n",
       "      <td>-0.043642</td>\n",
       "      <td>-0.041699</td>\n",
       "      <td>-0.040246</td>\n",
       "      <td>-0.039083</td>\n",
       "      <td>-0.037985</td>\n",
       "      <td>...</td>\n",
       "      <td>0.21023</td>\n",
       "      <td>0.21331</td>\n",
       "      <td>0.21699</td>\n",
       "      <td>0.22182</td>\n",
       "      <td>0.22742</td>\n",
       "      <td>0.23409</td>\n",
       "      <td>0.24198</td>\n",
       "      <td>0.25043</td>\n",
       "      <td>0.25854</td>\n",
       "      <td>0.26626</td>\n",
       "    </tr>\n",
       "  </tbody>\n",
       "</table>\n",
       "<p>5 rows × 613 columns</p>\n",
       "</div>"
      ],
      "text/plain": [
       "              1000      1002      1004      1006      1008      1010  \\\n",
       "0  AP01  -0.048440 -0.048092 -0.047316 -0.046144 -0.045150 -0.043572   \n",
       "1  AP02  -0.039741 -0.039632 -0.039018 -0.037626 -0.036367 -0.035787   \n",
       "2  AP03  -0.044596 -0.044075 -0.043265 -0.042641 -0.041595 -0.039918   \n",
       "3  AP04  -0.046453 -0.046504 -0.045753 -0.044264 -0.043697 -0.042527   \n",
       "4  AP05  -0.047020 -0.046133 -0.044943 -0.044525 -0.043642 -0.041699   \n",
       "\n",
       "       1012      1014      1016  ...     2204     2206     2208     2210  \\\n",
       "0 -0.042092 -0.040565 -0.040039  ...  0.20674  0.20972  0.21389  0.21894   \n",
       "1 -0.034085 -0.032902 -0.031115  ...  0.20709  0.20969  0.21348  0.21798   \n",
       "2 -0.038797 -0.036772 -0.035691  ...  0.21084  0.21384  0.21781  0.22274   \n",
       "3 -0.041353 -0.039224 -0.038729  ...  0.20320  0.20600  0.20954  0.21416   \n",
       "4 -0.040246 -0.039083 -0.037985  ...  0.21023  0.21331  0.21699  0.22182   \n",
       "\n",
       "      2212     2214     2216     2218     2220    2222   \n",
       "0  0.22447  0.23109  0.23900  0.24760  0.25572  0.26319  \n",
       "1  0.22370  0.23022  0.23842  0.24706  0.25568  0.26325  \n",
       "2  0.22816  0.23511  0.24303  0.25140  0.25961  0.26728  \n",
       "3  0.21955  0.22650  0.23430  0.24307  0.25165  0.25970  \n",
       "4  0.22742  0.23409  0.24198  0.25043  0.25854  0.26626  \n",
       "\n",
       "[5 rows x 613 columns]"
      ]
     },
     "execution_count": 7,
     "metadata": {},
     "output_type": "execute_result"
    }
   ],
   "source": [
    "pir.head()"
   ]
  },
  {
   "cell_type": "code",
   "execution_count": 8,
   "metadata": {},
   "outputs": [
    {
     "data": {
      "text/html": [
       "<div>\n",
       "<style scoped>\n",
       "    .dataframe tbody tr th:only-of-type {\n",
       "        vertical-align: middle;\n",
       "    }\n",
       "\n",
       "    .dataframe tbody tr th {\n",
       "        vertical-align: top;\n",
       "    }\n",
       "\n",
       "    .dataframe thead th {\n",
       "        text-align: right;\n",
       "    }\n",
       "</style>\n",
       "<table border=\"1\" class=\"dataframe\">\n",
       "  <thead>\n",
       "    <tr style=\"text-align: right;\">\n",
       "      <th></th>\n",
       "      <th>Unnamed: 0</th>\n",
       "      <th>C16:0</th>\n",
       "      <th>C16:1w9</th>\n",
       "      <th>C16:1w7</th>\n",
       "      <th>C17:0</th>\n",
       "      <th>C17:1w8</th>\n",
       "      <th>C18:0</th>\n",
       "      <th>C18:1w9</th>\n",
       "      <th>C18:1w7</th>\n",
       "      <th>C18:2w6</th>\n",
       "      <th>C18:3w3</th>\n",
       "      <th>C20:0</th>\n",
       "      <th>C20:1w9</th>\n",
       "      <th>C22:0</th>\n",
       "      <th>C24:0</th>\n",
       "      <th>Squalene</th>\n",
       "    </tr>\n",
       "  </thead>\n",
       "  <tbody>\n",
       "    <tr>\n",
       "      <th>0</th>\n",
       "      <td>AP01</td>\n",
       "      <td>13.22</td>\n",
       "      <td>0.10</td>\n",
       "      <td>1.01</td>\n",
       "      <td>0.06</td>\n",
       "      <td>0.11</td>\n",
       "      <td>2.03</td>\n",
       "      <td>71.06</td>\n",
       "      <td>2.61</td>\n",
       "      <td>8.37</td>\n",
       "      <td>0.69</td>\n",
       "      <td>0.34</td>\n",
       "      <td>0.24</td>\n",
       "      <td>0.11</td>\n",
       "      <td>0.05</td>\n",
       "      <td>0.65</td>\n",
       "    </tr>\n",
       "    <tr>\n",
       "      <th>1</th>\n",
       "      <td>AP02</td>\n",
       "      <td>14.32</td>\n",
       "      <td>0.12</td>\n",
       "      <td>1.06</td>\n",
       "      <td>0.09</td>\n",
       "      <td>0.16</td>\n",
       "      <td>2.34</td>\n",
       "      <td>67.34</td>\n",
       "      <td>2.51</td>\n",
       "      <td>10.74</td>\n",
       "      <td>0.55</td>\n",
       "      <td>0.38</td>\n",
       "      <td>0.22</td>\n",
       "      <td>0.11</td>\n",
       "      <td>0.05</td>\n",
       "      <td>0.59</td>\n",
       "    </tr>\n",
       "    <tr>\n",
       "      <th>2</th>\n",
       "      <td>AP03</td>\n",
       "      <td>14.00</td>\n",
       "      <td>0.12</td>\n",
       "      <td>1.06</td>\n",
       "      <td>0.10</td>\n",
       "      <td>0.17</td>\n",
       "      <td>2.24</td>\n",
       "      <td>68.13</td>\n",
       "      <td>2.56</td>\n",
       "      <td>10.33</td>\n",
       "      <td>0.56</td>\n",
       "      <td>0.36</td>\n",
       "      <td>0.21</td>\n",
       "      <td>0.11</td>\n",
       "      <td>0.05</td>\n",
       "      <td>0.62</td>\n",
       "    </tr>\n",
       "    <tr>\n",
       "      <th>3</th>\n",
       "      <td>AP04</td>\n",
       "      <td>13.84</td>\n",
       "      <td>0.11</td>\n",
       "      <td>0.90</td>\n",
       "      <td>0.08</td>\n",
       "      <td>0.14</td>\n",
       "      <td>2.38</td>\n",
       "      <td>67.67</td>\n",
       "      <td>2.29</td>\n",
       "      <td>11.28</td>\n",
       "      <td>0.57</td>\n",
       "      <td>0.37</td>\n",
       "      <td>0.20</td>\n",
       "      <td>0.11</td>\n",
       "      <td>0.06</td>\n",
       "      <td>0.58</td>\n",
       "    </tr>\n",
       "    <tr>\n",
       "      <th>4</th>\n",
       "      <td>AP05</td>\n",
       "      <td>13.69</td>\n",
       "      <td>0.12</td>\n",
       "      <td>1.03</td>\n",
       "      <td>0.12</td>\n",
       "      <td>0.21</td>\n",
       "      <td>2.40</td>\n",
       "      <td>68.92</td>\n",
       "      <td>2.51</td>\n",
       "      <td>9.69</td>\n",
       "      <td>0.55</td>\n",
       "      <td>0.38</td>\n",
       "      <td>0.21</td>\n",
       "      <td>0.12</td>\n",
       "      <td>0.05</td>\n",
       "      <td>0.60</td>\n",
       "    </tr>\n",
       "  </tbody>\n",
       "</table>\n",
       "</div>"
      ],
      "text/plain": [
       "  Unnamed: 0  C16:0  C16:1w9  C16:1w7  C17:0  C17:1w8  C18:0  C18:1w9  \\\n",
       "0      AP01   13.22     0.10     1.01   0.06     0.11   2.03    71.06   \n",
       "1      AP02   14.32     0.12     1.06   0.09     0.16   2.34    67.34   \n",
       "2      AP03   14.00     0.12     1.06   0.10     0.17   2.24    68.13   \n",
       "3      AP04   13.84     0.11     0.90   0.08     0.14   2.38    67.67   \n",
       "4      AP05   13.69     0.12     1.03   0.12     0.21   2.40    68.92   \n",
       "\n",
       "   C18:1w7  C18:2w6  C18:3w3  C20:0  C20:1w9  C22:0  C24:0  Squalene  \n",
       "0     2.61     8.37     0.69   0.34     0.24   0.11   0.05      0.65  \n",
       "1     2.51    10.74     0.55   0.38     0.22   0.11   0.05      0.59  \n",
       "2     2.56    10.33     0.56   0.36     0.21   0.11   0.05      0.62  \n",
       "3     2.29    11.28     0.57   0.37     0.20   0.11   0.06      0.58  \n",
       "4     2.51     9.69     0.55   0.38     0.21   0.12   0.05      0.60  "
      ]
     },
     "execution_count": 8,
     "metadata": {},
     "output_type": "execute_result"
    }
   ],
   "source": [
    "ags.head()"
   ]
  },
  {
   "cell_type": "code",
   "execution_count": 9,
   "metadata": {},
   "outputs": [],
   "source": [
    "# recuperer les valeurs à predire ici c'est  C18-1ω9.\n",
    "c18_1w9 = ags['C18:1w9'].values"
   ]
  },
  {
   "cell_type": "code",
   "execution_count": 10,
   "metadata": {},
   "outputs": [],
   "source": [
    "# recuperez  les valeurs spectrales comme intensities wavelength  \n",
    "wavelength = pir.drop('  ',axis=1)\n",
    "wavelength =  np.array(wavelength.columns, dtype=float)\n",
    "intensities = pir.drop('  ',axis=1)\n",
    "intensities = intensities.values"
   ]
  },
  {
   "cell_type": "code",
   "execution_count": 11,
   "metadata": {},
   "outputs": [
    {
     "data": {
      "text/plain": [
       "(187, 612)"
      ]
     },
     "execution_count": 11,
     "metadata": {},
     "output_type": "execute_result"
    }
   ],
   "source": [
    "intensities.shape"
   ]
  },
  {
   "cell_type": "code",
   "execution_count": 12,
   "metadata": {},
   "outputs": [],
   "source": [
    "# Creation des jeu de données etalonage et test \n",
    "## jeu de données étalonnage ou calibration\n",
    "intensities_c = intensities[0:106,:]\n",
    "c18_1w9_c = c18_1w9[0:106]\n",
    "## jeu de données test\n",
    "intensities_test = intensities[106:187,:]\n",
    "c18_1w9_test = c18_1w9[106:187]"
   ]
  },
  {
   "cell_type": "code",
   "execution_count": 13,
   "metadata": {},
   "outputs": [
    {
     "data": {
      "text/plain": [
       "(106,)"
      ]
     },
     "execution_count": 13,
     "metadata": {},
     "output_type": "execute_result"
    }
   ],
   "source": [
    "c18_1w9_c.shape"
   ]
  },
  {
   "cell_type": "code",
   "execution_count": 14,
   "metadata": {},
   "outputs": [
    {
     "data": {
      "text/plain": [
       "(81,)"
      ]
     },
     "execution_count": 14,
     "metadata": {},
     "output_type": "execute_result"
    }
   ],
   "source": [
    "c18_1w9_test.shape"
   ]
  },
  {
   "cell_type": "markdown",
   "metadata": {},
   "source": [
    "## 3 Calculez un modele de regression MLR (multiple linear regression ) entre la teneur en acide ol ́eique C18-1ω9 dans new ags.tab et new pir.tab (laisser les parametres de validation croisee par defaut) (trouver les paramètres par défaut de chemflow)."
   ]
  },
  {
   "cell_type": "code",
   "execution_count": 15,
   "metadata": {},
   "outputs": [
    {
     "name": "stdout",
     "output_type": "stream",
     "text": [
      "Coefficients du modèle de régression linéaire :  [ 9.03785925e-01  1.35816153e-01  6.24221075e-01  2.84913838e-01\n",
      " -2.81825284e-01 -4.93241257e-01 -3.00195745e-01 -4.60198726e-01\n",
      " -3.02861332e-01  2.93159727e-01  7.87316457e-02 -2.50300604e-01\n",
      "  2.35442978e-01  5.34931546e-01  1.45076020e-01  4.00255024e-01\n",
      "  5.36400903e-01  3.30160880e-01  2.31913168e-02 -2.35754702e-01\n",
      " -6.58014336e-02  3.93690767e-01 -4.25174045e-01 -8.12285737e-02\n",
      " -2.40338669e-01 -4.56528382e-02 -1.09970219e+00 -6.53234620e-01\n",
      " -2.71879252e-01 -3.77155403e-01 -7.41777024e-01 -4.73234270e-01\n",
      "  3.41792041e-01 -1.23661871e-01 -5.23006479e-01 -2.69735763e-02\n",
      " -7.29232756e-01 -3.07736518e-01 -2.52716009e-01 -6.38132811e-01\n",
      "  3.20474104e-01  1.19377128e-01 -2.85550677e-01 -2.58291672e-01\n",
      "  9.61331743e-02  6.15027831e-01  2.12258650e-01  4.03085221e-03\n",
      " -1.86618208e-01 -1.15137085e-01  1.94888265e-01  5.07247147e-01\n",
      "  1.63488929e-01  5.62731254e-01  5.89458759e-01  5.38603888e-01\n",
      " -5.25587926e-02 -3.38069936e-01  4.10334475e-01  3.27869266e-01\n",
      " -2.39670614e-01 -6.18000105e-02 -6.38834156e-01 -2.47052274e-01\n",
      "  5.44211088e-01 -8.18693656e-01 -1.12298262e-01 -4.64027121e-02\n",
      "  2.62867660e-01 -2.38827245e-01  5.78644293e-01  3.05461513e-01\n",
      "  6.69110607e-01  2.94996947e-01  2.80962130e-01 -1.40674871e-01\n",
      " -3.03814614e-01  2.50641667e-01 -2.11854935e-01 -3.86755794e-02\n",
      " -4.17781339e-02 -6.38032682e-01 -2.87548463e-01  2.88072927e-01\n",
      "  3.62985169e-01  3.74219618e-01  1.00330874e-03  1.86359608e-02\n",
      "  1.50223855e-01 -2.60203893e-02  3.46992358e-01  2.99088676e-01\n",
      " -3.86381471e-02 -1.34229666e-01  3.35091306e-01  9.58643813e-02\n",
      " -4.30463830e-01  3.88001405e-01  9.30936016e-02 -5.42638295e-01\n",
      "  8.33850522e-02 -1.08265272e-01 -2.32545055e-01  2.19196517e-01\n",
      " -1.20710000e-01 -1.08352451e-01 -3.77250013e-01  1.39799185e-01\n",
      " -5.00144742e-01  6.59769976e-02  4.34566855e-02 -1.21834832e-01\n",
      "  3.10265754e-01 -1.07382860e-01  6.03346652e-01  1.03878476e-01\n",
      "  1.65457593e-01  7.18949040e-02 -3.74353354e-01  5.63836422e-01\n",
      "  1.86434721e-01 -1.21543955e-01 -1.84131475e-02  6.49873570e-01\n",
      "  6.54117700e-01  9.95135936e-02 -2.05790424e-01  3.19833052e-01\n",
      "  2.71364545e-01  3.87728481e-01  1.56416260e-01  2.44509434e-01\n",
      "  5.12891930e-01  7.06869326e-01  1.47885423e-02  2.35974965e-01\n",
      " -3.19686194e-02 -1.20881526e-01 -2.39992522e-01 -1.73156852e-01\n",
      "  3.91736613e-02 -1.20998467e-01 -2.02263017e-02 -1.56748865e-01\n",
      " -1.07141133e-01  4.65638896e-01 -3.75984275e-02 -1.41344052e-02\n",
      " -4.94142475e-01 -3.26295026e-01  4.85351293e-02 -1.66887639e-01\n",
      "  2.34093501e-01  3.03699438e-01  1.80628400e-01  5.58413628e-02\n",
      " -6.15421227e-02  2.21171400e-01  1.42827613e-01  1.40717126e-01\n",
      " -4.09585014e-01 -4.68903830e-01  3.99306696e-01 -7.30846049e-02\n",
      "  1.00099740e-01  6.50768978e-02  2.28734147e-02  6.02549361e-02\n",
      "  2.97022905e-01 -2.74186965e-01 -2.82058268e-01  8.96719308e-02\n",
      " -3.60062398e-01 -1.50928897e-01  2.22874290e-01  1.28101665e-01\n",
      "  4.12221267e-01 -2.47770697e-02  4.51347671e-02 -1.15778165e-02\n",
      "  4.70338228e-02 -1.68366997e-01  1.61912301e-01 -4.67883568e-01\n",
      " -6.73522812e-01 -2.69589971e-01 -2.40948517e-01 -4.70916425e-01\n",
      "  4.99130655e-01 -2.89472691e-01 -1.67131508e-01  3.22013232e-02\n",
      "  4.03273287e-01  6.30578763e-01  4.24321969e-01  2.45205843e-01\n",
      "  1.67604854e-01 -9.13560210e-02  1.01517617e-01  3.27145432e-02\n",
      " -1.51122105e-01  5.04635217e-02 -5.99389936e-02  4.07036949e-02\n",
      "  2.01792400e-02  2.83368733e-01  2.43473922e-01 -2.39145650e-01\n",
      " -3.76235004e-01  1.18079745e-01 -9.62919968e-02 -8.48282203e-02\n",
      " -2.62841531e-01 -5.82887480e-01  3.14963940e-01 -2.48791575e-01\n",
      " -3.81690880e-01 -1.49120953e-01 -4.44976311e-01  2.42630026e-01\n",
      " -1.70380448e-01 -1.93137091e-01 -1.27409550e-01  1.93327489e-01\n",
      "  1.28227783e-01 -8.36712584e-02 -9.60023887e-02 -2.08226858e-01\n",
      "  2.58359723e-01 -2.23196371e-01 -3.43562553e-01 -5.27390222e-01\n",
      "  3.82802348e-02  7.01520230e-02  9.02266458e-02 -2.91809290e-01\n",
      "  1.05464024e-01 -1.35500664e-01 -3.33176499e-01 -7.43684460e-02\n",
      "  2.03397907e-01  2.71474317e-02  1.92770523e-01 -2.62395640e-01\n",
      "  3.09031066e-01  6.15095398e-01  7.69034092e-01  3.40624936e-01\n",
      " -8.56403132e-02 -1.52215640e-02 -2.75157933e-01 -1.15442162e-01\n",
      " -1.19517158e-01 -2.13859503e-01  1.01781389e-01  1.53852233e-02\n",
      "  1.54189837e-02  2.12894718e-01  1.75919479e-01 -9.18787534e-02\n",
      "  2.15545173e-01 -1.32455862e-01 -3.54471079e-01  2.31539557e-01\n",
      " -1.94458360e-01  6.51300133e-02 -5.98846317e-01 -5.95303073e-01\n",
      "  2.59656256e-01 -1.60282301e-01 -1.00467180e-01 -9.94418623e-02\n",
      " -6.30618395e-02 -1.00444390e-01  1.36827255e-01  1.22186785e-01\n",
      " -1.95224853e-01  9.91707483e-02 -3.07513528e-01 -2.67744964e-01\n",
      " -1.85936811e-01 -2.62978796e-01  1.82433386e-02 -1.25957083e-01\n",
      " -4.39753053e-01 -1.71880612e-01 -3.47859550e-01 -8.14623448e-02\n",
      " -5.35602244e-01 -4.23943420e-01  1.21099526e-01 -2.52554476e-03\n",
      " -3.26416380e-01 -3.98481814e-01  1.01713169e-01 -7.12240589e-02\n",
      " -4.48903191e-01 -6.28636451e-01 -4.69789738e-01  1.54139314e-01\n",
      " -6.31884159e-02  9.67923185e-02  1.37874088e-01  2.03453695e-01\n",
      "  1.76839844e-01 -7.28739751e-03  4.29540782e-01 -2.76712373e-01\n",
      "  1.22706005e-01 -2.11444430e-01  3.39466063e-01  6.31148915e-01\n",
      "  2.89192241e-01 -1.75232814e-01  2.69390769e-01  2.24548164e-01\n",
      " -6.34209880e-02  1.81085198e-02  1.62137904e-01 -7.09232325e-03\n",
      " -2.11299759e-01 -1.61710002e-01  1.02976270e-01 -2.08826423e-01\n",
      "  2.83058301e-01  5.44239573e-01  3.87397190e-01  9.29405702e-02\n",
      " -3.76617093e-01 -1.02227943e-01 -2.60902883e-01 -1.97215712e-01\n",
      "  3.88533355e-01  1.81988601e-01  4.55604413e-01  3.37591732e-01\n",
      "  1.06540799e-01  1.79012971e-01 -2.87126258e-01 -5.39309769e-02\n",
      "  5.55895313e-01  9.13816727e-02  3.98478381e-01  5.24181826e-01\n",
      "  3.90716991e-02 -2.77096315e-01 -1.45897986e-01 -6.48065855e-01\n",
      " -9.51304880e-01 -1.03877516e-01 -1.14764480e-01 -3.60717734e-01\n",
      "  1.04416476e-01  2.76498219e-02 -2.96418576e-01 -1.42434789e+00\n",
      "  1.19126332e-03  3.20555197e-02  1.04146223e+00  3.60116789e-01\n",
      "  1.12938512e+00  3.26355848e-01  3.47789220e-01 -3.32348861e-02\n",
      "  6.26509629e-01 -3.78934061e-01 -5.42597138e-01 -3.86734893e-01\n",
      " -1.42841520e-01  7.19838643e-01  3.50992205e-02  4.41213381e-01\n",
      " -1.62069088e-01 -5.46231436e-01 -1.05687164e-01 -5.88452078e-01\n",
      " -7.19940387e-01 -1.03029296e+00 -6.21417559e-02 -6.09533185e-01\n",
      "  3.60444900e-01  8.62212602e-01  8.04276908e-02 -2.26775184e-01\n",
      " -1.26714275e-01  2.30752295e-02  4.45162253e-01  7.77391883e-01\n",
      "  4.40281920e-01 -1.08408137e-02  1.52147698e-01 -2.13060482e-01\n",
      " -5.19489146e-01  2.82629484e-01  1.60780421e-02 -4.08762606e-01\n",
      " -1.98380192e-01  5.33155707e-01 -3.84499110e-01 -3.76003986e-01\n",
      " -3.04252847e-01  1.97912809e-01  1.33367087e-01 -2.77667354e-01\n",
      " -1.69651871e-01 -3.47814663e-01 -6.27682305e-04  2.60776320e-01\n",
      "  4.57829869e-01  8.11009220e-01 -6.72551271e-02  3.38539305e-01\n",
      "  1.98215041e-01  7.09316053e-02  5.19945029e-01  1.46119956e-01\n",
      " -1.38108184e-01 -2.67726034e-02  5.89289520e-01  6.02342711e-01\n",
      "  3.98356750e-01  2.36681665e-01  8.60430120e-02  3.55139988e-01\n",
      "  6.45539936e-01 -8.33463049e-02 -2.03990955e-01  1.31037143e-01\n",
      "  8.38182994e-02 -6.44481594e-01 -5.14817084e-01  5.04566903e-02\n",
      "  1.14165815e-01  5.20044569e-02 -1.81835326e-01  3.86467277e-01\n",
      "  3.89489713e-03  4.38033904e-04  2.41293531e-01  5.29423375e-01\n",
      "  3.88940319e-01 -7.90752914e-02  6.08467094e-02  2.45357515e-01\n",
      "  3.16916967e-01 -1.04235075e-01  1.30396353e-01  3.33720851e-02\n",
      "  1.23452248e-01  2.82431845e-01  2.00359859e-01  3.54155404e-01\n",
      "  1.30332372e-02  1.11752131e-03 -4.08283951e-01 -4.07902640e-01\n",
      " -4.43550014e-01 -3.14585607e-01  5.98399318e-02 -2.66350137e-01\n",
      " -2.78568561e-01 -4.23151709e-03  2.31090740e-02  3.75368928e-02\n",
      "  9.66954802e-02  3.58458055e-01 -1.44385478e-01  1.46770101e-02\n",
      " -1.51602056e-01 -5.13986026e-01 -1.00949277e-01 -3.67720138e-01\n",
      " -3.32885923e-01 -4.24664804e-01 -7.01762515e-02  2.20853914e-02\n",
      " -2.97783842e-01  1.23721108e-01  3.78940737e-01  9.81267307e-01\n",
      "  1.94318068e-01  4.44998272e-01  2.75260728e-01 -6.40543670e-02\n",
      " -1.43542372e-01 -1.00457385e-01  2.59064598e-02 -2.01279002e-01\n",
      " -3.19342880e-02  3.61109051e-01  1.92828321e-01 -8.89546344e-02\n",
      " -1.36001576e-01 -3.00619753e-02  1.44494540e-01 -4.92158644e-01\n",
      " -1.02237262e-01  2.83479459e-01 -8.61707800e-02 -4.38124291e-01\n",
      " -3.23457740e-01 -3.35061298e-01 -5.10277302e-01  1.33649541e-01\n",
      "  2.68653151e-01 -5.02584642e-01 -3.34881038e-01 -4.77107577e-01\n",
      "  2.05032469e-01  3.25297820e-02 -5.22758303e-01  3.29913725e-01\n",
      " -5.08462611e-01 -4.81324779e-02  2.50160883e-01  6.09578639e-01\n",
      " -2.55387153e-01  2.39438965e-02 -1.59545774e-02 -3.01665601e-01\n",
      " -5.59918596e-01  1.83108308e-01  4.41152651e-01 -4.69659294e-02\n",
      "  8.43051687e-02 -1.94055588e-01 -1.97291128e-01 -6.69780051e-02\n",
      "  2.38344189e-01 -2.87876089e-03 -2.44406157e-01  6.98664392e-02\n",
      "  4.20180742e-01  2.67310059e-01 -1.91259831e-01 -1.20447076e-01\n",
      "  1.23719130e-01 -1.67998236e-01  6.41732128e-02  7.30060722e-01\n",
      "  1.29164405e-01 -2.70191125e-02  3.62851085e-01  1.74042706e-01\n",
      "  2.54524114e-01  1.80383410e-01  5.91895679e-01  2.96609875e-01\n",
      " -3.72680062e-01 -6.51834380e-01 -1.39647243e-01  6.92147687e-01\n",
      "  4.04571546e-01 -6.49087945e-01  5.68593634e-03  1.08219110e-01\n",
      "  3.18798505e-01 -3.16446911e-01 -4.16586638e-01  6.83937989e-02\n",
      "  5.97719369e-01 -3.50793723e-01  5.10001903e-02  2.56188262e-01\n",
      " -2.12407420e-01 -4.18847407e-01 -7.30712598e-01  1.27393927e-01\n",
      " -5.02787915e-01 -9.43452128e-01 -5.92958146e-01  2.32531086e-01\n",
      "  8.35751950e-01  6.43169406e-01  5.66590608e-01  6.14222414e-01\n",
      "  5.07140671e-01 -6.14395837e-01 -2.87002076e-01 -3.56473938e-01\n",
      " -8.84521312e-02  1.61529025e-01  2.88611950e-02 -1.69616619e-01\n",
      " -6.05728967e-01  2.56168777e-01  1.90235744e-01 -3.47920916e-01\n",
      "  4.64551479e-01  9.16370497e-01  1.78695221e-01 -1.06813709e-02\n",
      "  4.12961355e-01  7.48567228e-01  1.32653299e-01 -6.02623188e-01\n",
      " -3.37646245e-01  5.42040553e-01 -2.64742979e-02 -5.41722198e-02\n",
      "  1.97025259e-01 -3.89414660e-01 -2.25423167e-02  3.98121706e-01\n",
      "  3.33121921e-01  6.30489398e-03 -7.17974523e-01  1.28319277e-01\n",
      " -3.13473977e-01  1.51246064e-01 -1.69697798e-01 -7.12995517e-01]\n",
      "Racine carrée de l'erreur quadratique moyenne (RMSEC):  1.7407734341435082\n",
      "Score R2 :  0.8861960573531856\n",
      "Scores de validation croisée : [ 0.45603831  0.2444096  -0.88672036  0.81429609  0.60863505]\n",
      "Score moyen de validation croisée : 0.24733173871646938\n"
     ]
    }
   ],
   "source": [
    "# Réalisation de la regression lineaire en utilisant scikit learn\n",
    "regression_model = LinearRegression()\n",
    "# centrer les données \n",
    "standardscale = StandardScaler()\n",
    "intensities_c = standardscale.fit_transform(intensities_c)\n",
    "\n",
    "# Utilisez la validation croisée pour évaluer le modèle\n",
    "scores = cross_val_score(regression_model, intensities_c, y=c18_1w9_c, cv=5) \n",
    "\n",
    "# Effectuer la régression linéaire avec validation croisée\n",
    "predicted_c18_1w9_c = cross_val_predict(regression_model, intensities_c, y=c18_1w9_c, cv=5)\n",
    "\n",
    "# Calcul des coefficients du modèle\n",
    "regression_model.fit(intensities_c, c18_1w9_c)\n",
    "coefficients = regression_model.coef_\n",
    "\n",
    "# Evaluation du modèle\n",
    "rmsec = mean_squared_error(y_true=c18_1w9_c, y_pred=predicted_c18_1w9_c)\n",
    "r2 = r2_score(y_true=c18_1w9_c, y_pred=predicted_c18_1w9_c)\n",
    "\n",
    "# Affichage des valeurs\n",
    "print(\"Coefficients du modèle de régression linéaire : \", coefficients)\n",
    "print(\"Racine carrée de l'erreur quadratique moyenne (RMSEC): \", rmsec)\n",
    "print(\"Score R2 : \", r2)\n",
    "\n",
    "# Affichez les scores de la validation croisée\n",
    "print(\"Scores de validation croisée :\", scores)\n",
    "print(\"Score moyen de validation croisée :\", scores.mean())"
   ]
  },
  {
   "cell_type": "markdown",
   "metadata": {},
   "source": [
    "## 4 Tracer le vecteur de coefficients-b de la MLR."
   ]
  },
  {
   "cell_type": "code",
   "execution_count": 16,
   "metadata": {},
   "outputs": [
    {
     "data": {
      "text/plain": [
       "Text(0, 0.5, 'Valeurs')"
      ]
     },
     "execution_count": 16,
     "metadata": {},
     "output_type": "execute_result"
    },
    {
     "data": {
      "image/png": "[encoded data removed]",
      "text/plain": [
       "<Figure size 1152x648 with 1 Axes>"
      ]
     },
     "metadata": {
      "needs_background": "light"
     },
     "output_type": "display_data"
    }
   ],
   "source": [
    "plt.figure(figsize=(16,9))\n",
    "plt.plot(wavelength, coefficients)\n",
    "plt.title(\"Coefficients−b de la MLR\")\n",
    "plt.xlabel(\"Longueurs d'ondes en nm\")\n",
    "plt.ylabel(\"Valeurs\")"
   ]
  },
  {
   "cell_type": "markdown",
   "metadata": {},
   "source": [
    "## 5 Calculez un modele de regression PCR entre la teneur en acide ol ́eique C18-1ω9 dans new ags.tab et new pir.tab, avec une validation crois ́ee de type stores Venitiens et 4 blocs, 20 variables latentes, donnees centrees.\n",
    "\n",
    "PCR : Principal component regression ==> utilisé les scores de l'ACP pour réalisés sur les données "
   ]
  },
  {
   "cell_type": "code",
   "execution_count": 17,
   "metadata": {},
   "outputs": [
    {
     "data": {
      "text/plain": [
       "array([[-5.81923698e-02,  4.33555887e-03, -7.71572603e-03, ...,\n",
       "        -4.33526233e-04,  1.09530014e-03,  6.78259399e-04],\n",
       "       [ 1.21715537e-01, -4.63507185e-03,  4.57394138e-03, ...,\n",
       "         6.28150626e-04, -7.20917290e-04,  3.07803337e-04],\n",
       "       [ 4.25417592e-02,  1.37227950e-02, -1.32555937e-02, ...,\n",
       "        -5.44846282e-04, -6.46315922e-05,  2.15720586e-04],\n",
       "       ...,\n",
       "       [ 8.39741097e-02,  8.37070368e-03, -9.72793067e-03, ...,\n",
       "        -6.94121511e-04, -5.28416094e-04, -6.74433236e-04],\n",
       "       [ 2.78489179e-01,  3.98336137e-02,  6.85544736e-03, ...,\n",
       "        -4.14046023e-05,  7.11577767e-04,  4.88945206e-04],\n",
       "       [ 2.44061050e-01,  2.09146271e-02,  1.60185707e-02, ...,\n",
       "        -6.47907548e-05,  3.52327530e-04,  1.19794880e-05]])"
      ]
     },
     "execution_count": 17,
     "metadata": {},
     "output_type": "execute_result"
    }
   ],
   "source": [
    "## réaliser l'ACP et garder que 20 variables\n",
    "\n",
    "intensities_c = intensities[0:106,:]\n",
    "c18_1w9_c = c18_1w9[0:106]\n",
    "\n",
    "pca = PCA( 20)\n",
    "X = intensities_c\n",
    "X_mean = np.mean(X)\n",
    "X_centered = X- X_mean\n",
    "pca = pca.fit(X_centered)\n",
    "explained_variance = pca.explained_variance_ratio_ ## variance expliqué par l'ACP\n",
    "score = pca.transform(X_centered)\n",
    "score\n"
   ]
  },
  {
   "cell_type": "code",
   "execution_count": 19,
   "metadata": {},
   "outputs": [
    {
     "ename": "TypeError",
     "evalue": "unsupported operand type(s) for |: 'type' and 'type'",
     "output_type": "error",
     "traceback": [
      "\u001b[0;31m---------------------------------------------------------------------------\u001b[0m",
      "\u001b[0;31mTypeError\u001b[0m                                 Traceback (most recent call last)",
      "\u001b[1;32m/Users/douati/Documents/GitHub/Chemoocs/Grain 8/Grain 8.ipynb Cellule 25\u001b[0m line \u001b[0;36m<cell line: 2>\u001b[0;34m()\u001b[0m\n\u001b[1;32m      <a href='vscode-notebook-cell:/Users/douati/Documents/GitHub/Chemoocs/Grain%208/Grain%208.ipynb#X43sZmlsZQ%3D%3D?line=0'>1</a>\u001b[0m \u001b[39m## Biblothèque chemometrics permettant de pouvoir réaliser une validation croisé store venitien (blind venitian store)\u001b[39;00m\n\u001b[0;32m----> <a href='vscode-notebook-cell:/Users/douati/Documents/GitHub/Chemoocs/Grain%208/Grain%208.ipynb#X43sZmlsZQ%3D%3D?line=1'>2</a>\u001b[0m \u001b[39mimport\u001b[39;00m \u001b[39mme3cs\u001b[39;00m \u001b[39mas\u001b[39;00m \u001b[39mm\u001b[39;00m\n\u001b[1;32m      <a href='vscode-notebook-cell:/Users/douati/Documents/GitHub/Chemoocs/Grain%208/Grain%208.ipynb#X43sZmlsZQ%3D%3D?line=2'>3</a>\u001b[0m x \u001b[39m=\u001b[39m score\n\u001b[1;32m      <a href='vscode-notebook-cell:/Users/douati/Documents/GitHub/Chemoocs/Grain%208/Grain%208.ipynb#X43sZmlsZQ%3D%3D?line=3'>4</a>\u001b[0m y \u001b[39m=\u001b[39m c18_1w9_c\n",
      "File \u001b[0;32m~/opt/anaconda3/lib/python3.9/site-packages/me3cs/__init__.py:1\u001b[0m, in \u001b[0;36m<module>\u001b[0;34m\u001b[0m\n\u001b[0;32m----> 1\u001b[0m \u001b[39mfrom\u001b[39;00m \u001b[39m.\u001b[39;00m\u001b[39mframework\u001b[39;00m\u001b[39m.\u001b[39;00m\u001b[39mmodel\u001b[39;00m \u001b[39mimport\u001b[39;00m Model\n",
      "File \u001b[0;32m~/opt/anaconda3/lib/python3.9/site-packages/me3cs/framework/model.py:1\u001b[0m, in \u001b[0;36m<module>\u001b[0;34m\u001b[0m\n\u001b[0;32m----> 1\u001b[0m \u001b[39mfrom\u001b[39;00m \u001b[39mme3cs\u001b[39;00m\u001b[39m.\u001b[39;00m\u001b[39mframework\u001b[39;00m\u001b[39m.\u001b[39;00m\u001b[39mregression_model\u001b[39;00m \u001b[39mimport\u001b[39;00m RegressionModel\n\u001b[1;32m      4\u001b[0m \u001b[39mclass\u001b[39;00m \u001b[39mModel\u001b[39;00m(RegressionModel):\n\u001b[1;32m      5\u001b[0m     \u001b[39m\"\"\"\u001b[39;00m\n\u001b[1;32m      6\u001b[0m \u001b[39m    The me3c module can be used as a framework for doing chemometrical analysis in python\u001b[39;00m\n\u001b[1;32m      7\u001b[0m \u001b[39m    \"\"\"\u001b[39;00m\n",
      "File \u001b[0;32m~/opt/anaconda3/lib/python3.9/site-packages/me3cs/framework/regression_model.py:3\u001b[0m, in \u001b[0;36m<module>\u001b[0;34m\u001b[0m\n\u001b[1;32m      1\u001b[0m \u001b[39mimport\u001b[39;00m \u001b[39mnumpy\u001b[39;00m \u001b[39mas\u001b[39;00m \u001b[39mnp\u001b[39;00m\n\u001b[0;32m----> 3\u001b[0m \u001b[39mfrom\u001b[39;00m \u001b[39mme3cs\u001b[39;00m\u001b[39m.\u001b[39;00m\u001b[39mcross_validation\u001b[39;00m\u001b[39m.\u001b[39;00m\u001b[39mcross_validation\u001b[39;00m \u001b[39mimport\u001b[39;00m CrossValidation\n\u001b[1;32m      4\u001b[0m \u001b[39mfrom\u001b[39;00m \u001b[39mme3cs\u001b[39;00m\u001b[39m.\u001b[39;00m\u001b[39mframework\u001b[39;00m\u001b[39m.\u001b[39;00m\u001b[39mbase_model\u001b[39;00m \u001b[39mimport\u001b[39;00m BaseModel\n\u001b[1;32m      5\u001b[0m \u001b[39mfrom\u001b[39;00m \u001b[39mme3cs\u001b[39;00m\u001b[39m.\u001b[39;00m\u001b[39mframework\u001b[39;00m\u001b[39m.\u001b[39;00m\u001b[39moutlier_detection\u001b[39;00m \u001b[39mimport\u001b[39;00m choose_optimal_component\n",
      "File \u001b[0;32m~/opt/anaconda3/lib/python3.9/site-packages/me3cs/cross_validation/cross_validation.py:5\u001b[0m, in \u001b[0;36m<module>\u001b[0;34m\u001b[0m\n\u001b[1;32m      3\u001b[0m \u001b[39mfrom\u001b[39;00m \u001b[39mme3cs\u001b[39;00m\u001b[39m.\u001b[39;00m\u001b[39mcross_validation\u001b[39;00m\u001b[39m.\u001b[39;00m\u001b[39mcross_validation_model\u001b[39;00m \u001b[39mimport\u001b[39;00m CrossValidationModel\n\u001b[1;32m      4\u001b[0m \u001b[39mfrom\u001b[39;00m \u001b[39mme3cs\u001b[39;00m\u001b[39m.\u001b[39;00m\u001b[39mcross_validation\u001b[39;00m\u001b[39m.\u001b[39;00m\u001b[39mcross_validation_predictor\u001b[39;00m \u001b[39mimport\u001b[39;00m CrossValidationPredictor\n\u001b[0;32m----> 5\u001b[0m \u001b[39mfrom\u001b[39;00m \u001b[39mme3cs\u001b[39;00m\u001b[39m.\u001b[39;00m\u001b[39mcross_validation\u001b[39;00m\u001b[39m.\u001b[39;00m\u001b[39mcross_validation_preprocessing\u001b[39;00m \u001b[39mimport\u001b[39;00m (\n\u001b[1;32m      6\u001b[0m     PreSplitPreprocessing,\n\u001b[1;32m      7\u001b[0m     PreprocessingOnSplitData,\n\u001b[1;32m      8\u001b[0m )\n\u001b[1;32m      9\u001b[0m \u001b[39mfrom\u001b[39;00m \u001b[39mme3cs\u001b[39;00m\u001b[39m.\u001b[39;00m\u001b[39mcross_validation\u001b[39;00m\u001b[39m.\u001b[39;00m\u001b[39mcross_validation_split\u001b[39;00m \u001b[39mimport\u001b[39;00m CrossValidationSplit\n\u001b[1;32m     10\u001b[0m \u001b[39mfrom\u001b[39;00m \u001b[39mme3cs\u001b[39;00m\u001b[39m.\u001b[39;00m\u001b[39mmetrics\u001b[39;00m\u001b[39m.\u001b[39;00m\u001b[39mregression\u001b[39;00m\u001b[39m.\u001b[39;00m\u001b[39mmetrics\u001b[39;00m \u001b[39mimport\u001b[39;00m MetricsRegression\n",
      "File \u001b[0;32m~/opt/anaconda3/lib/python3.9/site-packages/me3cs/cross_validation/cross_validation_preprocessing.py:4\u001b[0m, in \u001b[0;36m<module>\u001b[0;34m\u001b[0m\n\u001b[1;32m      2\u001b[0m \u001b[39mimport\u001b[39;00m \u001b[39mnumpy\u001b[39;00m \u001b[39mas\u001b[39;00m \u001b[39mnp\u001b[39;00m\n\u001b[0;32m----> 4\u001b[0m \u001b[39mfrom\u001b[39;00m \u001b[39mme3cs\u001b[39;00m\u001b[39m.\u001b[39;00m\u001b[39mcross_validation\u001b[39;00m\u001b[39m.\u001b[39;00m\u001b[39mcross_validation_split\u001b[39;00m \u001b[39mimport\u001b[39;00m CrossValidationSplit\n\u001b[1;32m      5\u001b[0m \u001b[39mfrom\u001b[39;00m \u001b[39mme3cs\u001b[39;00m\u001b[39m.\u001b[39;00m\u001b[39mmisc\u001b[39;00m\u001b[39m.\u001b[39;00m\u001b[39mhandle_data\u001b[39;00m \u001b[39mimport\u001b[39;00m transform_array_1d_to_2d\n\u001b[1;32m      6\u001b[0m \u001b[39mfrom\u001b[39;00m \u001b[39mme3cs\u001b[39;00m\u001b[39m.\u001b[39;00m\u001b[39mpreprocessing\u001b[39;00m\u001b[39m.\u001b[39;00m\u001b[39mcalled\u001b[39;00m \u001b[39mimport\u001b[39;00m Called\n",
      "File \u001b[0;32m~/opt/anaconda3/lib/python3.9/site-packages/me3cs/cross_validation/cross_validation_split.py:5\u001b[0m, in \u001b[0;36m<module>\u001b[0;34m\u001b[0m\n\u001b[1;32m      1\u001b[0m \u001b[39mfrom\u001b[39;00m \u001b[39mdataclasses\u001b[39;00m \u001b[39mimport\u001b[39;00m dataclass\n\u001b[1;32m      3\u001b[0m \u001b[39mimport\u001b[39;00m \u001b[39mnumpy\u001b[39;00m \u001b[39mas\u001b[39;00m \u001b[39mnp\u001b[39;00m\n\u001b[0;32m----> 5\u001b[0m \u001b[39mfrom\u001b[39;00m \u001b[39mme3cs\u001b[39;00m\u001b[39m.\u001b[39;00m\u001b[39mcross_validation\u001b[39;00m\u001b[39m.\u001b[39;00m\u001b[39mcross_validation_types\u001b[39;00m \u001b[39mimport\u001b[39;00m CrossValidationTypes\n\u001b[1;32m      8\u001b[0m \u001b[39m@dataclass\u001b[39m\n\u001b[1;32m      9\u001b[0m \u001b[39mclass\u001b[39;00m \u001b[39mCrossValidationSplit\u001b[39;00m:\n\u001b[1;32m     10\u001b[0m     x: np\u001b[39m.\u001b[39mndarray\n",
      "File \u001b[0;32m~/opt/anaconda3/lib/python3.9/site-packages/me3cs/cross_validation/cross_validation_types.py:6\u001b[0m, in \u001b[0;36m<module>\u001b[0;34m\u001b[0m\n\u001b[1;32m      2\u001b[0m \u001b[39mfrom\u001b[39;00m \u001b[39mdataclasses\u001b[39;00m \u001b[39mimport\u001b[39;00m dataclass\n\u001b[1;32m      4\u001b[0m \u001b[39mimport\u001b[39;00m \u001b[39mnumpy\u001b[39;00m \u001b[39mas\u001b[39;00m \u001b[39mnp\u001b[39;00m\n\u001b[0;32m----> 6\u001b[0m \u001b[39mfrom\u001b[39;00m \u001b[39mme3cs\u001b[39;00m\u001b[39m.\u001b[39;00m\u001b[39mmisc\u001b[39;00m\u001b[39m.\u001b[39;00m\u001b[39mhandle_data\u001b[39;00m \u001b[39mimport\u001b[39;00m mask_arr\n\u001b[1;32m      9\u001b[0m \u001b[39m@dataclass\u001b[39m\n\u001b[1;32m     10\u001b[0m \u001b[39mclass\u001b[39;00m \u001b[39mCrossValidationFactory\u001b[39;00m(ABC):\n\u001b[1;32m     11\u001b[0m     data: np\u001b[39m.\u001b[39mndarray\n",
      "File \u001b[0;32m~/opt/anaconda3/lib/python3.9/site-packages/me3cs/misc/handle_data.py:47\u001b[0m, in \u001b[0;36m<module>\u001b[0;34m\u001b[0m\n\u001b[1;32m     42\u001b[0m     mask[idx] \u001b[39m=\u001b[39m \u001b[39mFalse\u001b[39;00m\n\u001b[1;32m     43\u001b[0m     \u001b[39mreturn\u001b[39;00m arr[mask]\n\u001b[1;32m     46\u001b[0m \u001b[39mdef\u001b[39;00m \u001b[39mhandle_zeros_in_scale\u001b[39m(\n\u001b[0;32m---> 47\u001b[0m         scale: [np\u001b[39m.\u001b[39;49mndarray \u001b[39m|\u001b[39;49m \u001b[39mint\u001b[39;49m \u001b[39m|\u001b[39m \u001b[39mfloat\u001b[39m], copy\u001b[39m=\u001b[39m\u001b[39mTrue\u001b[39;00m\n\u001b[1;32m     48\u001b[0m ) \u001b[39m-\u001b[39m\u001b[39m>\u001b[39m np\u001b[39m.\u001b[39mndarray:\n\u001b[1;32m     49\u001b[0m     \u001b[39m\"\"\"\u001b[39;00m\n\u001b[1;32m     50\u001b[0m \u001b[39m    Replace zeros in a scaling array with a small constant to avoid division by zero.\u001b[39;00m\n\u001b[1;32m     51\u001b[0m \n\u001b[0;32m   (...)\u001b[0m\n\u001b[1;32m     62\u001b[0m \u001b[39m        The scaling array with small constants replacing the zeros.\u001b[39;00m\n\u001b[1;32m     63\u001b[0m \u001b[39m    \"\"\"\u001b[39;00m\n\u001b[1;32m     64\u001b[0m     \u001b[39mif\u001b[39;00m \u001b[39misinstance\u001b[39m(scale, np\u001b[39m.\u001b[39mndarray):\n",
      "\u001b[0;31mTypeError\u001b[0m: unsupported operand type(s) for |: 'type' and 'type'"
     ]
    }
   ],
   "source": [
    "\n",
    "## Biblothèque chemometrics permettant de pouvoir réaliser une validation croisé store venitien (blind venitian store)\n",
    "import me3cs as m3\n",
    "x = score\n",
    "y = c18_1w9_c\n",
    "mdl = m3.Model(x,y)\n",
    "mdl.pls() ## méthode pour choisir le modéle de regression avec cette biblothèque particulière\n",
    "\n"
   ]
  },
  {
   "cell_type": "code",
   "execution_count": null,
   "metadata": {},
   "outputs": [
    {
     "name": "stdout",
     "output_type": "stream",
     "text": [
      "Requirement already satisfied: me3cs in /Users/douati/opt/anaconda3/lib/python3.9/site-packages (0.1.6)\n",
      "Requirement already satisfied: scipy in /Users/douati/opt/anaconda3/lib/python3.9/site-packages (from me3cs) (1.7.3)\n",
      "Requirement already satisfied: numpy in /Users/douati/opt/anaconda3/lib/python3.9/site-packages (from me3cs) (1.21.5)\n",
      "Requirement already satisfied: pandas in /Users/douati/opt/anaconda3/lib/python3.9/site-packages (from me3cs) (1.4.2)\n",
      "Requirement already satisfied: python-dateutil>=2.8.1 in /Users/douati/opt/anaconda3/lib/python3.9/site-packages (from pandas->me3cs) (2.8.2)\n",
      "Requirement already satisfied: pytz>=2020.1 in /Users/douati/opt/anaconda3/lib/python3.9/site-packages (from pandas->me3cs) (2021.3)\n",
      "Requirement already satisfied: six>=1.5 in /Users/douati/opt/anaconda3/lib/python3.9/site-packages (from python-dateutil>=2.8.1->pandas->me3cs) (1.16.0)\n",
      "Note: you may need to restart the kernel to use updated packages.\n"
     ]
    }
   ],
   "source": [
    "pip install me3cs"
   ]
  },
  {
   "cell_type": "code",
   "execution_count": null,
   "metadata": {},
   "outputs": [
    {
     "data": {
      "text/plain": [
       "array([ 85,  86,  87,  88,  89,  90,  91,  92,  93,  94,  95,  96,  97,\n",
       "        98,  99, 100, 101, 102, 103, 104, 105])"
      ]
     },
     "execution_count": 52,
     "metadata": {},
     "output_type": "execute_result"
    }
   ],
   "source": [
    "test_index"
   ]
  },
  {
   "cell_type": "code",
   "execution_count": null,
   "metadata": {},
   "outputs": [
    {
     "data": {
      "text/plain": [
       "array([ 0,  1,  2,  3,  4,  5,  6,  7,  8,  9, 10, 11, 12, 13, 14, 15, 16,\n",
       "       17, 18, 19, 20, 21, 22, 23, 24, 25, 26, 27, 28, 29, 30, 31, 32, 33,\n",
       "       34, 35, 36, 37, 38, 39, 40, 41, 42, 43, 44, 45, 46, 47, 48, 49, 50,\n",
       "       51, 52, 53, 54, 55, 56, 57, 58, 59, 60, 61, 62, 63, 64, 65, 66, 67,\n",
       "       68, 69, 70, 71, 72, 73, 74, 75, 76, 77, 78, 79, 80, 81, 82, 83, 84])"
      ]
     },
     "execution_count": 51,
     "metadata": {},
     "output_type": "execute_result"
    }
   ],
   "source": [
    "train_index"
   ]
  },
  {
   "cell_type": "markdown",
   "metadata": {},
   "source": [
    "## 6 Tracer les vecteurs de coefficients-b de la PCR pour 1, 3, 5 et 7 variables latentes.\n",
    "\n"
   ]
  },
  {
   "cell_type": "code",
   "execution_count": null,
   "metadata": {},
   "outputs": [],
   "source": []
  },
  {
   "cell_type": "code",
   "execution_count": null,
   "metadata": {},
   "outputs": [
    {
     "data": {
      "text/plain": [
       "[array([2, 3, 5, 6, 8, 9]),\n",
       " array([ 1,  3,  4,  6,  7,  9, 10]),\n",
       " array([ 1,  2,  4,  5,  7,  8, 10])]"
      ]
     },
     "execution_count": 55,
     "metadata": {},
     "output_type": "execute_result"
    }
   ],
   "source": [
    "train_sets"
   ]
  },
  {
   "cell_type": "code",
   "execution_count": null,
   "metadata": {},
   "outputs": [
    {
     "data": {
      "text/plain": [
       "[array([ 1,  4,  7, 10]), array([2, 5, 8]), array([3, 6, 9])]"
      ]
     },
     "execution_count": 56,
     "metadata": {},
     "output_type": "execute_result"
    }
   ],
   "source": [
    "test_sets"
   ]
  }
 ],
 "metadata": {
  "kernelspec": {
   "display_name": "Python 3",
   "language": "python",
   "name": "python3"
  },
  "language_info": {
   "codemirror_mode": {
    "name": "ipython",
    "version": 3
   },
   "file_extension": ".py",
   "mimetype": "text/x-python",
   "name": "python",
   "nbconvert_exporter": "python",
   "pygments_lexer": "ipython3",
   "version": "3.9.12"
  },
  "orig_nbformat": 4
 },
 "nbformat": 4,
 "nbformat_minor": 2
}
