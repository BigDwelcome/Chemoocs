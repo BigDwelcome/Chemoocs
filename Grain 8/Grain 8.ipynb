{
 "cells": [
  {
   "cell_type": "code",
   "execution_count": 1,
   "metadata": {},
   "outputs": [
    {
     "name": "stdout",
     "output_type": "stream",
     "text": [
      "The Zen of Python, by Tim Peters\n",
      "\n",
      "Beautiful is better than ugly.\n",
      "Explicit is better than implicit.\n",
      "Simple is better than complex.\n",
      "Complex is better than complicated.\n",
      "Flat is better than nested.\n",
      "Sparse is better than dense.\n",
      "Readability counts.\n",
      "Special cases aren't special enough to break the rules.\n",
      "Although practicality beats purity.\n",
      "Errors should never pass silently.\n",
      "Unless explicitly silenced.\n",
      "In the face of ambiguity, refuse the temptation to guess.\n",
      "There should be one-- and preferably only one --obvious way to do it.\n",
      "Although that way may not be obvious at first unless you're Dutch.\n",
      "Now is better than never.\n",
      "Although never is often better than *right* now.\n",
      "If the implementation is hard to explain, it's a bad idea.\n",
      "If the implementation is easy to explain, it may be a good idea.\n",
      "Namespaces are one honking great idea -- let's do more of those!\n"
     ]
    }
   ],
   "source": [
    "import this"
   ]
  },
  {
   "cell_type": "code",
   "execution_count": 44,
   "metadata": {},
   "outputs": [],
   "source": [
    "import pandas as pd\n",
    "import numpy as np\n",
    "import matplotlib.pyplot as plt\n",
    "import seaborn as sns\n",
    "import numpy as np\n",
    "from sklearn.preprocessing import StandardScaler\n",
    "from sklearn.decomposition import PCA\n",
    "from matplotlib.colors import ListedColormap, Normalize\n",
    "from matplotlib.cm import get_cmap\n",
    "from scipy.signal import savgol_filter\n",
    "from sklearn.cluster import AgglomerativeClustering\n",
    "from scipy.cluster.hierarchy import fcluster\n",
    "from scipy.cluster.hierarchy import dendrogram, linkage\n",
    "from sklearn.cluster import KMeans\n",
    "from sklearn.linear_model import LinearRegression\n",
    "from sklearn.metrics import mean_squared_error, r2_score\n",
    "import statsmodels.api as sm\n",
    "from sklearn.model_selection import cross_val_score\n",
    "from sklearn.model_selection import cross_val_predict\n",
    "from sklearn.model_selection import TimeSeriesSplit"
   ]
  },
  {
   "cell_type": "markdown",
   "metadata": {},
   "source": [
    "# Fonctions utilisées dans ce projet "
   ]
  },
  {
   "cell_type": "code",
   "execution_count": 3,
   "metadata": {},
   "outputs": [],
   "source": [
    "## Appliquons la snv à notre array intensities et visualisons \n",
    "def snv_spectrum(spectrum):\n",
    "    mean = np.mean(spectrum)  # Calcul de la moyenne du spectre\n",
    "    std_dev = np.std(spectrum)  # Calcul de l'écart type du spectre\n",
    "    snv_spectrum = (spectrum - mean) / std_dev  # Transformation SNV\n",
    "    return snv_spectrum\n",
    "\n",
    "def plot_acp_individuals(score, plan_indices, class_labels, explained_variance, individual_names=None):\n",
    "    \"\"\"\n",
    "    Affiche la carte factorielle des individus d'une ACP.\n",
    "\n",
    "    Args:\n",
    "        score (array): Les scores (coordonnées des individus) de l'ACP.\n",
    "        plan_indices (tuple): Les indices des composantes principales à afficher (par exemple, (0, 1) pour le plan 2D).\n",
    "        class_labels (array): Les classes à utiliser pour colorier les individus.\n",
    "        explained_variance (array): La variance expliquée par chaque composante principale de l'ACP.\n",
    "        individual_names (array, facultatif): Les noms des individus (ou labels). Par défaut, None.\n",
    "    \"\"\"\n",
    "\n",
    "    # Extraire les indices des composantes principales à afficher\n",
    "    component1_index, component2_index = plan_indices\n",
    "\n",
    "    # Plotter la carte factorielle des individus\n",
    "    plt.figure(figsize=(16, 9))\n",
    "    for label in set(class_labels):\n",
    "        mask = (class_labels == label)\n",
    "        plt.scatter(score[mask, component1_index], score[mask, component2_index], label=label)\n",
    "\n",
    "    # Ajouter des labels aux points (en vérifiant si le nom est différent de None)\n",
    "    if individual_names is not None:\n",
    "        for i, name in enumerate(individual_names):\n",
    "            if name is not None:\n",
    "                plt.annotate(name, (score[i, component1_index], score[i, component2_index]))\n",
    "\n",
    "    # Afficher la variance expliquée par chaque composante dans le titre du graphique\n",
    "    plt.title('Carte Factorielle des Individus\\n' + '\\n'.join([f'Composante {i+1}: {explained_variance[i]:.2%}' for i in plan_indices]))\n",
    "    plt.xlabel(f'Composante Principale {component1_index + 1}')\n",
    "    plt.ylabel(f'Composante Principale {component2_index + 1}')\n",
    "    plt.legend()\n",
    "    plt.grid(True, axis='both')\n",
    "    plt.show()\n",
    "\n",
    "# Exemple d'utilisation de la fonction avec individual_names facultatif\n",
    "# Vous pouvez fournir ou omettre individual_names en fonction de vos besoins.\n",
    "# plot_acp_individuals(score, (0, 1), class_labels, explained_variance)\n",
    "# plot_acp_individuals(score, (0, 1), class_labels, explained_variance, individual_names)\n",
    "\n",
    "\n",
    "\n",
    "def plot_dendrogram(model, **kwargs):\n",
    "    \"\"\"\n",
    "    Plot a dendrogram based on a hierarchical clustering model.\n",
    "\n",
    "    Args:\n",
    "        model (AgglomerativeClustering): The hierarchical clustering model.\n",
    "        **kwargs: Additional keyword arguments for customizing the dendrogram plot.\n",
    "    \"\"\"\n",
    "    # Create an array to store the counts of samples under each node\n",
    "    counts = np.zeros(model.children_.shape[0])\n",
    "    n_samples = len(model.labels_)\n",
    "\n",
    "    # Calculate counts for each node in the hierarchical tree\n",
    "    for i, merge in enumerate(model.children_):\n",
    "        current_count = 0\n",
    "        for child_idx in merge:\n",
    "            if child_idx < n_samples:\n",
    "                current_count += 1  # Leaf node\n",
    "            else:\n",
    "                current_count += counts[child_idx - n_samples]\n",
    "        counts[i] = current_count\n",
    "\n",
    "    # Create a linkage matrix containing children, distances, and counts\n",
    "    linkage_matrix = np.column_stack(\n",
    "        [model.children_, model.distances_, counts]\n",
    "    ).astype(float)\n",
    "\n",
    "    # Plot the dendrogram using the linkage matrix and custom kwargs\n",
    "    dendrogram(linkage_matrix, **kwargs)\n"
   ]
  },
  {
   "cell_type": "markdown",
   "metadata": {},
   "source": [
    "## validation croisée store venitien (venitian Blind)\n"
   ]
  },
  {
   "cell_type": "code",
   "execution_count": 57,
   "metadata": {},
   "outputs": [],
   "source": [
    "\n",
    "def mask_arr(arr: np.ndarray, idx: np.ndarray) -> np.ndarray:\n",
    "    \"\"\"\n",
    "    Create a new array by masking a subset of elements from the input array.\n",
    "\n",
    "    Parameters\n",
    "    ----------\n",
    "    arr : numpy.ndarray\n",
    "        The input array.\n",
    "    idx : numpy.ndarray\n",
    "        The indices of the elements to mask.\n",
    "\n",
    "    Returns\n",
    "    -------\n",
    "    numpy.ndarray\n",
    "        The new array with the masked elements removed.\n",
    "    \"\"\"\n",
    "    mask = np.ones(arr.shape[0], dtype=bool)\n",
    "    mask[idx] = False\n",
    "    return arr[mask]\n",
    "\n",
    "\n",
    "\n",
    "def venetian_blinds_cross_validation(data, n_splits):\n",
    "    \"\"\"\n",
    "    Effectue une validation croisée de type \"Venetian blinds\".\n",
    "\n",
    "    Args:\n",
    "        data (np.ndarray): Le tableau de données d'entrée.\n",
    "        n_splits (int): Le nombre de divisions pour la validation croisée.\n",
    "\n",
    "    Returns:\n",
    "        training_sets (list): Une liste d'ensembles d'apprentissage.\n",
    "        test_sets (list): Une liste d'ensembles de test.\n",
    "    \"\"\"\n",
    "    data = data.copy()\n",
    "    training_sets = [\n",
    "        mask_arr(data, np.arange(i, data.shape[0], n_splits))\n",
    "        for i in range(n_splits)\n",
    "    ]\n",
    "    test_sets = [data[i::n_splits] for i in range(n_splits)]\n",
    "    return training_sets, test_sets\n"
   ]
  },
  {
   "cell_type": "markdown",
   "metadata": {},
   "source": [
    "# Première partie du Grain 8\n",
    "\n",
    "## 1 Description du projet \n",
    "\n",
    "A partir des jeux de donnees pir.tab et ags.tab, il vous est demande d’etablir un modele PLS base sur les spectres proche infrarouge pour la quantification de la teneur des huiles en acide oleique C18-1ω9.\n",
    "\n",
    "## 2 chargement des données et création d'un jeu d'étalonnage (calibration) et un jeu de test \n",
    "Un jeu d’ etalonnage est obtenu en sélectionnant les 106 premieres lignes de pir.tab et ags.tab."
   ]
  },
  {
   "cell_type": "code",
   "execution_count": 4,
   "metadata": {},
   "outputs": [],
   "source": [
    "## chargement des données \n",
    "pir = pd.read_csv(\"data/pir.csv\")\n",
    "ags = pd.read_csv(\"data/ags.csv\")"
   ]
  },
  {
   "cell_type": "code",
   "execution_count": 5,
   "metadata": {},
   "outputs": [
    {
     "data": {
      "text/html": [
       "<div>\n",
       "<style scoped>\n",
       "    .dataframe tbody tr th:only-of-type {\n",
       "        vertical-align: middle;\n",
       "    }\n",
       "\n",
       "    .dataframe tbody tr th {\n",
       "        vertical-align: top;\n",
       "    }\n",
       "\n",
       "    .dataframe thead th {\n",
       "        text-align: right;\n",
       "    }\n",
       "</style>\n",
       "<table border=\"1\" class=\"dataframe\">\n",
       "  <thead>\n",
       "    <tr style=\"text-align: right;\">\n",
       "      <th></th>\n",
       "      <th></th>\n",
       "      <th>1000</th>\n",
       "      <th>1002</th>\n",
       "      <th>1004</th>\n",
       "      <th>1006</th>\n",
       "      <th>1008</th>\n",
       "      <th>1010</th>\n",
       "      <th>1012</th>\n",
       "      <th>1014</th>\n",
       "      <th>1016</th>\n",
       "      <th>...</th>\n",
       "      <th>2204</th>\n",
       "      <th>2206</th>\n",
       "      <th>2208</th>\n",
       "      <th>2210</th>\n",
       "      <th>2212</th>\n",
       "      <th>2214</th>\n",
       "      <th>2216</th>\n",
       "      <th>2218</th>\n",
       "      <th>2220</th>\n",
       "      <th>2222</th>\n",
       "    </tr>\n",
       "  </thead>\n",
       "  <tbody>\n",
       "    <tr>\n",
       "      <th>0</th>\n",
       "      <td>AP01</td>\n",
       "      <td>-0.048440</td>\n",
       "      <td>-0.048092</td>\n",
       "      <td>-0.047316</td>\n",
       "      <td>-0.046144</td>\n",
       "      <td>-0.045150</td>\n",
       "      <td>-0.043572</td>\n",
       "      <td>-0.042092</td>\n",
       "      <td>-0.040565</td>\n",
       "      <td>-0.040039</td>\n",
       "      <td>...</td>\n",
       "      <td>0.20674</td>\n",
       "      <td>0.20972</td>\n",
       "      <td>0.21389</td>\n",
       "      <td>0.21894</td>\n",
       "      <td>0.22447</td>\n",
       "      <td>0.23109</td>\n",
       "      <td>0.23900</td>\n",
       "      <td>0.24760</td>\n",
       "      <td>0.25572</td>\n",
       "      <td>0.26319</td>\n",
       "    </tr>\n",
       "    <tr>\n",
       "      <th>1</th>\n",
       "      <td>AP02</td>\n",
       "      <td>-0.039741</td>\n",
       "      <td>-0.039632</td>\n",
       "      <td>-0.039018</td>\n",
       "      <td>-0.037626</td>\n",
       "      <td>-0.036367</td>\n",
       "      <td>-0.035787</td>\n",
       "      <td>-0.034085</td>\n",
       "      <td>-0.032902</td>\n",
       "      <td>-0.031115</td>\n",
       "      <td>...</td>\n",
       "      <td>0.20709</td>\n",
       "      <td>0.20969</td>\n",
       "      <td>0.21348</td>\n",
       "      <td>0.21798</td>\n",
       "      <td>0.22370</td>\n",
       "      <td>0.23022</td>\n",
       "      <td>0.23842</td>\n",
       "      <td>0.24706</td>\n",
       "      <td>0.25568</td>\n",
       "      <td>0.26325</td>\n",
       "    </tr>\n",
       "    <tr>\n",
       "      <th>2</th>\n",
       "      <td>AP03</td>\n",
       "      <td>-0.044596</td>\n",
       "      <td>-0.044075</td>\n",
       "      <td>-0.043265</td>\n",
       "      <td>-0.042641</td>\n",
       "      <td>-0.041595</td>\n",
       "      <td>-0.039918</td>\n",
       "      <td>-0.038797</td>\n",
       "      <td>-0.036772</td>\n",
       "      <td>-0.035691</td>\n",
       "      <td>...</td>\n",
       "      <td>0.21084</td>\n",
       "      <td>0.21384</td>\n",
       "      <td>0.21781</td>\n",
       "      <td>0.22274</td>\n",
       "      <td>0.22816</td>\n",
       "      <td>0.23511</td>\n",
       "      <td>0.24303</td>\n",
       "      <td>0.25140</td>\n",
       "      <td>0.25961</td>\n",
       "      <td>0.26728</td>\n",
       "    </tr>\n",
       "    <tr>\n",
       "      <th>3</th>\n",
       "      <td>AP04</td>\n",
       "      <td>-0.046453</td>\n",
       "      <td>-0.046504</td>\n",
       "      <td>-0.045753</td>\n",
       "      <td>-0.044264</td>\n",
       "      <td>-0.043697</td>\n",
       "      <td>-0.042527</td>\n",
       "      <td>-0.041353</td>\n",
       "      <td>-0.039224</td>\n",
       "      <td>-0.038729</td>\n",
       "      <td>...</td>\n",
       "      <td>0.20320</td>\n",
       "      <td>0.20600</td>\n",
       "      <td>0.20954</td>\n",
       "      <td>0.21416</td>\n",
       "      <td>0.21955</td>\n",
       "      <td>0.22650</td>\n",
       "      <td>0.23430</td>\n",
       "      <td>0.24307</td>\n",
       "      <td>0.25165</td>\n",
       "      <td>0.25970</td>\n",
       "    </tr>\n",
       "    <tr>\n",
       "      <th>4</th>\n",
       "      <td>AP05</td>\n",
       "      <td>-0.047020</td>\n",
       "      <td>-0.046133</td>\n",
       "      <td>-0.044943</td>\n",
       "      <td>-0.044525</td>\n",
       "      <td>-0.043642</td>\n",
       "      <td>-0.041699</td>\n",
       "      <td>-0.040246</td>\n",
       "      <td>-0.039083</td>\n",
       "      <td>-0.037985</td>\n",
       "      <td>...</td>\n",
       "      <td>0.21023</td>\n",
       "      <td>0.21331</td>\n",
       "      <td>0.21699</td>\n",
       "      <td>0.22182</td>\n",
       "      <td>0.22742</td>\n",
       "      <td>0.23409</td>\n",
       "      <td>0.24198</td>\n",
       "      <td>0.25043</td>\n",
       "      <td>0.25854</td>\n",
       "      <td>0.26626</td>\n",
       "    </tr>\n",
       "  </tbody>\n",
       "</table>\n",
       "<p>5 rows × 613 columns</p>\n",
       "</div>"
      ],
      "text/plain": [
       "              1000      1002      1004      1006      1008      1010  \\\n",
       "0  AP01  -0.048440 -0.048092 -0.047316 -0.046144 -0.045150 -0.043572   \n",
       "1  AP02  -0.039741 -0.039632 -0.039018 -0.037626 -0.036367 -0.035787   \n",
       "2  AP03  -0.044596 -0.044075 -0.043265 -0.042641 -0.041595 -0.039918   \n",
       "3  AP04  -0.046453 -0.046504 -0.045753 -0.044264 -0.043697 -0.042527   \n",
       "4  AP05  -0.047020 -0.046133 -0.044943 -0.044525 -0.043642 -0.041699   \n",
       "\n",
       "       1012      1014      1016  ...     2204     2206     2208     2210  \\\n",
       "0 -0.042092 -0.040565 -0.040039  ...  0.20674  0.20972  0.21389  0.21894   \n",
       "1 -0.034085 -0.032902 -0.031115  ...  0.20709  0.20969  0.21348  0.21798   \n",
       "2 -0.038797 -0.036772 -0.035691  ...  0.21084  0.21384  0.21781  0.22274   \n",
       "3 -0.041353 -0.039224 -0.038729  ...  0.20320  0.20600  0.20954  0.21416   \n",
       "4 -0.040246 -0.039083 -0.037985  ...  0.21023  0.21331  0.21699  0.22182   \n",
       "\n",
       "      2212     2214     2216     2218     2220    2222   \n",
       "0  0.22447  0.23109  0.23900  0.24760  0.25572  0.26319  \n",
       "1  0.22370  0.23022  0.23842  0.24706  0.25568  0.26325  \n",
       "2  0.22816  0.23511  0.24303  0.25140  0.25961  0.26728  \n",
       "3  0.21955  0.22650  0.23430  0.24307  0.25165  0.25970  \n",
       "4  0.22742  0.23409  0.24198  0.25043  0.25854  0.26626  \n",
       "\n",
       "[5 rows x 613 columns]"
      ]
     },
     "execution_count": 5,
     "metadata": {},
     "output_type": "execute_result"
    }
   ],
   "source": [
    "pir.head()"
   ]
  },
  {
   "cell_type": "code",
   "execution_count": 6,
   "metadata": {},
   "outputs": [
    {
     "data": {
      "text/html": [
       "<div>\n",
       "<style scoped>\n",
       "    .dataframe tbody tr th:only-of-type {\n",
       "        vertical-align: middle;\n",
       "    }\n",
       "\n",
       "    .dataframe tbody tr th {\n",
       "        vertical-align: top;\n",
       "    }\n",
       "\n",
       "    .dataframe thead th {\n",
       "        text-align: right;\n",
       "    }\n",
       "</style>\n",
       "<table border=\"1\" class=\"dataframe\">\n",
       "  <thead>\n",
       "    <tr style=\"text-align: right;\">\n",
       "      <th></th>\n",
       "      <th>Unnamed: 0</th>\n",
       "      <th>C16:0</th>\n",
       "      <th>C16:1w9</th>\n",
       "      <th>C16:1w7</th>\n",
       "      <th>C17:0</th>\n",
       "      <th>C17:1w8</th>\n",
       "      <th>C18:0</th>\n",
       "      <th>C18:1w9</th>\n",
       "      <th>C18:1w7</th>\n",
       "      <th>C18:2w6</th>\n",
       "      <th>C18:3w3</th>\n",
       "      <th>C20:0</th>\n",
       "      <th>C20:1w9</th>\n",
       "      <th>C22:0</th>\n",
       "      <th>C24:0</th>\n",
       "      <th>Squalene</th>\n",
       "    </tr>\n",
       "  </thead>\n",
       "  <tbody>\n",
       "    <tr>\n",
       "      <th>0</th>\n",
       "      <td>AP01</td>\n",
       "      <td>13.22</td>\n",
       "      <td>0.10</td>\n",
       "      <td>1.01</td>\n",
       "      <td>0.06</td>\n",
       "      <td>0.11</td>\n",
       "      <td>2.03</td>\n",
       "      <td>71.06</td>\n",
       "      <td>2.61</td>\n",
       "      <td>8.37</td>\n",
       "      <td>0.69</td>\n",
       "      <td>0.34</td>\n",
       "      <td>0.24</td>\n",
       "      <td>0.11</td>\n",
       "      <td>0.05</td>\n",
       "      <td>0.65</td>\n",
       "    </tr>\n",
       "    <tr>\n",
       "      <th>1</th>\n",
       "      <td>AP02</td>\n",
       "      <td>14.32</td>\n",
       "      <td>0.12</td>\n",
       "      <td>1.06</td>\n",
       "      <td>0.09</td>\n",
       "      <td>0.16</td>\n",
       "      <td>2.34</td>\n",
       "      <td>67.34</td>\n",
       "      <td>2.51</td>\n",
       "      <td>10.74</td>\n",
       "      <td>0.55</td>\n",
       "      <td>0.38</td>\n",
       "      <td>0.22</td>\n",
       "      <td>0.11</td>\n",
       "      <td>0.05</td>\n",
       "      <td>0.59</td>\n",
       "    </tr>\n",
       "    <tr>\n",
       "      <th>2</th>\n",
       "      <td>AP03</td>\n",
       "      <td>14.00</td>\n",
       "      <td>0.12</td>\n",
       "      <td>1.06</td>\n",
       "      <td>0.10</td>\n",
       "      <td>0.17</td>\n",
       "      <td>2.24</td>\n",
       "      <td>68.13</td>\n",
       "      <td>2.56</td>\n",
       "      <td>10.33</td>\n",
       "      <td>0.56</td>\n",
       "      <td>0.36</td>\n",
       "      <td>0.21</td>\n",
       "      <td>0.11</td>\n",
       "      <td>0.05</td>\n",
       "      <td>0.62</td>\n",
       "    </tr>\n",
       "    <tr>\n",
       "      <th>3</th>\n",
       "      <td>AP04</td>\n",
       "      <td>13.84</td>\n",
       "      <td>0.11</td>\n",
       "      <td>0.90</td>\n",
       "      <td>0.08</td>\n",
       "      <td>0.14</td>\n",
       "      <td>2.38</td>\n",
       "      <td>67.67</td>\n",
       "      <td>2.29</td>\n",
       "      <td>11.28</td>\n",
       "      <td>0.57</td>\n",
       "      <td>0.37</td>\n",
       "      <td>0.20</td>\n",
       "      <td>0.11</td>\n",
       "      <td>0.06</td>\n",
       "      <td>0.58</td>\n",
       "    </tr>\n",
       "    <tr>\n",
       "      <th>4</th>\n",
       "      <td>AP05</td>\n",
       "      <td>13.69</td>\n",
       "      <td>0.12</td>\n",
       "      <td>1.03</td>\n",
       "      <td>0.12</td>\n",
       "      <td>0.21</td>\n",
       "      <td>2.40</td>\n",
       "      <td>68.92</td>\n",
       "      <td>2.51</td>\n",
       "      <td>9.69</td>\n",
       "      <td>0.55</td>\n",
       "      <td>0.38</td>\n",
       "      <td>0.21</td>\n",
       "      <td>0.12</td>\n",
       "      <td>0.05</td>\n",
       "      <td>0.60</td>\n",
       "    </tr>\n",
       "  </tbody>\n",
       "</table>\n",
       "</div>"
      ],
      "text/plain": [
       "  Unnamed: 0  C16:0  C16:1w9  C16:1w7  C17:0  C17:1w8  C18:0  C18:1w9  \\\n",
       "0      AP01   13.22     0.10     1.01   0.06     0.11   2.03    71.06   \n",
       "1      AP02   14.32     0.12     1.06   0.09     0.16   2.34    67.34   \n",
       "2      AP03   14.00     0.12     1.06   0.10     0.17   2.24    68.13   \n",
       "3      AP04   13.84     0.11     0.90   0.08     0.14   2.38    67.67   \n",
       "4      AP05   13.69     0.12     1.03   0.12     0.21   2.40    68.92   \n",
       "\n",
       "   C18:1w7  C18:2w6  C18:3w3  C20:0  C20:1w9  C22:0  C24:0  Squalene  \n",
       "0     2.61     8.37     0.69   0.34     0.24   0.11   0.05      0.65  \n",
       "1     2.51    10.74     0.55   0.38     0.22   0.11   0.05      0.59  \n",
       "2     2.56    10.33     0.56   0.36     0.21   0.11   0.05      0.62  \n",
       "3     2.29    11.28     0.57   0.37     0.20   0.11   0.06      0.58  \n",
       "4     2.51     9.69     0.55   0.38     0.21   0.12   0.05      0.60  "
      ]
     },
     "execution_count": 6,
     "metadata": {},
     "output_type": "execute_result"
    }
   ],
   "source": [
    "ags.head()"
   ]
  },
  {
   "cell_type": "code",
   "execution_count": 8,
   "metadata": {},
   "outputs": [],
   "source": [
    "# recuperer les valeurs à predire ici c'est  C18-1ω9.\n",
    "c18_1w9 = ags['C18:1w9'].values"
   ]
  },
  {
   "cell_type": "code",
   "execution_count": 9,
   "metadata": {},
   "outputs": [],
   "source": [
    "# recuperez  les valeurs spectrales comme intensities wavelength  \n",
    "wavelength = pir.drop('  ',axis=1)\n",
    "wavelength =  np.array(wavelength.columns, dtype=float)\n",
    "intensities = pir.drop('  ',axis=1)\n",
    "intensities = intensities.values"
   ]
  },
  {
   "cell_type": "code",
   "execution_count": 16,
   "metadata": {},
   "outputs": [
    {
     "data": {
      "text/plain": [
       "(187, 612)"
      ]
     },
     "execution_count": 16,
     "metadata": {},
     "output_type": "execute_result"
    }
   ],
   "source": [
    "intensities.shape"
   ]
  },
  {
   "cell_type": "code",
   "execution_count": 18,
   "metadata": {},
   "outputs": [],
   "source": [
    "# Creation des jeu de données etalonage et test \n",
    "## jeu de données étalonnage ou calibration\n",
    "intensities_c = intensities[0:106,:]\n",
    "c18_1w9_c = c18_1w9[0:106]\n",
    "## jeu de données test\n",
    "intensities_test = intensities[106:187,:]\n",
    "c18_1w9_test = c18_1w9[106:187]"
   ]
  },
  {
   "cell_type": "code",
   "execution_count": 20,
   "metadata": {},
   "outputs": [
    {
     "data": {
      "text/plain": [
       "(106,)"
      ]
     },
     "execution_count": 20,
     "metadata": {},
     "output_type": "execute_result"
    }
   ],
   "source": [
    "c18_1w9_c.shape"
   ]
  },
  {
   "cell_type": "code",
   "execution_count": 19,
   "metadata": {},
   "outputs": [
    {
     "data": {
      "text/plain": [
       "(81,)"
      ]
     },
     "execution_count": 19,
     "metadata": {},
     "output_type": "execute_result"
    }
   ],
   "source": [
    "c18_1w9_test.shape"
   ]
  },
  {
   "cell_type": "markdown",
   "metadata": {},
   "source": [
    "## 3 Calculez un modele de regression MLR (multiple linear regression ) entre la teneur en acide ol ́eique C18-1ω9 dans new ags.tab et new pir.tab (laisser les parametres de validation croisee par defaut) (trouver les paramètres par défaut de chemflow)."
   ]
  },
  {
   "cell_type": "code",
   "execution_count": 32,
   "metadata": {},
   "outputs": [
    {
     "name": "stdout",
     "output_type": "stream",
     "text": [
      "Coefficients du modèle de régression linéaire :  [ 8.96171734e-01  1.56854439e-01  5.92852445e-01  2.81970564e-01\n",
      " -2.75748502e-01 -4.27064879e-01 -2.98926838e-01 -4.81291662e-01\n",
      " -2.89096146e-01  2.96276858e-01  7.16386203e-02 -2.30578787e-01\n",
      "  2.26422837e-01  5.65316054e-01  1.27787621e-01  3.88455141e-01\n",
      "  5.28713271e-01  3.04894862e-01  3.10190858e-02 -2.56921065e-01\n",
      " -6.36788969e-02  3.93177015e-01 -4.20646241e-01 -8.53651537e-02\n",
      " -2.52036463e-01 -3.11739858e-02 -1.11036138e+00 -6.58599489e-01\n",
      " -2.64111868e-01 -3.93152138e-01 -7.26853129e-01 -4.71419785e-01\n",
      "  3.48618452e-01 -1.24006200e-01 -5.18552848e-01 -2.89015742e-02\n",
      " -7.33836833e-01 -3.05568673e-01 -2.58169197e-01 -6.38333964e-01\n",
      "  3.15844379e-01  1.15112733e-01 -2.86872288e-01 -2.61570765e-01\n",
      "  9.77891791e-02  6.14178204e-01  2.14344217e-01  1.08730700e-02\n",
      " -1.81035866e-01 -1.14572562e-01  1.95387492e-01  5.13014689e-01\n",
      "  1.68128982e-01  5.65832414e-01  5.88331987e-01  5.42947344e-01\n",
      " -5.20197160e-02 -3.41859582e-01  4.12902104e-01  3.25586084e-01\n",
      " -2.33389888e-01 -6.14799944e-02 -6.43675253e-01 -2.52755299e-01\n",
      "  5.38504520e-01 -8.20068834e-01 -1.13229846e-01 -4.29320901e-02\n",
      "  2.63754817e-01 -2.36506644e-01  5.80815634e-01  3.02818705e-01\n",
      "  6.69197329e-01  2.96132344e-01  2.78601725e-01 -1.46977139e-01\n",
      " -3.08098619e-01  2.53693565e-01 -2.10831695e-01 -4.03468295e-02\n",
      " -5.28071789e-02 -6.38828476e-01 -2.89532477e-01  2.93394605e-01\n",
      "  3.57793252e-01  3.80477924e-01  1.68433917e-03  1.89375763e-02\n",
      "  1.50203482e-01 -2.49778055e-02  3.39641541e-01  2.95109536e-01\n",
      " -3.38136118e-02 -1.33389405e-01  3.32446278e-01  9.18306710e-02\n",
      " -4.29240948e-01  3.87300579e-01  9.52994041e-02 -5.39160231e-01\n",
      "  7.85056268e-02 -1.07603248e-01 -2.29734687e-01  2.21208883e-01\n",
      " -1.24025128e-01 -1.12873197e-01 -3.78317449e-01  1.34316060e-01\n",
      " -5.00644820e-01  7.32747165e-02  4.33011034e-02 -1.26691054e-01\n",
      "  3.10477839e-01 -1.04807426e-01  6.01144223e-01  1.02343949e-01\n",
      "  1.59752695e-01  7.21930291e-02 -3.82244352e-01  5.61582173e-01\n",
      "  1.83865178e-01 -1.18523097e-01 -2.29389922e-02  6.48918037e-01\n",
      "  6.53519325e-01  1.03204573e-01 -2.07301023e-01  3.21837501e-01\n",
      "  2.68481817e-01  3.84328358e-01  1.53234806e-01  2.41494976e-01\n",
      "  5.17984582e-01  7.07943492e-01  2.04458656e-02  2.34044173e-01\n",
      " -3.48313483e-02 -1.28229494e-01 -2.39126438e-01 -1.76549239e-01\n",
      "  4.38191338e-02 -1.14111632e-01 -1.75280863e-02 -1.54559719e-01\n",
      " -1.06462051e-01  4.68651250e-01 -4.45768975e-02 -8.56134863e-03\n",
      " -4.94621381e-01 -3.21275721e-01  5.19417536e-02 -1.72100703e-01\n",
      "  2.37681902e-01  3.05973079e-01  1.92429957e-01  5.58875826e-02\n",
      " -5.97656279e-02  2.22770177e-01  1.35277920e-01  1.42231816e-01\n",
      " -4.06657692e-01 -4.67363688e-01  4.02183550e-01 -7.32116414e-02\n",
      "  9.82510324e-02  6.28398130e-02  2.15770785e-02  6.18104682e-02\n",
      "  2.95639884e-01 -2.75668379e-01 -2.79547508e-01  9.10004435e-02\n",
      " -3.58880957e-01 -1.52831183e-01  2.22924446e-01  1.31161838e-01\n",
      "  4.11122061e-01 -2.09042804e-02  4.15539239e-02 -1.49343356e-02\n",
      "  4.76452751e-02 -1.66953087e-01  1.64908389e-01 -4.63747496e-01\n",
      " -6.69839635e-01 -2.68371794e-01 -2.39779654e-01 -4.73003853e-01\n",
      "  5.01438792e-01 -2.90630859e-01 -1.60791492e-01  3.41486575e-02\n",
      "  4.06478153e-01  6.35337484e-01  4.23109322e-01  2.44868545e-01\n",
      "  1.64342859e-01 -8.82303810e-02  1.05898709e-01  2.90956921e-02\n",
      " -1.53212821e-01  5.08294609e-02 -5.29537791e-02  4.01943025e-02\n",
      "  2.02666162e-02  2.91756570e-01  2.40061526e-01 -2.35820422e-01\n",
      " -3.76879918e-01  1.17554700e-01 -9.35410845e-02 -8.55497770e-02\n",
      " -2.63829485e-01 -5.83874884e-01  3.18237573e-01 -2.54342010e-01\n",
      " -3.79988496e-01 -1.49261627e-01 -4.46278393e-01  2.37219798e-01\n",
      " -1.70548626e-01 -1.90648015e-01 -1.28063410e-01  1.93468948e-01\n",
      "  1.23661938e-01 -8.83833958e-02 -9.86787471e-02 -2.08919327e-01\n",
      "  2.59997073e-01 -2.28502941e-01 -3.45374539e-01 -5.26812982e-01\n",
      "  3.31030881e-02  6.95673389e-02  8.65662325e-02 -2.97757578e-01\n",
      "  1.01092399e-01 -1.31075938e-01 -3.37024279e-01 -7.26811177e-02\n",
      "  1.97817442e-01  3.14628491e-02  1.93492433e-01 -2.61722373e-01\n",
      "  3.10371163e-01  6.19183568e-01  7.64940445e-01  3.37718598e-01\n",
      " -8.75887168e-02 -1.73292273e-02 -2.67526567e-01 -1.07255746e-01\n",
      " -1.22727757e-01 -2.17677900e-01  1.03381913e-01  1.57374335e-02\n",
      "  1.73937018e-02  2.07675724e-01  1.81874704e-01 -9.04536754e-02\n",
      "  2.14598000e-01 -1.34028118e-01 -3.52404765e-01  2.26584212e-01\n",
      " -1.94056700e-01  6.20068465e-02 -5.98720575e-01 -6.00734343e-01\n",
      "  2.60667680e-01 -1.61901321e-01 -1.04699644e-01 -9.46233168e-02\n",
      " -5.97642781e-02 -9.44113768e-02  1.28646890e-01  1.23334206e-01\n",
      " -2.00235990e-01  1.04241409e-01 -3.09695682e-01 -2.66967691e-01\n",
      " -1.83705767e-01 -2.68947063e-01  1.65604708e-02 -1.26979154e-01\n",
      " -4.35148442e-01 -1.70349128e-01 -3.42692733e-01 -8.15853849e-02\n",
      " -5.33574103e-01 -4.19584786e-01  1.22094902e-01 -9.02986332e-03\n",
      " -3.34636111e-01 -3.98957345e-01  1.06699690e-01 -6.89945168e-02\n",
      " -4.43172002e-01 -6.32663252e-01 -4.70972887e-01  1.54339016e-01\n",
      " -6.51824925e-02  1.01180997e-01  1.38638835e-01  1.97028616e-01\n",
      "  1.78715695e-01 -3.03162927e-03  4.30521156e-01 -2.77088907e-01\n",
      "  1.20994105e-01 -2.05635156e-01  3.36987981e-01  6.35254394e-01\n",
      "  2.91050885e-01 -1.69700300e-01  2.72929922e-01  2.22230769e-01\n",
      " -5.82158890e-02  1.83236701e-02  1.60438642e-01 -4.63323248e-03\n",
      " -2.11248460e-01 -1.65784353e-01  1.11594308e-01 -2.08901351e-01\n",
      "  2.80634981e-01  5.49114646e-01  3.87529044e-01  9.58395591e-02\n",
      " -3.74417204e-01 -1.08308417e-01 -2.62042385e-01 -2.00129006e-01\n",
      "  3.90864468e-01  1.78523494e-01  4.53535592e-01  3.37585598e-01\n",
      "  1.05573569e-01  1.80134227e-01 -2.86011954e-01 -5.50096686e-02\n",
      "  5.59602081e-01  9.31110623e-02  3.97714577e-01  5.22890588e-01\n",
      "  3.52282810e-02 -2.76242940e-01 -1.53621781e-01 -6.49057662e-01\n",
      " -9.54325810e-01 -9.92466119e-02 -1.11393434e-01 -3.61049054e-01\n",
      "  1.05346719e-01  2.69141447e-02 -2.96029680e-01 -1.42834987e+00\n",
      "  6.95450017e-04  2.66793883e-02  1.05135507e+00  3.62196717e-01\n",
      "  1.12538700e+00  3.26230712e-01  3.47016695e-01 -2.81583632e-02\n",
      "  6.26807018e-01 -3.80190513e-01 -5.40823162e-01 -3.86019795e-01\n",
      " -1.37777537e-01  7.18788226e-01  3.18810031e-02  4.41751820e-01\n",
      " -1.64939560e-01 -5.45520621e-01 -1.04548219e-01 -5.82111332e-01\n",
      " -7.18619952e-01 -1.03977606e+00 -6.18819609e-02 -6.08660052e-01\n",
      "  3.59065946e-01  8.60385150e-01  7.97531764e-02 -2.27149091e-01\n",
      " -1.26161692e-01  2.45439236e-02  4.38925194e-01  7.76173269e-01\n",
      "  4.36134017e-01 -8.13530936e-03  1.50298929e-01 -2.12494639e-01\n",
      " -5.18227977e-01  2.83661595e-01  2.68390485e-02 -4.03654627e-01\n",
      " -1.96336972e-01  5.31754517e-01 -3.91071988e-01 -3.84234369e-01\n",
      " -3.02793556e-01  1.93967511e-01  1.34254615e-01 -2.75086693e-01\n",
      " -1.67619621e-01 -3.52255576e-01  3.36185366e-03  2.54555115e-01\n",
      "  4.55138041e-01  8.06390111e-01 -6.69493998e-02  3.31052794e-01\n",
      "  2.08061457e-01  7.44713656e-02  5.18993869e-01  1.41860554e-01\n",
      " -1.33957641e-01 -3.01918411e-02  5.95620022e-01  6.00744730e-01\n",
      "  3.93863568e-01  2.38548468e-01  8.75405612e-02  3.53289921e-01\n",
      "  6.41317897e-01 -7.97702841e-02 -2.06057387e-01  1.32412185e-01\n",
      "  8.47121633e-02 -6.42881083e-01 -5.13096515e-01  4.74504049e-02\n",
      "  1.20218708e-01  4.29531247e-02 -1.83124571e-01  3.88556829e-01\n",
      "  4.31722013e-03  1.99032202e-03  2.40446477e-01  5.27764012e-01\n",
      "  3.91833452e-01 -8.51040230e-02  5.85068610e-02  2.46277650e-01\n",
      "  3.16941571e-01 -1.05850709e-01  1.31695175e-01  3.53272644e-02\n",
      "  1.22732263e-01  2.80385480e-01  2.02351552e-01  3.49993684e-01\n",
      "  8.40559653e-03 -7.08980501e-04 -4.07840184e-01 -4.09175841e-01\n",
      " -4.42534702e-01 -3.08864212e-01  6.35676815e-02 -2.60621636e-01\n",
      " -2.76109432e-01 -4.69666853e-03  2.15413568e-02  3.68247081e-02\n",
      "  9.92706737e-02  3.61360061e-01 -1.48113121e-01  1.43348663e-02\n",
      " -1.47240116e-01 -5.18069025e-01 -1.06191378e-01 -3.70490603e-01\n",
      " -3.32841685e-01 -4.27852783e-01 -7.18667388e-02  2.67070767e-02\n",
      " -3.00568164e-01  1.24073334e-01  3.76857298e-01  9.84862942e-01\n",
      "  1.95108447e-01  4.50314898e-01  2.80452131e-01 -6.25004915e-02\n",
      " -1.43756268e-01 -9.91671182e-02  2.91757390e-02 -2.00214799e-01\n",
      " -3.35873514e-02  3.66869005e-01  1.91116960e-01 -9.34745116e-02\n",
      " -1.43300001e-01 -3.27507029e-02  1.46464704e-01 -4.88708171e-01\n",
      " -1.06384829e-01  2.79731525e-01 -8.76566662e-02 -4.40872686e-01\n",
      " -3.12909277e-01 -3.29589026e-01 -5.05384750e-01  1.33707984e-01\n",
      "  2.67818953e-01 -4.99251634e-01 -3.34078037e-01 -4.84026188e-01\n",
      "  2.08336663e-01  3.22623912e-02 -5.25419334e-01  3.37636898e-01\n",
      " -5.06567676e-01 -4.72789304e-02  2.51819695e-01  6.06447986e-01\n",
      " -2.56695638e-01  2.21050875e-02 -1.69384589e-02 -3.06711023e-01\n",
      " -5.60399054e-01  1.76766048e-01  4.42649044e-01 -4.39719363e-02\n",
      "  7.87769245e-02 -1.97585994e-01 -1.96949092e-01 -6.13791996e-02\n",
      "  2.35430561e-01 -6.64514433e-03 -2.45503507e-01  6.53191260e-02\n",
      "  4.24414439e-01  2.65886137e-01 -1.85444960e-01 -1.15906097e-01\n",
      "  1.27020758e-01 -1.66116996e-01  6.42531715e-02  7.33691863e-01\n",
      "  1.28950647e-01 -2.45163659e-02  3.61933607e-01  1.75756735e-01\n",
      "  2.56588899e-01  1.81893093e-01  6.00846375e-01  2.97100009e-01\n",
      " -3.77144356e-01 -6.53494012e-01 -1.44880535e-01  6.90219295e-01\n",
      "  4.02953746e-01 -6.50871688e-01  2.74909570e-03  1.05053434e-01\n",
      "  3.17449257e-01 -3.15467749e-01 -4.18329074e-01  7.26437418e-02\n",
      "  5.95665995e-01 -3.53194061e-01  4.38650046e-02  2.54158069e-01\n",
      " -2.07427275e-01 -4.20004235e-01 -7.27895719e-01  1.28613225e-01\n",
      " -4.97953361e-01 -9.40746371e-01 -5.91665508e-01  2.31785751e-01\n",
      "  8.35572160e-01  6.53309796e-01  5.74180371e-01  6.08717065e-01\n",
      "  5.09784586e-01 -6.16290553e-01 -2.82889940e-01 -3.54540943e-01\n",
      " -8.81534824e-02  1.59301810e-01  2.58224407e-02 -1.73008594e-01\n",
      " -6.13508122e-01  2.54587008e-01  1.87030632e-01 -3.50059991e-01\n",
      "  4.64033010e-01  9.14444093e-01  1.76122081e-01 -9.11553394e-03\n",
      "  4.14488580e-01  7.51579263e-01  1.30826024e-01 -6.07804074e-01\n",
      " -3.34288628e-01  5.44381505e-01 -2.36074904e-02 -5.42686280e-02\n",
      "  1.95512330e-01 -3.91592847e-01 -2.28396176e-02  3.97810206e-01\n",
      "  3.33869153e-01  7.68800530e-03 -7.16462168e-01  1.20750597e-01\n",
      " -3.13429168e-01  1.53533745e-01 -1.70737764e-01 -7.11404759e-01]\n",
      "Racine carrée de l'erreur quadratique moyenne (RMSEC):  1.7429013405743572\n",
      "Score R2 :  0.8860569443953105\n",
      "Scores de validation croisée : [ 0.45234952  0.24432499 -0.8882037   0.81453415  0.6091325 ]\n",
      "Score moyen de validation croisée : 0.24642749216962537\n"
     ]
    }
   ],
   "source": [
    "# Réalisation de la regression lineaire en utilisant scikit learn\n",
    "regression_model = LinearRegression()\n",
    "# centrer les données \n",
    "standardscale = StandardScaler()\n",
    "intensities_c = standardscale.fit_transform(intensities_c)\n",
    "\n",
    "# Utilisez la validation croisée pour évaluer le modèle\n",
    "scores = cross_val_score(regression_model, intensities_c, y=c18_1w9_c, cv=5) \n",
    "\n",
    "# Effectuer la régression linéaire avec validation croisée\n",
    "predicted_c18_1w9_c = cross_val_predict(regression_model, intensities_c, y=c18_1w9_c, cv=5)\n",
    "\n",
    "# Calcul des coefficients du modèle\n",
    "regression_model.fit(intensities_c, c18_1w9_c)\n",
    "coefficients = regression_model.coef_\n",
    "\n",
    "# Evaluation du modèle\n",
    "rmsec = mean_squared_error(y_true=c18_1w9_c, y_pred=predicted_c18_1w9_c)\n",
    "r2 = r2_score(y_true=c18_1w9_c, y_pred=predicted_c18_1w9_c)\n",
    "\n",
    "# Affichage des valeurs\n",
    "print(\"Coefficients du modèle de régression linéaire : \", coefficients)\n",
    "print(\"Racine carrée de l'erreur quadratique moyenne (RMSEC): \", rmsec)\n",
    "print(\"Score R2 : \", r2)\n",
    "\n",
    "# Affichez les scores de la validation croisée\n",
    "print(\"Scores de validation croisée :\", scores)\n",
    "print(\"Score moyen de validation croisée :\", scores.mean())\n"
   ]
  },
  {
   "cell_type": "markdown",
   "metadata": {},
   "source": [
    "## 4 Tracer le vecteur de coefficients-b de la MLR."
   ]
  },
  {
   "cell_type": "code",
   "execution_count": 35,
   "metadata": {},
   "outputs": [
    {
     "data": {
      "text/plain": [
       "Text(0, 0.5, 'Valeurs')"
      ]
     },
     "execution_count": 35,
     "metadata": {},
     "output_type": "execute_result"
    },
    {
     "data": {
      "image/png": "[encoded data removed]",
      "text/plain": [
       "<Figure size 1152x648 with 1 Axes>"
      ]
     },
     "metadata": {
      "needs_background": "light"
     },
     "output_type": "display_data"
    }
   ],
   "source": [
    "plt.figure(figsize=(16,9))\n",
    "plt.plot(wavelength, coefficients)\n",
    "plt.title(\"Coefficients−b de la MLR\")\n",
    "plt.xlabel(\"Longueurs d'ondes en nm\")\n",
    "plt.ylabel(\"Valeurs\")"
   ]
  },
  {
   "cell_type": "markdown",
   "metadata": {},
   "source": [
    "## 5 Calculez un modele de regression PCR entre la teneur en acide ol ́eique C18-1ω9 dans new ags.tab et new pir.tab, avec une validation crois ́ee de type stores Venitiens et 4 blocs, 20 variables latentes, donnees centrees.\n",
    "\n",
    "PCR : Principal component regression ==> utilisé les scores de l'ACP pour réalisés sur les données "
   ]
  },
  {
   "cell_type": "code",
   "execution_count": 41,
   "metadata": {},
   "outputs": [
    {
     "data": {
      "text/plain": [
       "array([[-1.76879645e+01,  1.38410048e+00,  2.48432483e+00, ...,\n",
       "         1.68881881e-01, -3.32103068e-01, -2.85689703e-01],\n",
       "       [ 3.71246340e+01, -6.02110320e-01, -3.82290846e+00, ...,\n",
       "        -2.33911338e-01, -8.10831285e-02, -1.45108244e-01],\n",
       "       [ 1.35862434e+01,  4.90563114e+00,  1.48316737e+00, ...,\n",
       "        -3.43321470e-02,  6.26419740e-03, -1.04351407e-01],\n",
       "       ...,\n",
       "       [ 2.49216921e+01,  1.76207229e+00,  3.41643915e+00, ...,\n",
       "        -1.07611180e-01,  1.79477968e-02,  1.36385365e-01],\n",
       "       [ 8.57023571e+01,  1.12275796e+01, -4.02159648e+00, ...,\n",
       "        -1.47591919e-01, -2.77082712e-01, -1.03811662e-01],\n",
       "       [ 7.31327979e+01,  4.54471048e+00, -3.37199061e+00, ...,\n",
       "        -2.97413233e-01, -1.51695375e-01, -2.80813136e-02]])"
      ]
     },
     "execution_count": 41,
     "metadata": {},
     "output_type": "execute_result"
    }
   ],
   "source": []
  },
  {
   "cell_type": "code",
   "execution_count": 50,
   "metadata": {},
   "outputs": [
    {
     "data": {
      "text/plain": [
       "[array([-0.02834973,  0.13649632, -0.23362121, -0.56049124, -0.1189865 ,\n",
       "         0.07142852,  1.73424597,  0.19800993,  0.02427697, -0.46448398,\n",
       "         0.42811584, -0.32188341, -0.04855285, -0.60037554,  0.46968396,\n",
       "         0.72205321,  0.32311114,  0.19787533,  0.26698487, -0.35200814]),\n",
       " array([-0.02198473, -0.20744663,  0.04927239, -0.38347619,  0.47384419,\n",
       "         0.27806659,  0.85444316, -0.3519967 , -1.22031025,  0.76932767,\n",
       "        -0.92571789,  0.16151986, -0.15767744,  0.14338447, -0.7884819 ,\n",
       "         0.47968491,  0.98031353,  1.9575815 , -0.80959774, -0.07471262]),\n",
       " array([ 0.05128973, -0.42940195,  0.52366166,  0.09080902,  0.49088193,\n",
       "        -0.03068113,  1.23539927, -0.39274214,  0.22285725,  1.15401691,\n",
       "         0.31857987, -1.54102754,  0.48585888,  0.08829147,  1.120316  ,\n",
       "         0.07762407,  0.63081127,  0.09243065, -0.20166846, -0.86200933]),\n",
       " array([ 0.08235405, -0.23737088,  0.59573095,  0.2947257 , -0.75332573,\n",
       "         0.13259622,  1.29331677, -0.58850437,  0.59570763,  0.67916862,\n",
       "        -0.33409915, -0.33031938,  1.4312161 , -0.17312126,  1.11829   ,\n",
       "         0.31329388,  0.67874917, -1.00679907,  1.3459809 ,  0.43425437])]"
      ]
     },
     "execution_count": 50,
     "metadata": {},
     "output_type": "execute_result"
    }
   ],
   "source": [
    "## réaliser l'ACP \n",
    "\n",
    "X = intensities_c\n",
    "y = c18_1w9_c\n",
    "\n",
    "\n",
    "component20_coefficients =[]\n",
    "\n",
    "for training_sets, test_sets in venetian_blinds_cross_validation(X,4):\n",
    "            \n",
    "        X_train, X_test = X[train_index], X[test_index]\n",
    "        y_train, y_test = y[train_index], y[test_index]\n",
    "\n",
    "        # Effectuez l'analyse en composantes principales (ACP) avec le nombre de composantes spécifié\n",
    "        pca = PCA(n_components=20)\n",
    "        X_train_pca = pca.fit_transform(X_train)\n",
    "        X_test_pca = pca.transform(X_test)\n",
    "\n",
    "        # Ajustez un modèle de régression linéaire\n",
    "        regression_model = LinearRegression()\n",
    "        regression_model.fit(X_train_pca, y_train)\n",
    "\n",
    "        # Collectez les coefficients du modèle\n",
    "        component20_coefficients.append(regression_model.coef_)\n",
    "component20_coefficients"
   ]
  },
  {
   "cell_type": "code",
   "execution_count": 52,
   "metadata": {},
   "outputs": [
    {
     "data": {
      "text/plain": [
       "array([ 85,  86,  87,  88,  89,  90,  91,  92,  93,  94,  95,  96,  97,\n",
       "        98,  99, 100, 101, 102, 103, 104, 105])"
      ]
     },
     "execution_count": 52,
     "metadata": {},
     "output_type": "execute_result"
    }
   ],
   "source": [
    "test_index"
   ]
  },
  {
   "cell_type": "code",
   "execution_count": 51,
   "metadata": {},
   "outputs": [
    {
     "data": {
      "text/plain": [
       "array([ 0,  1,  2,  3,  4,  5,  6,  7,  8,  9, 10, 11, 12, 13, 14, 15, 16,\n",
       "       17, 18, 19, 20, 21, 22, 23, 24, 25, 26, 27, 28, 29, 30, 31, 32, 33,\n",
       "       34, 35, 36, 37, 38, 39, 40, 41, 42, 43, 44, 45, 46, 47, 48, 49, 50,\n",
       "       51, 52, 53, 54, 55, 56, 57, 58, 59, 60, 61, 62, 63, 64, 65, 66, 67,\n",
       "       68, 69, 70, 71, 72, 73, 74, 75, 76, 77, 78, 79, 80, 81, 82, 83, 84])"
      ]
     },
     "execution_count": 51,
     "metadata": {},
     "output_type": "execute_result"
    }
   ],
   "source": [
    "train_index"
   ]
  },
  {
   "cell_type": "markdown",
   "metadata": {},
   "source": [
    "## 6 Tracer les vecteurs de coefficients-b de la PCR pour 1, 3, 5 et 7 variables latentes.\n",
    "\n"
   ]
  },
  {
   "cell_type": "code",
   "execution_count": 54,
   "metadata": {},
   "outputs": [],
   "source": []
  },
  {
   "cell_type": "code",
   "execution_count": 55,
   "metadata": {},
   "outputs": [
    {
     "data": {
      "text/plain": [
       "[array([2, 3, 5, 6, 8, 9]),\n",
       " array([ 1,  3,  4,  6,  7,  9, 10]),\n",
       " array([ 1,  2,  4,  5,  7,  8, 10])]"
      ]
     },
     "execution_count": 55,
     "metadata": {},
     "output_type": "execute_result"
    }
   ],
   "source": [
    "train_sets"
   ]
  },
  {
   "cell_type": "code",
   "execution_count": 56,
   "metadata": {},
   "outputs": [
    {
     "data": {
      "text/plain": [
       "[array([ 1,  4,  7, 10]), array([2, 5, 8]), array([3, 6, 9])]"
      ]
     },
     "execution_count": 56,
     "metadata": {},
     "output_type": "execute_result"
    }
   ],
   "source": [
    "test_sets"
   ]
  }
 ],
 "metadata": {
  "kernelspec": {
   "display_name": "Python 3",
   "language": "python",
   "name": "python3"
  },
  "language_info": {
   "codemirror_mode": {
    "name": "ipython",
    "version": 3
   },
   "file_extension": ".py",
   "mimetype": "text/x-python",
   "name": "python",
   "nbconvert_exporter": "python",
   "pygments_lexer": "ipython3",
   "version": "3.9.12"
  },
  "orig_nbformat": 4
 },
 "nbformat": 4,
 "nbformat_minor": 2
}
