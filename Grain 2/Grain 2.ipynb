{
 "cells": [
  {
   "cell_type": "code",
   "execution_count": 1,
   "metadata": {},
   "outputs": [
    {
     "name": "stdout",
     "output_type": "stream",
     "text": [
      "The Zen of Python, by Tim Peters\n",
      "\n",
      "Beautiful is better than ugly.\n",
      "Explicit is better than implicit.\n",
      "Simple is better than complex.\n",
      "Complex is better than complicated.\n",
      "Flat is better than nested.\n",
      "Sparse is better than dense.\n",
      "Readability counts.\n",
      "Special cases aren't special enough to break the rules.\n",
      "Although practicality beats purity.\n",
      "Errors should never pass silently.\n",
      "Unless explicitly silenced.\n",
      "In the face of ambiguity, refuse the temptation to guess.\n",
      "There should be one-- and preferably only one --obvious way to do it.\n",
      "Although that way may not be obvious at first unless you're Dutch.\n",
      "Now is better than never.\n",
      "Although never is often better than *right* now.\n",
      "If the implementation is hard to explain, it's a bad idea.\n",
      "If the implementation is easy to explain, it may be a good idea.\n",
      "Namespaces are one honking great idea -- let's do more of those!\n"
     ]
    }
   ],
   "source": [
    "import this\n"
   ]
  },
  {
   "cell_type": "code",
   "execution_count": 2,
   "metadata": {},
   "outputs": [],
   "source": [
    "import pandas as pd\n",
    "import seaborn as sns\n",
    "import matplotlib.pyplot as plt\n",
    "from scipy.spatial import distance_matrix\n",
    "import numpy as np"
   ]
  },
  {
   "cell_type": "markdown",
   "metadata": {},
   "source": [
    "# 1 test de personalité "
   ]
  },
  {
   "cell_type": "markdown",
   "metadata": {},
   "source": [
    "## Importer le fichier resultats dans un df "
   ]
  },
  {
   "cell_type": "code",
   "execution_count": 3,
   "metadata": {},
   "outputs": [
    {
     "data": {
      "text/html": [
       "<div>\n",
       "<style scoped>\n",
       "    .dataframe tbody tr th:only-of-type {\n",
       "        vertical-align: middle;\n",
       "    }\n",
       "\n",
       "    .dataframe tbody tr th {\n",
       "        vertical-align: top;\n",
       "    }\n",
       "\n",
       "    .dataframe thead th {\n",
       "        text-align: right;\n",
       "    }\n",
       "</style>\n",
       "<table border=\"1\" class=\"dataframe\">\n",
       "  <thead>\n",
       "    <tr style=\"text-align: right;\">\n",
       "      <th></th>\n",
       "      <th>Unnamed: 0</th>\n",
       "      <th>Bou</th>\n",
       "      <th>Jog</th>\n",
       "      <th>Roc</th>\n",
       "      <th>Bio</th>\n",
       "      <th>Equi</th>\n",
       "    </tr>\n",
       "  </thead>\n",
       "  <tbody>\n",
       "    <tr>\n",
       "      <th>0</th>\n",
       "      <td>Lara</td>\n",
       "      <td>0</td>\n",
       "      <td>10</td>\n",
       "      <td>2</td>\n",
       "      <td>3</td>\n",
       "      <td>6</td>\n",
       "    </tr>\n",
       "    <tr>\n",
       "      <th>1</th>\n",
       "      <td>Eric</td>\n",
       "      <td>8</td>\n",
       "      <td>4</td>\n",
       "      <td>2</td>\n",
       "      <td>2</td>\n",
       "      <td>2</td>\n",
       "    </tr>\n",
       "    <tr>\n",
       "      <th>2</th>\n",
       "      <td>Harald</td>\n",
       "      <td>0</td>\n",
       "      <td>3</td>\n",
       "      <td>10</td>\n",
       "      <td>0</td>\n",
       "      <td>0</td>\n",
       "    </tr>\n",
       "    <tr>\n",
       "      <th>3</th>\n",
       "      <td>Flora</td>\n",
       "      <td>2</td>\n",
       "      <td>3</td>\n",
       "      <td>1</td>\n",
       "      <td>9</td>\n",
       "      <td>4</td>\n",
       "    </tr>\n",
       "  </tbody>\n",
       "</table>\n",
       "</div>"
      ],
      "text/plain": [
       "  Unnamed: 0  Bou  Jog  Roc  Bio  Equi\n",
       "0       Lara    0   10    2    3     6\n",
       "1       Eric    8    4    2    2     2\n",
       "2     Harald    0    3   10    0     0\n",
       "3      Flora    2    3    1    9     4"
      ]
     },
     "execution_count": 3,
     "metadata": {},
     "output_type": "execute_result"
    }
   ],
   "source": [
    "df = pd.read_csv(\"data/enquete.csv.csv\")\n",
    "df"
   ]
  },
  {
   "cell_type": "code",
   "execution_count": 4,
   "metadata": {},
   "outputs": [
    {
     "data": {
      "text/plain": [
       "Index(['Unnamed: 0', 'Bou', 'Jog', 'Roc', 'Bio', 'Equi'], dtype='object')"
      ]
     },
     "execution_count": 4,
     "metadata": {},
     "output_type": "execute_result"
    }
   ],
   "source": [
    "df.columns"
   ]
  },
  {
   "cell_type": "markdown",
   "metadata": {},
   "source": [
    "## 1.1. Si on appelle X la matrice des r ́esultats, que repr ́esente X(3, 2) ?\n",
    "\n",
    "X (3,2) = 3\n",
    "\n",
    "## 1.2. Calculez la matrice des distances Euclidiennes des réponses des différents participants."
   ]
  },
  {
   "cell_type": "code",
   "execution_count": 5,
   "metadata": {},
   "outputs": [
    {
     "data": {
      "text/plain": [
       "[0      Lara\n",
       " 1      Eric\n",
       " 2    Harald\n",
       " 3     Flora\n",
       " Name: Nom, dtype: object]"
      ]
     },
     "execution_count": 5,
     "metadata": {},
     "output_type": "execute_result"
    }
   ],
   "source": [
    "df.columns =  ['Nom', 'Bou', 'Jog', 'Roc', 'Bio', 'Equi']\n",
    "[df['Nom']]\n"
   ]
  },
  {
   "cell_type": "code",
   "execution_count": 6,
   "metadata": {},
   "outputs": [],
   "source": [
    "df.rename(index = {0:'Lara',\n",
    " 1: 'Eric',\n",
    " 2 :   'Harald',\n",
    " 3 :    'Flora'}, inplace = True)\n"
   ]
  },
  {
   "cell_type": "code",
   "execution_count": 7,
   "metadata": {},
   "outputs": [
    {
     "data": {
      "text/html": [
       "<div>\n",
       "<style scoped>\n",
       "    .dataframe tbody tr th:only-of-type {\n",
       "        vertical-align: middle;\n",
       "    }\n",
       "\n",
       "    .dataframe tbody tr th {\n",
       "        vertical-align: top;\n",
       "    }\n",
       "\n",
       "    .dataframe thead th {\n",
       "        text-align: right;\n",
       "    }\n",
       "</style>\n",
       "<table border=\"1\" class=\"dataframe\">\n",
       "  <thead>\n",
       "    <tr style=\"text-align: right;\">\n",
       "      <th></th>\n",
       "      <th>Bou</th>\n",
       "      <th>Jog</th>\n",
       "      <th>Roc</th>\n",
       "      <th>Bio</th>\n",
       "      <th>Equi</th>\n",
       "    </tr>\n",
       "  </thead>\n",
       "  <tbody>\n",
       "    <tr>\n",
       "      <th>Lara</th>\n",
       "      <td>0</td>\n",
       "      <td>10</td>\n",
       "      <td>2</td>\n",
       "      <td>3</td>\n",
       "      <td>6</td>\n",
       "    </tr>\n",
       "    <tr>\n",
       "      <th>Eric</th>\n",
       "      <td>8</td>\n",
       "      <td>4</td>\n",
       "      <td>2</td>\n",
       "      <td>2</td>\n",
       "      <td>2</td>\n",
       "    </tr>\n",
       "    <tr>\n",
       "      <th>Harald</th>\n",
       "      <td>0</td>\n",
       "      <td>3</td>\n",
       "      <td>10</td>\n",
       "      <td>0</td>\n",
       "      <td>0</td>\n",
       "    </tr>\n",
       "    <tr>\n",
       "      <th>Flora</th>\n",
       "      <td>2</td>\n",
       "      <td>3</td>\n",
       "      <td>1</td>\n",
       "      <td>9</td>\n",
       "      <td>4</td>\n",
       "    </tr>\n",
       "  </tbody>\n",
       "</table>\n",
       "</div>"
      ],
      "text/plain": [
       "        Bou  Jog  Roc  Bio  Equi\n",
       "Lara      0   10    2    3     6\n",
       "Eric      8    4    2    2     2\n",
       "Harald    0    3   10    0     0\n",
       "Flora     2    3    1    9     4"
      ]
     },
     "execution_count": 7,
     "metadata": {},
     "output_type": "execute_result"
    }
   ],
   "source": [
    "df = df.drop('Nom',axis=1)\n",
    "df"
   ]
  },
  {
   "cell_type": "code",
   "execution_count": 8,
   "metadata": {},
   "outputs": [
    {
     "data": {
      "text/plain": [
       "array([[ 0.        , 10.81665383, 12.56980509,  9.69535971],\n",
       "       [10.81665383,  0.        , 11.70469991,  9.53939201],\n",
       "       [12.56980509, 11.70469991,  0.        , 13.49073756],\n",
       "       [ 9.69535971,  9.53939201, 13.49073756,  0.        ]])"
      ]
     },
     "execution_count": 8,
     "metadata": {},
     "output_type": "execute_result"
    }
   ],
   "source": [
    "distances= distance_matrix (df,df)\n",
    "distances"
   ]
  },
  {
   "cell_type": "markdown",
   "metadata": {},
   "source": [
    "- les reponses les plus proches sont celle d' ERIC et Flora pour 9,53\n",
    "- les reponses les plus éloignées sont celles d'Harald et flora pour 13,49"
   ]
  },
  {
   "cell_type": "markdown",
   "metadata": {},
   "source": [
    "## 1.3. Calculez la norme du vecteur des r ́eponses de Harald. Ce calcul sera fait manuellement, avec une calculatrice.\n",
    "on le fera ici sur python  on utilisera la fonction linalg_norm de numpy"
   ]
  },
  {
   "cell_type": "code",
   "execution_count": 9,
   "metadata": {},
   "outputs": [
    {
     "data": {
      "text/plain": [
       "10.44030650891055"
      ]
     },
     "execution_count": 9,
     "metadata": {},
     "output_type": "execute_result"
    }
   ],
   "source": [
    "# recuperons les reponses d'HArald\n",
    "# recuprons juste la ligne d'harald\n",
    "df.index\n",
    "harald = df.loc['Harald', :]\n",
    "harald = harald.values\n",
    "\n",
    "norm_harald = np.linalg.norm(harald)\n",
    "norm_harald"
   ]
  },
  {
   "cell_type": "markdown",
   "metadata": {},
   "source": [
    "norme des reponses d'harald est de 10,44"
   ]
  },
  {
   "cell_type": "markdown",
   "metadata": {},
   "source": [
    "#  2- Spectres visible - proche infrarouge de farines de blé"
   ]
  },
  {
   "cell_type": "markdown",
   "metadata": {},
   "source": [
    "##### importons les données neccessaires pour cet exercice"
   ]
  },
  {
   "cell_type": "code",
   "execution_count": 10,
   "metadata": {},
   "outputs": [],
   "source": [
    "# importation des données \n",
    "spectres_farines = pd.read_csv(\"data/x_140farines.csv.csv\")\n",
    "infos_farines = pd.read_csv(\"data/y_140farines.csv.csv\")\n"
   ]
  },
  {
   "cell_type": "code",
   "execution_count": 11,
   "metadata": {},
   "outputs": [
    {
     "data": {
      "text/html": [
       "<div>\n",
       "<style scoped>\n",
       "    .dataframe tbody tr th:only-of-type {\n",
       "        vertical-align: middle;\n",
       "    }\n",
       "\n",
       "    .dataframe tbody tr th {\n",
       "        vertical-align: top;\n",
       "    }\n",
       "\n",
       "    .dataframe thead th {\n",
       "        text-align: right;\n",
       "    }\n",
       "</style>\n",
       "<table border=\"1\" class=\"dataframe\">\n",
       "  <thead>\n",
       "    <tr style=\"text-align: right;\">\n",
       "      <th></th>\n",
       "      <th>code</th>\n",
       "      <th>400</th>\n",
       "      <th>404</th>\n",
       "      <th>408</th>\n",
       "      <th>412</th>\n",
       "      <th>416</th>\n",
       "      <th>420</th>\n",
       "      <th>424</th>\n",
       "      <th>428</th>\n",
       "      <th>432</th>\n",
       "      <th>...</th>\n",
       "      <th>2460</th>\n",
       "      <th>2464</th>\n",
       "      <th>2468</th>\n",
       "      <th>2472</th>\n",
       "      <th>2476</th>\n",
       "      <th>2480</th>\n",
       "      <th>2484</th>\n",
       "      <th>2488</th>\n",
       "      <th>2492</th>\n",
       "      <th>2496</th>\n",
       "    </tr>\n",
       "  </thead>\n",
       "  <tbody>\n",
       "    <tr>\n",
       "      <th>0</th>\n",
       "      <td>3T1A1</td>\n",
       "      <td>0.2195</td>\n",
       "      <td>0.2254</td>\n",
       "      <td>0.2296</td>\n",
       "      <td>0.2326</td>\n",
       "      <td>0.2342</td>\n",
       "      <td>0.2354</td>\n",
       "      <td>0.2348</td>\n",
       "      <td>0.2337</td>\n",
       "      <td>0.2320</td>\n",
       "      <td>...</td>\n",
       "      <td>0.5378</td>\n",
       "      <td>0.5439</td>\n",
       "      <td>0.5496</td>\n",
       "      <td>0.5548</td>\n",
       "      <td>0.5591</td>\n",
       "      <td>0.5625</td>\n",
       "      <td>0.5650</td>\n",
       "      <td>0.5665</td>\n",
       "      <td>0.5672</td>\n",
       "      <td>0.5672</td>\n",
       "    </tr>\n",
       "    <tr>\n",
       "      <th>1</th>\n",
       "      <td>3T1A2</td>\n",
       "      <td>0.2166</td>\n",
       "      <td>0.2222</td>\n",
       "      <td>0.2262</td>\n",
       "      <td>0.2290</td>\n",
       "      <td>0.2308</td>\n",
       "      <td>0.2316</td>\n",
       "      <td>0.2309</td>\n",
       "      <td>0.2299</td>\n",
       "      <td>0.2282</td>\n",
       "      <td>...</td>\n",
       "      <td>0.5290</td>\n",
       "      <td>0.5351</td>\n",
       "      <td>0.5408</td>\n",
       "      <td>0.5459</td>\n",
       "      <td>0.5502</td>\n",
       "      <td>0.5536</td>\n",
       "      <td>0.5561</td>\n",
       "      <td>0.5577</td>\n",
       "      <td>0.5583</td>\n",
       "      <td>0.5583</td>\n",
       "    </tr>\n",
       "    <tr>\n",
       "      <th>2</th>\n",
       "      <td>3T1H1</td>\n",
       "      <td>0.2261</td>\n",
       "      <td>0.2327</td>\n",
       "      <td>0.2369</td>\n",
       "      <td>0.2398</td>\n",
       "      <td>0.2414</td>\n",
       "      <td>0.2418</td>\n",
       "      <td>0.2410</td>\n",
       "      <td>0.2395</td>\n",
       "      <td>0.2374</td>\n",
       "      <td>...</td>\n",
       "      <td>0.5507</td>\n",
       "      <td>0.5567</td>\n",
       "      <td>0.5623</td>\n",
       "      <td>0.5673</td>\n",
       "      <td>0.5715</td>\n",
       "      <td>0.5748</td>\n",
       "      <td>0.5771</td>\n",
       "      <td>0.5786</td>\n",
       "      <td>0.5793</td>\n",
       "      <td>0.5792</td>\n",
       "    </tr>\n",
       "    <tr>\n",
       "      <th>3</th>\n",
       "      <td>3T1H2</td>\n",
       "      <td>0.2314</td>\n",
       "      <td>0.2377</td>\n",
       "      <td>0.2417</td>\n",
       "      <td>0.2444</td>\n",
       "      <td>0.2458</td>\n",
       "      <td>0.2461</td>\n",
       "      <td>0.2451</td>\n",
       "      <td>0.2433</td>\n",
       "      <td>0.2408</td>\n",
       "      <td>...</td>\n",
       "      <td>0.5468</td>\n",
       "      <td>0.5527</td>\n",
       "      <td>0.5582</td>\n",
       "      <td>0.5632</td>\n",
       "      <td>0.5673</td>\n",
       "      <td>0.5705</td>\n",
       "      <td>0.5728</td>\n",
       "      <td>0.5742</td>\n",
       "      <td>0.5749</td>\n",
       "      <td>0.5749</td>\n",
       "    </tr>\n",
       "    <tr>\n",
       "      <th>4</th>\n",
       "      <td>3T2A1</td>\n",
       "      <td>0.2378</td>\n",
       "      <td>0.2438</td>\n",
       "      <td>0.2480</td>\n",
       "      <td>0.2507</td>\n",
       "      <td>0.2519</td>\n",
       "      <td>0.2523</td>\n",
       "      <td>0.2509</td>\n",
       "      <td>0.2493</td>\n",
       "      <td>0.2470</td>\n",
       "      <td>...</td>\n",
       "      <td>0.5838</td>\n",
       "      <td>0.5904</td>\n",
       "      <td>0.5965</td>\n",
       "      <td>0.6020</td>\n",
       "      <td>0.6067</td>\n",
       "      <td>0.6104</td>\n",
       "      <td>0.6129</td>\n",
       "      <td>0.6146</td>\n",
       "      <td>0.6153</td>\n",
       "      <td>0.6153</td>\n",
       "    </tr>\n",
       "    <tr>\n",
       "      <th>...</th>\n",
       "      <td>...</td>\n",
       "      <td>...</td>\n",
       "      <td>...</td>\n",
       "      <td>...</td>\n",
       "      <td>...</td>\n",
       "      <td>...</td>\n",
       "      <td>...</td>\n",
       "      <td>...</td>\n",
       "      <td>...</td>\n",
       "      <td>...</td>\n",
       "      <td>...</td>\n",
       "      <td>...</td>\n",
       "      <td>...</td>\n",
       "      <td>...</td>\n",
       "      <td>...</td>\n",
       "      <td>...</td>\n",
       "      <td>...</td>\n",
       "      <td>...</td>\n",
       "      <td>...</td>\n",
       "      <td>...</td>\n",
       "      <td>...</td>\n",
       "    </tr>\n",
       "    <tr>\n",
       "      <th>135</th>\n",
       "      <td>4D8A2</td>\n",
       "      <td>0.3360</td>\n",
       "      <td>0.3466</td>\n",
       "      <td>0.3551</td>\n",
       "      <td>0.3604</td>\n",
       "      <td>0.3637</td>\n",
       "      <td>0.3642</td>\n",
       "      <td>0.3633</td>\n",
       "      <td>0.3612</td>\n",
       "      <td>0.3587</td>\n",
       "      <td>...</td>\n",
       "      <td>0.7363</td>\n",
       "      <td>0.7430</td>\n",
       "      <td>0.7493</td>\n",
       "      <td>0.7550</td>\n",
       "      <td>0.7598</td>\n",
       "      <td>0.7636</td>\n",
       "      <td>0.7662</td>\n",
       "      <td>0.7679</td>\n",
       "      <td>0.7687</td>\n",
       "      <td>0.7689</td>\n",
       "    </tr>\n",
       "    <tr>\n",
       "      <th>136</th>\n",
       "      <td>4D9A1</td>\n",
       "      <td>0.3002</td>\n",
       "      <td>0.3106</td>\n",
       "      <td>0.3190</td>\n",
       "      <td>0.3243</td>\n",
       "      <td>0.3278</td>\n",
       "      <td>0.3294</td>\n",
       "      <td>0.3289</td>\n",
       "      <td>0.3278</td>\n",
       "      <td>0.3266</td>\n",
       "      <td>...</td>\n",
       "      <td>0.6854</td>\n",
       "      <td>0.6925</td>\n",
       "      <td>0.6990</td>\n",
       "      <td>0.7048</td>\n",
       "      <td>0.7098</td>\n",
       "      <td>0.7137</td>\n",
       "      <td>0.7165</td>\n",
       "      <td>0.7181</td>\n",
       "      <td>0.7189</td>\n",
       "      <td>0.7189</td>\n",
       "    </tr>\n",
       "    <tr>\n",
       "      <th>137</th>\n",
       "      <td>4D9A2</td>\n",
       "      <td>0.3531</td>\n",
       "      <td>0.3650</td>\n",
       "      <td>0.3746</td>\n",
       "      <td>0.3808</td>\n",
       "      <td>0.3847</td>\n",
       "      <td>0.3862</td>\n",
       "      <td>0.3859</td>\n",
       "      <td>0.3847</td>\n",
       "      <td>0.3828</td>\n",
       "      <td>...</td>\n",
       "      <td>0.7457</td>\n",
       "      <td>0.7526</td>\n",
       "      <td>0.7589</td>\n",
       "      <td>0.7646</td>\n",
       "      <td>0.7694</td>\n",
       "      <td>0.7732</td>\n",
       "      <td>0.7758</td>\n",
       "      <td>0.7775</td>\n",
       "      <td>0.7784</td>\n",
       "      <td>0.7784</td>\n",
       "    </tr>\n",
       "    <tr>\n",
       "      <th>138</th>\n",
       "      <td>4DXA1</td>\n",
       "      <td>0.3051</td>\n",
       "      <td>0.3152</td>\n",
       "      <td>0.3224</td>\n",
       "      <td>0.3268</td>\n",
       "      <td>0.3291</td>\n",
       "      <td>0.3292</td>\n",
       "      <td>0.3275</td>\n",
       "      <td>0.3247</td>\n",
       "      <td>0.3219</td>\n",
       "      <td>...</td>\n",
       "      <td>0.6950</td>\n",
       "      <td>0.7020</td>\n",
       "      <td>0.7084</td>\n",
       "      <td>0.7142</td>\n",
       "      <td>0.7191</td>\n",
       "      <td>0.7229</td>\n",
       "      <td>0.7256</td>\n",
       "      <td>0.7273</td>\n",
       "      <td>0.7282</td>\n",
       "      <td>0.7282</td>\n",
       "    </tr>\n",
       "    <tr>\n",
       "      <th>139</th>\n",
       "      <td>4DXA2</td>\n",
       "      <td>0.3422</td>\n",
       "      <td>0.3530</td>\n",
       "      <td>0.3621</td>\n",
       "      <td>0.3671</td>\n",
       "      <td>0.3695</td>\n",
       "      <td>0.3694</td>\n",
       "      <td>0.3675</td>\n",
       "      <td>0.3645</td>\n",
       "      <td>0.3610</td>\n",
       "      <td>...</td>\n",
       "      <td>0.7463</td>\n",
       "      <td>0.7532</td>\n",
       "      <td>0.7597</td>\n",
       "      <td>0.7653</td>\n",
       "      <td>0.7702</td>\n",
       "      <td>0.7741</td>\n",
       "      <td>0.7767</td>\n",
       "      <td>0.7783</td>\n",
       "      <td>0.7793</td>\n",
       "      <td>0.7794</td>\n",
       "    </tr>\n",
       "  </tbody>\n",
       "</table>\n",
       "<p>140 rows × 526 columns</p>\n",
       "</div>"
      ],
      "text/plain": [
       "      code     400     404     408     412     416     420     424     428  \\\n",
       "0    3T1A1  0.2195  0.2254  0.2296  0.2326  0.2342  0.2354  0.2348  0.2337   \n",
       "1    3T1A2  0.2166  0.2222  0.2262  0.2290  0.2308  0.2316  0.2309  0.2299   \n",
       "2    3T1H1  0.2261  0.2327  0.2369  0.2398  0.2414  0.2418  0.2410  0.2395   \n",
       "3    3T1H2  0.2314  0.2377  0.2417  0.2444  0.2458  0.2461  0.2451  0.2433   \n",
       "4    3T2A1  0.2378  0.2438  0.2480  0.2507  0.2519  0.2523  0.2509  0.2493   \n",
       "..     ...     ...     ...     ...     ...     ...     ...     ...     ...   \n",
       "135  4D8A2  0.3360  0.3466  0.3551  0.3604  0.3637  0.3642  0.3633  0.3612   \n",
       "136  4D9A1  0.3002  0.3106  0.3190  0.3243  0.3278  0.3294  0.3289  0.3278   \n",
       "137  4D9A2  0.3531  0.3650  0.3746  0.3808  0.3847  0.3862  0.3859  0.3847   \n",
       "138  4DXA1  0.3051  0.3152  0.3224  0.3268  0.3291  0.3292  0.3275  0.3247   \n",
       "139  4DXA2  0.3422  0.3530  0.3621  0.3671  0.3695  0.3694  0.3675  0.3645   \n",
       "\n",
       "        432  ...    2460    2464    2468    2472    2476    2480    2484  \\\n",
       "0    0.2320  ...  0.5378  0.5439  0.5496  0.5548  0.5591  0.5625  0.5650   \n",
       "1    0.2282  ...  0.5290  0.5351  0.5408  0.5459  0.5502  0.5536  0.5561   \n",
       "2    0.2374  ...  0.5507  0.5567  0.5623  0.5673  0.5715  0.5748  0.5771   \n",
       "3    0.2408  ...  0.5468  0.5527  0.5582  0.5632  0.5673  0.5705  0.5728   \n",
       "4    0.2470  ...  0.5838  0.5904  0.5965  0.6020  0.6067  0.6104  0.6129   \n",
       "..      ...  ...     ...     ...     ...     ...     ...     ...     ...   \n",
       "135  0.3587  ...  0.7363  0.7430  0.7493  0.7550  0.7598  0.7636  0.7662   \n",
       "136  0.3266  ...  0.6854  0.6925  0.6990  0.7048  0.7098  0.7137  0.7165   \n",
       "137  0.3828  ...  0.7457  0.7526  0.7589  0.7646  0.7694  0.7732  0.7758   \n",
       "138  0.3219  ...  0.6950  0.7020  0.7084  0.7142  0.7191  0.7229  0.7256   \n",
       "139  0.3610  ...  0.7463  0.7532  0.7597  0.7653  0.7702  0.7741  0.7767   \n",
       "\n",
       "       2488    2492    2496  \n",
       "0    0.5665  0.5672  0.5672  \n",
       "1    0.5577  0.5583  0.5583  \n",
       "2    0.5786  0.5793  0.5792  \n",
       "3    0.5742  0.5749  0.5749  \n",
       "4    0.6146  0.6153  0.6153  \n",
       "..      ...     ...     ...  \n",
       "135  0.7679  0.7687  0.7689  \n",
       "136  0.7181  0.7189  0.7189  \n",
       "137  0.7775  0.7784  0.7784  \n",
       "138  0.7273  0.7282  0.7282  \n",
       "139  0.7783  0.7793  0.7794  \n",
       "\n",
       "[140 rows x 526 columns]"
      ]
     },
     "execution_count": 11,
     "metadata": {},
     "output_type": "execute_result"
    }
   ],
   "source": [
    "spectres_farines"
   ]
  },
  {
   "cell_type": "code",
   "execution_count": 12,
   "metadata": {},
   "outputs": [
    {
     "data": {
      "text/html": [
       "<div>\n",
       "<style scoped>\n",
       "    .dataframe tbody tr th:only-of-type {\n",
       "        vertical-align: middle;\n",
       "    }\n",
       "\n",
       "    .dataframe tbody tr th {\n",
       "        vertical-align: top;\n",
       "    }\n",
       "\n",
       "    .dataframe thead th {\n",
       "        text-align: right;\n",
       "    }\n",
       "</style>\n",
       "<table border=\"1\" class=\"dataframe\">\n",
       "  <thead>\n",
       "    <tr style=\"text-align: right;\">\n",
       "      <th></th>\n",
       "      <th>code</th>\n",
       "      <th>PROTREF</th>\n",
       "      <th>dur/tendre</th>\n",
       "    </tr>\n",
       "  </thead>\n",
       "  <tbody>\n",
       "    <tr>\n",
       "      <th>0</th>\n",
       "      <td>3T1A1</td>\n",
       "      <td>8.9</td>\n",
       "      <td>T</td>\n",
       "    </tr>\n",
       "    <tr>\n",
       "      <th>1</th>\n",
       "      <td>3T1A2</td>\n",
       "      <td>8.7</td>\n",
       "      <td>T</td>\n",
       "    </tr>\n",
       "    <tr>\n",
       "      <th>2</th>\n",
       "      <td>3T1H1</td>\n",
       "      <td>11.6</td>\n",
       "      <td>T</td>\n",
       "    </tr>\n",
       "    <tr>\n",
       "      <th>3</th>\n",
       "      <td>3T1H2</td>\n",
       "      <td>12.7</td>\n",
       "      <td>T</td>\n",
       "    </tr>\n",
       "    <tr>\n",
       "      <th>4</th>\n",
       "      <td>3T2A1</td>\n",
       "      <td>9.1</td>\n",
       "      <td>T</td>\n",
       "    </tr>\n",
       "    <tr>\n",
       "      <th>...</th>\n",
       "      <td>...</td>\n",
       "      <td>...</td>\n",
       "      <td>...</td>\n",
       "    </tr>\n",
       "    <tr>\n",
       "      <th>135</th>\n",
       "      <td>4D8A2</td>\n",
       "      <td>11.7</td>\n",
       "      <td>D</td>\n",
       "    </tr>\n",
       "    <tr>\n",
       "      <th>136</th>\n",
       "      <td>4D9A1</td>\n",
       "      <td>9.9</td>\n",
       "      <td>D</td>\n",
       "    </tr>\n",
       "    <tr>\n",
       "      <th>137</th>\n",
       "      <td>4D9A2</td>\n",
       "      <td>12.1</td>\n",
       "      <td>D</td>\n",
       "    </tr>\n",
       "    <tr>\n",
       "      <th>138</th>\n",
       "      <td>4DXA1</td>\n",
       "      <td>9.8</td>\n",
       "      <td>D</td>\n",
       "    </tr>\n",
       "    <tr>\n",
       "      <th>139</th>\n",
       "      <td>4DXA2</td>\n",
       "      <td>11.7</td>\n",
       "      <td>D</td>\n",
       "    </tr>\n",
       "  </tbody>\n",
       "</table>\n",
       "<p>140 rows × 3 columns</p>\n",
       "</div>"
      ],
      "text/plain": [
       "            code  PROTREF dur/tendre\n",
       "0    3T1A1            8.9          T\n",
       "1    3T1A2            8.7          T\n",
       "2    3T1H1           11.6          T\n",
       "3    3T1H2           12.7          T\n",
       "4    3T2A1            9.1          T\n",
       "..           ...      ...        ...\n",
       "135  4D8A2           11.7          D\n",
       "136  4D9A1            9.9          D\n",
       "137  4D9A2           12.1          D\n",
       "138  4DXA1            9.8          D\n",
       "139  4DXA2           11.7          D\n",
       "\n",
       "[140 rows x 3 columns]"
      ]
     },
     "execution_count": 12,
     "metadata": {},
     "output_type": "execute_result"
    }
   ],
   "source": [
    "infos_farines"
   ]
  },
  {
   "cell_type": "markdown",
   "metadata": {},
   "source": [
    "### 2-1 Dessinez la courbe du spectre moyen, puis dessinez la courbe des  ́ecart-types `a toutes les longueurs d’onde. Que peut-on conclure de ces deux courbes ?\n"
   ]
  },
  {
   "cell_type": "code",
   "execution_count": 13,
   "metadata": {},
   "outputs": [
    {
     "data": {
      "text/plain": [
       "400     0.304078\n",
       "404     0.313253\n",
       "408     0.319940\n",
       "412     0.323846\n",
       "416     0.325559\n",
       "          ...   \n",
       "2480    0.704823\n",
       "2484    0.707391\n",
       "2488    0.709027\n",
       "2492    0.709819\n",
       "2496    0.709826\n",
       "Length: 525, dtype: float64"
      ]
     },
     "execution_count": 13,
     "metadata": {},
     "output_type": "execute_result"
    }
   ],
   "source": [
    "spectres_moyens =  spectres_farines.copy()\n",
    "spectres_moyens= spectres_moyens.drop(spectres_moyens.columns[0], axis=1)\n",
    "spectres_moyens= np.mean(spectres_moyens,axis=0)\n",
    "spectres_moyens"
   ]
  },
  {
   "cell_type": "code",
   "execution_count": 14,
   "metadata": {},
   "outputs": [
    {
     "data": {
      "image/png": "[encoded data removed]",
      "text/plain": [
       "<Figure size 576x432 with 1 Axes>"
      ]
     },
     "metadata": {
      "needs_background": "light"
     },
     "output_type": "display_data"
    }
   ],
   "source": [
    "#spectres moyens en fonction des longueurs d'ondes\n",
    "plt.figure(figsize=(8, 6))\n",
    "plt.plot( np.array(spectres_moyens.index, dtype=float), spectres_moyens.values, marker='o', linestyle='-')\n",
    "plt.xlabel('Longueur d\\'onde (nm)')\n",
    "plt.ylabel('Intensité')\n",
    "plt.title('Spectre moyens')\n",
    "plt.show()"
   ]
  },
  {
   "cell_type": "code",
   "execution_count": 15,
   "metadata": {},
   "outputs": [
    {
     "data": {
      "text/plain": [
       "400     0.057020\n",
       "404     0.059242\n",
       "408     0.060785\n",
       "412     0.061535\n",
       "416     0.061781\n",
       "          ...   \n",
       "2480    0.083534\n",
       "2484    0.083614\n",
       "2488    0.083697\n",
       "2492    0.083775\n",
       "2496    0.083835\n",
       "Length: 525, dtype: float64"
      ]
     },
     "execution_count": 15,
     "metadata": {},
     "output_type": "execute_result"
    }
   ],
   "source": [
    "ecarttypes_spectres =  spectres_farines.copy()\n",
    "ecarttypes_spectres= ecarttypes_spectres.drop(ecarttypes_spectres.columns[0], axis=1)\n",
    "ecarttypes_spectres= np.std(ecarttypes_spectres,axis=0)\n",
    "ecarttypes_spectres"
   ]
  },
  {
   "cell_type": "code",
   "execution_count": 16,
   "metadata": {},
   "outputs": [
    {
     "data": {
      "image/png": "[encoded data removed]",
      "text/plain": [
       "<Figure size 576x432 with 1 Axes>"
      ]
     },
     "metadata": {
      "needs_background": "light"
     },
     "output_type": "display_data"
    }
   ],
   "source": [
    "#spectres moyens en fonction des longueurs d'ondes\n",
    "plt.figure(figsize=(8, 6))\n",
    "plt.plot( np.array(ecarttypes_spectres.index, dtype=float), ecarttypes_spectres.values, marker='o', linestyle='-')\n",
    "plt.xlabel('Longueur d\\'onde (nm)')\n",
    "plt.ylabel('Intensité')\n",
    "plt.title('ecart types moyens des spectres')\n",
    "plt.show()"
   ]
  },
  {
   "cell_type": "markdown",
   "metadata": {},
   "source": [
    "On a pas de différence majeures au niveau du signal hors mi l'intensité qui diffère"
   ]
  },
  {
   "cell_type": "markdown",
   "metadata": {},
   "source": [
    "### 2-2  Dessinez le corrélogramme entre les spectres et la teneur en prot ́eines. Que peut-on en conclure ?\n",
    " \n",
    " cela revient a calculer la corrélation entre chaque colonne du df et la matrice colonne contenant les teneur par la suite calculer representer sees corelation en fonction des longueurs d'ondes \n",
    " - calcul des corelation matrice teneur proteines et chaque colonne \n",
    " - recupération des valeurs\n",
    " - representation des valeurs de corelations en fonction des longueurs d'ondes \n"
   ]
  },
  {
   "cell_type": "code",
   "execution_count": 33,
   "metadata": {},
   "outputs": [
    {
     "data": {
      "text/plain": [
       "Index(['code', 'PROTREF', 'dur/tendre', 'code', '400', '404', '408', '412',\n",
       "       '416', '420',\n",
       "       ...\n",
       "       '2460', '2464', '2468', '2472', '2476', '2480', '2484', '2488', '2492',\n",
       "       '2496'],\n",
       "      dtype='object', length=529)"
      ]
     },
     "execution_count": 33,
     "metadata": {},
     "output_type": "execute_result"
    }
   ],
   "source": [
    "# création d'un dataframe contenant toute les colonnes spectrales et aussi teneur \n",
    "\n",
    "spectres_uni = pd.concat([infos_farines,spectres_farines], axis = 1)\n",
    "spectres_uni.columns"
   ]
  },
  {
   "cell_type": "code",
   "execution_count": 82,
   "metadata": {},
   "outputs": [
    {
     "data": {
      "text/plain": [
       "400     0.715649\n",
       "404     0.718239\n",
       "408     0.721641\n",
       "412     0.723582\n",
       "416     0.724314\n",
       "          ...   \n",
       "2480    0.636195\n",
       "2484    0.635169\n",
       "2488    0.634579\n",
       "2492    0.634230\n",
       "2496    0.634244\n",
       "Name: PROTREF, Length: 525, dtype: float64"
      ]
     },
     "execution_count": 82,
     "metadata": {},
     "output_type": "execute_result"
    }
   ],
   "source": [
    "colonnes_a_comparer =list(spectres_uni.columns)\n",
    "colonnes_a_comparer = np.delete(colonnes_a_comparer,[0,2,3])\n",
    "colonnes_a_comparer\n",
    "corr= spectres_uni[colonnes_a_comparer].corr()\n",
    "corr = corr.loc['PROTREF']\n",
    "corr = corr.drop(\"PROTREF\",axis=0) # suppression de Protref\n",
    "corr\n"
   ]
  },
  {
   "cell_type": "code",
   "execution_count": 83,
   "metadata": {},
   "outputs": [
    {
     "data": {
      "image/png": "[encoded data removed]",
      "text/plain": [
       "<Figure size 576x432 with 1 Axes>"
      ]
     },
     "metadata": {
      "needs_background": "light"
     },
     "output_type": "display_data"
    }
   ],
   "source": [
    "#spectres moyens en fonction des longueurs d'ondes\n",
    "plt.figure(figsize=(8, 6))\n",
    "plt.plot( np.array(corr.index, dtype=float), corr.values, marker='o', linestyle='-')\n",
    "plt.xlabel('Longueur d\\'onde (nm)')\n",
    "plt.ylabel('Intensité')\n",
    "plt.title('correlation entre la quantité de protéine et les spectres')\n",
    "plt.show()"
   ]
  },
  {
   "cell_type": "markdown",
   "metadata": {},
   "source": [
    "### 2-2 Construire l’histogramme de la variable « protéines » en représentant l’appartenance des  échantillons à leur classe. Que peut-on en conclure ?"
   ]
  },
  {
   "cell_type": "code",
   "execution_count": 93,
   "metadata": {},
   "outputs": [
    {
     "data": {
      "text/plain": [
       "Text(0.5, 1.0, \"representation de l'histogramme de la variable protéine en repesentant l'appartenance des echantillons à leur classe\")"
      ]
     },
     "execution_count": 93,
     "metadata": {},
     "output_type": "execute_result"
    },
    {
     "data": {
      "image/png": "[encoded data removed]",
      "text/plain": [
       "<Figure size 576x432 with 1 Axes>"
      ]
     },
     "metadata": {
      "needs_background": "light"
     },
     "output_type": "display_data"
    }
   ],
   "source": [
    "# representation de l'histogramme de la variable protéine en repesentant l'appartenance des echantillons à leur classe\n",
    "plt.figure(figsize=(8, 6))\n",
    "sns.histplot(infos_farines,x='PROTREF',hue='dur/tendre')\n",
    "plt.title(\"representation de l'histogramme de la variable protéine en repesentant l'appartenance des echantillons à leur classe\")"
   ]
  },
  {
   "cell_type": "markdown",
   "metadata": {},
   "source": [
    "### Conclusion \n",
    "Il y un lien entre la variable dur/tendre et la variable PROTREF. Lorsque que la quantité de protéine dans le blé est faible le blé est dit tendre tandis que lorsque le blé a une quantité élévé de protéine le blé est dit dur.\n",
    "explication : https://fr.wikipedia.org/wiki/Blé_dur"
   ]
  },
  {
   "cell_type": "markdown",
   "metadata": {},
   "source": [
    "### 2-4 Construire de la même manière l’histogramme de la longueur d’onde 2000 nanomètres. La figure finale devrait comporter dans les 10 - 20 classes. Que peut-on en conclure ?"
   ]
  },
  {
   "cell_type": "code",
   "execution_count": 96,
   "metadata": {},
   "outputs": [
    {
     "data": {
      "text/plain": [
       "Text(0.5, 1.0, 'representation de  l’histogramme de la longueur d’onde 2000 nanomètres')"
      ]
     },
     "execution_count": 96,
     "metadata": {},
     "output_type": "execute_result"
    },
    {
     "data": {
      "image/png": "[encoded data removed]",
      "text/plain": [
       "<Figure size 576x432 with 1 Axes>"
      ]
     },
     "metadata": {
      "needs_background": "light"
     },
     "output_type": "display_data"
    }
   ],
   "source": [
    "plt.figure(figsize=(8, 6))\n",
    "sns.histplot(spectres_uni,x='2000',hue='dur/tendre',binwidth=0.02)\n",
    "plt.title(\"representation de  l’histogramme de la longueur d’onde 2000 nanomètres\")"
   ]
  },
  {
   "cell_type": "markdown",
   "metadata": {},
   "source": [
    "#### conclusion \n",
    "l’histogramme de la longueur d’onde 2000 nanomètres montre qu'il y a une différence entre les blé dur et tendre \n",
    "Les blés dur on une absorbance plus élévé que les blés tendre à la longueur d'onde 2000\n",
    "\n",
    "- Explication physique : Les blés sont broyés par une méthode de broyage standardisée.\n",
    "Les blés tendres à l'issue de ce broyage produisent de la farine de granulométrie plus fine tandis que les blés dur produisent de la farine de granulométrie plus élévées.\n",
    "La granulométrie a un impact direct en spectroscopie proche infrarouge cela se traduit par une intensité plus élévée pour une granulométrie élévé"
   ]
  },
  {
   "cell_type": "code",
   "execution_count": null,
   "metadata": {},
   "outputs": [],
   "source": []
  }
 ],
 "metadata": {
  "kernelspec": {
   "display_name": "Python 3",
   "language": "python",
   "name": "python3"
  },
  "language_info": {
   "codemirror_mode": {
    "name": "ipython",
    "version": 3
   },
   "file_extension": ".py",
   "mimetype": "text/x-python",
   "name": "python",
   "nbconvert_exporter": "python",
   "pygments_lexer": "ipython3",
   "version": "3.9.12"
  },
  "orig_nbformat": 4
 },
 "nbformat": 4,
 "nbformat_minor": 2
}
